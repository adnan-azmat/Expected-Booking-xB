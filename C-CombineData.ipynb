{
 "cells": [
  {
   "cell_type": "code",
   "execution_count": 1,
   "metadata": {},
   "outputs": [],
   "source": [
    "import os\n",
    "import warnings\n",
    "import tqdm\n",
    "import pandas as pd\n",
    "\n",
    "import socceraction.spadl as spadl\n",
    "import socceraction.vaep.formula as vaepformula\n",
    "\n",
    "warnings.simplefilter(action='ignore', category=pd.errors.PerformanceWarning)"
   ]
  },
  {
   "cell_type": "code",
   "execution_count": 2,
   "metadata": {},
   "outputs": [],
   "source": [
    "datafolder = \"/home/msai/adnan002/repos/xB-360/data\"\n",
    "# create data folder if it does not exist\n",
    "if not os.path.exists(datafolder):\n",
    "    os.makedirs(datafolder)\n",
    "    \n",
    "spadl_h5 = os.path.join(datafolder, \"spadl-statsbomb.h5\")\n",
    "predictions_h5 = os.path.join(datafolder, \"predictions.h5\")"
   ]
  },
  {
   "cell_type": "code",
   "execution_count": 3,
   "metadata": {},
   "outputs": [
    {
     "name": "stdout",
     "output_type": "stream",
     "text": [
      "nb of games: 245\n"
     ]
    }
   ],
   "source": [
    "with pd.HDFStore(spadl_h5) as spadlstore:\n",
    "    games = (\n",
    "        spadlstore[\"games\"]\n",
    "        .merge(spadlstore[\"competitions\"], how='left')\n",
    "        .merge(spadlstore[\"teams\"].add_prefix('home_'), how='left')\n",
    "        .merge(spadlstore[\"teams\"].add_prefix('away_'), how='left'))\n",
    "    players = spadlstore[\"players\"]\n",
    "    teams = spadlstore[\"teams\"]\n",
    "print(\"nb of games:\", len(games))"
   ]
  },
  {
   "cell_type": "code",
   "execution_count": 4,
   "metadata": {},
   "outputs": [
    {
     "name": "stderr",
     "output_type": "stream",
     "text": [
      "Rating actions: 100%|██████████| 245/245 [00:11<00:00, 20.98it/s]\n"
     ]
    },
    {
     "data": {
      "text/plain": [
       "Index(['game_id', 'original_event_id', 'period_id', 'time_seconds', 'team_id',\n",
       "       'player_id', 'start_x', 'start_y', 'end_x', 'end_y', 'type_id',\n",
       "       'result_id', 'bodypart_id', 'action_id', 'type_name', 'result_name',\n",
       "       'bodypart_name', 'player_name', 'nickname', 'team_name', 'scores',\n",
       "       'concedes', 'offensive_value', 'defensive_value', 'vaep_value'],\n",
       "      dtype='object')"
      ]
     },
     "execution_count": 4,
     "metadata": {},
     "output_type": "execute_result"
    }
   ],
   "source": [
    "A = []\n",
    "for game in tqdm.tqdm(list(games.itertuples()), desc=\"Rating actions\"):\n",
    "    actions = pd.read_hdf(spadl_h5, f\"actions/game_{game.game_id}\")\n",
    "    actions = (\n",
    "        spadl.add_names(actions)\n",
    "        .merge(players, how=\"left\")\n",
    "        .merge(teams, how=\"left\")\n",
    "        .sort_values([\"game_id\", \"period_id\", \"action_id\"])\n",
    "        .reset_index(drop=True)\n",
    "    )\n",
    "    preds = pd.read_hdf(predictions_h5, f\"game_{game.game_id}\")\n",
    "    values = vaepformula.value(actions, preds.scores, preds.concedes)\n",
    "    A.append(pd.concat([actions, preds, values], axis=1))\n",
    "A = pd.concat(A).sort_values([\"game_id\", \"period_id\", \"time_seconds\"]).reset_index(drop=True)\n",
    "A.columns"
   ]
  },
  {
   "cell_type": "code",
   "execution_count": 5,
   "metadata": {},
   "outputs": [],
   "source": [
    "# Load all_fouls_advanced.pkl\n",
    "all_fouls_advanced = pd.read_pickle(\"all_fouls_advanced.pkl\")"
   ]
  },
  {
   "cell_type": "code",
   "execution_count": 6,
   "metadata": {},
   "outputs": [
    {
     "name": "stderr",
     "output_type": "stream",
     "text": [
      "/tmp/ipykernel_1972407/3455718214.py:11: SettingWithCopyWarning: \n",
      "A value is trying to be set on a copy of a slice from a DataFrame\n",
      "\n",
      "See the caveats in the documentation: https://pandas.pydata.org/pandas-docs/stable/user_guide/indexing.html#returning-a-view-versus-a-copy\n",
      "  all_fouls_advanced['vaep_value_offensive'][i] = A['offensive_value'][all_fouls_advanced['id'][i]]\n"
     ]
    }
   ],
   "source": [
    "import numpy as np\n",
    "\n",
    "all_fouls_advanced['vaep_value_offensive'] = np.nan\n",
    "\n",
    "\n",
    "# Make original_event_id column in A dataframe as it's index\n",
    "A = A.set_index('original_event_id')\n",
    "\n",
    "# all_fouls_advanced['id'] has values from 'original_event_id' column in A dataframe. Fill the values of 'vaep_value_offensive' column in all_fouls_advanced dataframe with the values of 'offensive_value' column in A dataframe\n",
    "for i in range(len(all_fouls_advanced)):\n",
    "    all_fouls_advanced['vaep_value_offensive'][i] = A['offensive_value'][all_fouls_advanced['id'][i]]"
   ]
  },
  {
   "cell_type": "code",
   "execution_count": 7,
   "metadata": {},
   "outputs": [
    {
     "name": "stdout",
     "output_type": "stream",
     "text": [
      "1684\n",
      "1684\n"
     ]
    }
   ],
   "source": [
    "print (len(all_fouls_advanced))\n",
    "# Remove the rows in all_fouls_advanced and testing_fouls_advanced where vaep_value_offensive is NaN\n",
    "all_fouls_advanced = all_fouls_advanced.dropna(subset=['vaep_value_offensive'])\n",
    "print (len(all_fouls_advanced))"
   ]
  },
  {
   "cell_type": "code",
   "execution_count": 18,
   "metadata": {},
   "outputs": [],
   "source": [
    "\n",
    "all_fouls_advanced.to_pickle(\"all_fouls_advanced_with_vaep.pkl\")\n"
   ]
  },
  {
   "cell_type": "code",
   "execution_count": 19,
   "metadata": {},
   "outputs": [
    {
     "data": {
      "text/html": [
       "<div>\n",
       "<style scoped>\n",
       "    .dataframe tbody tr th:only-of-type {\n",
       "        vertical-align: middle;\n",
       "    }\n",
       "\n",
       "    .dataframe tbody tr th {\n",
       "        vertical-align: top;\n",
       "    }\n",
       "\n",
       "    .dataframe thead th {\n",
       "        text-align: right;\n",
       "    }\n",
       "</style>\n",
       "<table border=\"1\" class=\"dataframe\">\n",
       "  <thead>\n",
       "    <tr style=\"text-align: right;\">\n",
       "      <th></th>\n",
       "      <th>foul_committed_advantage</th>\n",
       "      <th>foul_committed_offensive</th>\n",
       "      <th>foul_committed_penalty</th>\n",
       "      <th>foul_committed_card</th>\n",
       "      <th>foul_committed_counterpress</th>\n",
       "      <th>foul_committed_type</th>\n",
       "      <th>foul_won_advantage</th>\n",
       "      <th>foul_won_defensive</th>\n",
       "      <th>foul_won_penalty</th>\n",
       "      <th>id</th>\n",
       "      <th>...</th>\n",
       "      <th>team_id</th>\n",
       "      <th>timestamp</th>\n",
       "      <th>type</th>\n",
       "      <th>seconds_till_now</th>\n",
       "      <th>scoreline_till_now</th>\n",
       "      <th>distance_to_goal</th>\n",
       "      <th>angle_to_goal</th>\n",
       "      <th>foul_count_player_till_now</th>\n",
       "      <th>foul_count_team_till_now</th>\n",
       "      <th>vaep_value_offensive</th>\n",
       "    </tr>\n",
       "  </thead>\n",
       "  <tbody>\n",
       "    <tr>\n",
       "      <th>0</th>\n",
       "      <td>NaN</td>\n",
       "      <td>NaN</td>\n",
       "      <td>NaN</td>\n",
       "      <td>Yellow Card</td>\n",
       "      <td>NaN</td>\n",
       "      <td>NaN</td>\n",
       "      <td>NaN</td>\n",
       "      <td>NaN</td>\n",
       "      <td>NaN</td>\n",
       "      <td>9221da02-9c87-4f98-a8ea-de9994ad562b</td>\n",
       "      <td>...</td>\n",
       "      <td>773</td>\n",
       "      <td>00:14:27.221</td>\n",
       "      <td>Foul Committed</td>\n",
       "      <td>867</td>\n",
       "      <td>{'Serbia': 0, 'Switzerland': 0, 'Argentina': 0...</td>\n",
       "      <td>37.968408</td>\n",
       "      <td>1.282367</td>\n",
       "      <td>1</td>\n",
       "      <td>1</td>\n",
       "      <td>-0.000196</td>\n",
       "    </tr>\n",
       "  </tbody>\n",
       "</table>\n",
       "<p>1 rows × 33 columns</p>\n",
       "</div>"
      ],
      "text/plain": [
       "  foul_committed_advantage foul_committed_offensive foul_committed_penalty  \\\n",
       "0                      NaN                      NaN                    NaN   \n",
       "\n",
       "  foul_committed_card  foul_committed_counterpress foul_committed_type  \\\n",
       "0         Yellow Card                          NaN                 NaN   \n",
       "\n",
       "  foul_won_advantage foul_won_defensive foul_won_penalty  \\\n",
       "0                NaN                NaN              NaN   \n",
       "\n",
       "                                     id  ...  team_id     timestamp  \\\n",
       "0  9221da02-9c87-4f98-a8ea-de9994ad562b  ...      773  00:14:27.221   \n",
       "\n",
       "             type  seconds_till_now  \\\n",
       "0  Foul Committed               867   \n",
       "\n",
       "                                  scoreline_till_now  distance_to_goal  \\\n",
       "0  {'Serbia': 0, 'Switzerland': 0, 'Argentina': 0...         37.968408   \n",
       "\n",
       "  angle_to_goal  foul_count_player_till_now foul_count_team_till_now  \\\n",
       "0      1.282367                           1                        1   \n",
       "\n",
       "   vaep_value_offensive  \n",
       "0             -0.000196  \n",
       "\n",
       "[1 rows x 33 columns]"
      ]
     },
     "execution_count": 19,
     "metadata": {},
     "output_type": "execute_result"
    }
   ],
   "source": [
    "all_fouls_advanced.head(1)"
   ]
  },
  {
   "cell_type": "code",
   "execution_count": null,
   "metadata": {},
   "outputs": [],
   "source": []
  }
 ],
 "metadata": {
  "kernelspec": {
   "display_name": "dlassign",
   "language": "python",
   "name": "python3"
  },
  "language_info": {
   "codemirror_mode": {
    "name": "ipython",
    "version": 3
   },
   "file_extension": ".py",
   "mimetype": "text/x-python",
   "name": "python",
   "nbconvert_exporter": "python",
   "pygments_lexer": "ipython3",
   "version": "3.9.7"
  },
  "orig_nbformat": 4
 },
 "nbformat": 4,
 "nbformat_minor": 2
}
