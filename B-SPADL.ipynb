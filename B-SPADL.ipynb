{
 "cells": [
  {
   "cell_type": "code",
   "execution_count": 1,
   "metadata": {},
   "outputs": [],
   "source": [
    "import os\n",
    "import warnings\n",
    "import pandas as pd\n",
    "pd.set_option('display.max_columns', None)\n",
    "warnings.simplefilter(action='ignore', category=pd.errors.PerformanceWarning)\n",
    "warnings.filterwarnings(action=\"ignore\", message=\"credentials were not supplied. open data access only\")\n",
    "import tqdm"
   ]
  },
  {
   "cell_type": "code",
   "execution_count": 2,
   "metadata": {},
   "outputs": [],
   "source": [
    "%load_ext autoreload\n",
    "%autoreload 2\n",
    "from socceraction.data.statsbomb import StatsBombLoader\n",
    "import socceraction.spadl as spadl"
   ]
  },
  {
   "cell_type": "code",
   "execution_count": 3,
   "metadata": {},
   "outputs": [],
   "source": [
    "SBL = StatsBombLoader(getter=\"remote\", creds={\"user\": None, \"passwd\": None})"
   ]
  },
  {
   "cell_type": "code",
   "execution_count": 4,
   "metadata": {},
   "outputs": [],
   "source": []
  },
  {
   "cell_type": "code",
   "execution_count": 5,
   "metadata": {},
   "outputs": [
    {
     "data": {
      "text/plain": [
       "[[9, 27],\n",
       " [16, 4],\n",
       " [16, 1],\n",
       " [16, 2],\n",
       " [16, 27],\n",
       " [16, 26],\n",
       " [16, 25],\n",
       " [16, 24],\n",
       " [16, 23],\n",
       " [16, 22],\n",
       " [16, 21],\n",
       " [16, 41],\n",
       " [16, 39],\n",
       " [16, 37],\n",
       " [16, 44],\n",
       " [16, 277],\n",
       " [16, 71],\n",
       " [16, 276],\n",
       " [87, 84],\n",
       " [87, 268],\n",
       " [87, 279],\n",
       " [1470, 274],\n",
       " [43, 106],\n",
       " [43, 3],\n",
       " [43, 55],\n",
       " [43, 54],\n",
       " [43, 51],\n",
       " [43, 272],\n",
       " [43, 270],\n",
       " [43, 269],\n",
       " [1238, 108],\n",
       " [11, 90],\n",
       " [11, 42],\n",
       " [11, 4],\n",
       " [11, 1],\n",
       " [11, 2],\n",
       " [11, 27],\n",
       " [11, 26],\n",
       " [11, 25],\n",
       " [11, 24],\n",
       " [11, 23],\n",
       " [11, 22],\n",
       " [11, 21],\n",
       " [11, 41],\n",
       " [11, 40],\n",
       " [11, 39],\n",
       " [11, 38],\n",
       " [11, 37],\n",
       " [11, 278],\n",
       " [81, 48],\n",
       " [81, 275],\n",
       " [7, 27],\n",
       " [116, 68],\n",
       " [2, 27],\n",
       " [2, 44],\n",
       " [12, 27],\n",
       " [12, 86],\n",
       " [55, 43],\n",
       " [35, 75]]"
      ]
     },
     "execution_count": 5,
     "metadata": {},
     "output_type": "execute_result"
    }
   ],
   "source": [
    "# load cmps.pkl as dataframe\n",
    "cmps = pd.read_pickle('cmps.pkl')\n",
    "\n",
    "# create competition_ids and season_ids pairs\n",
    "cmps_ids = cmps[['competition_id', 'season_id']].drop_duplicates().values.tolist()\n",
    "\n",
    "cmps_ids"
   ]
  },
  {
   "cell_type": "code",
   "execution_count": 6,
   "metadata": {},
   "outputs": [
    {
     "data": {
      "text/html": [
       "<div>\n",
       "<style scoped>\n",
       "    .dataframe tbody tr th:only-of-type {\n",
       "        vertical-align: middle;\n",
       "    }\n",
       "\n",
       "    .dataframe tbody tr th {\n",
       "        vertical-align: top;\n",
       "    }\n",
       "\n",
       "    .dataframe thead th {\n",
       "        text-align: right;\n",
       "    }\n",
       "</style>\n",
       "<table border=\"1\" class=\"dataframe\">\n",
       "  <thead>\n",
       "    <tr style=\"text-align: right;\">\n",
       "      <th></th>\n",
       "      <th>season_id</th>\n",
       "      <th>competition_id</th>\n",
       "      <th>competition_name</th>\n",
       "      <th>country_name</th>\n",
       "      <th>competition_gender</th>\n",
       "      <th>season_name</th>\n",
       "    </tr>\n",
       "  </thead>\n",
       "  <tbody>\n",
       "    <tr>\n",
       "      <th>0</th>\n",
       "      <td>27</td>\n",
       "      <td>9</td>\n",
       "      <td>1. Bundesliga</td>\n",
       "      <td>Germany</td>\n",
       "      <td>male</td>\n",
       "      <td>2015/2016</td>\n",
       "    </tr>\n",
       "    <tr>\n",
       "      <th>1</th>\n",
       "      <td>4</td>\n",
       "      <td>16</td>\n",
       "      <td>Champions League</td>\n",
       "      <td>Europe</td>\n",
       "      <td>male</td>\n",
       "      <td>2018/2019</td>\n",
       "    </tr>\n",
       "    <tr>\n",
       "      <th>2</th>\n",
       "      <td>1</td>\n",
       "      <td>16</td>\n",
       "      <td>Champions League</td>\n",
       "      <td>Europe</td>\n",
       "      <td>male</td>\n",
       "      <td>2017/2018</td>\n",
       "    </tr>\n",
       "    <tr>\n",
       "      <th>3</th>\n",
       "      <td>2</td>\n",
       "      <td>16</td>\n",
       "      <td>Champions League</td>\n",
       "      <td>Europe</td>\n",
       "      <td>male</td>\n",
       "      <td>2016/2017</td>\n",
       "    </tr>\n",
       "    <tr>\n",
       "      <th>4</th>\n",
       "      <td>27</td>\n",
       "      <td>16</td>\n",
       "      <td>Champions League</td>\n",
       "      <td>Europe</td>\n",
       "      <td>male</td>\n",
       "      <td>2015/2016</td>\n",
       "    </tr>\n",
       "    <tr>\n",
       "      <th>5</th>\n",
       "      <td>26</td>\n",
       "      <td>16</td>\n",
       "      <td>Champions League</td>\n",
       "      <td>Europe</td>\n",
       "      <td>male</td>\n",
       "      <td>2014/2015</td>\n",
       "    </tr>\n",
       "    <tr>\n",
       "      <th>6</th>\n",
       "      <td>25</td>\n",
       "      <td>16</td>\n",
       "      <td>Champions League</td>\n",
       "      <td>Europe</td>\n",
       "      <td>male</td>\n",
       "      <td>2013/2014</td>\n",
       "    </tr>\n",
       "    <tr>\n",
       "      <th>7</th>\n",
       "      <td>24</td>\n",
       "      <td>16</td>\n",
       "      <td>Champions League</td>\n",
       "      <td>Europe</td>\n",
       "      <td>male</td>\n",
       "      <td>2012/2013</td>\n",
       "    </tr>\n",
       "    <tr>\n",
       "      <th>8</th>\n",
       "      <td>23</td>\n",
       "      <td>16</td>\n",
       "      <td>Champions League</td>\n",
       "      <td>Europe</td>\n",
       "      <td>male</td>\n",
       "      <td>2011/2012</td>\n",
       "    </tr>\n",
       "    <tr>\n",
       "      <th>9</th>\n",
       "      <td>22</td>\n",
       "      <td>16</td>\n",
       "      <td>Champions League</td>\n",
       "      <td>Europe</td>\n",
       "      <td>male</td>\n",
       "      <td>2010/2011</td>\n",
       "    </tr>\n",
       "    <tr>\n",
       "      <th>10</th>\n",
       "      <td>21</td>\n",
       "      <td>16</td>\n",
       "      <td>Champions League</td>\n",
       "      <td>Europe</td>\n",
       "      <td>male</td>\n",
       "      <td>2009/2010</td>\n",
       "    </tr>\n",
       "    <tr>\n",
       "      <th>11</th>\n",
       "      <td>41</td>\n",
       "      <td>16</td>\n",
       "      <td>Champions League</td>\n",
       "      <td>Europe</td>\n",
       "      <td>male</td>\n",
       "      <td>2008/2009</td>\n",
       "    </tr>\n",
       "    <tr>\n",
       "      <th>12</th>\n",
       "      <td>39</td>\n",
       "      <td>16</td>\n",
       "      <td>Champions League</td>\n",
       "      <td>Europe</td>\n",
       "      <td>male</td>\n",
       "      <td>2006/2007</td>\n",
       "    </tr>\n",
       "    <tr>\n",
       "      <th>13</th>\n",
       "      <td>37</td>\n",
       "      <td>16</td>\n",
       "      <td>Champions League</td>\n",
       "      <td>Europe</td>\n",
       "      <td>male</td>\n",
       "      <td>2004/2005</td>\n",
       "    </tr>\n",
       "    <tr>\n",
       "      <th>14</th>\n",
       "      <td>44</td>\n",
       "      <td>16</td>\n",
       "      <td>Champions League</td>\n",
       "      <td>Europe</td>\n",
       "      <td>male</td>\n",
       "      <td>2003/2004</td>\n",
       "    </tr>\n",
       "    <tr>\n",
       "      <th>16</th>\n",
       "      <td>277</td>\n",
       "      <td>16</td>\n",
       "      <td>Champions League</td>\n",
       "      <td>Europe</td>\n",
       "      <td>male</td>\n",
       "      <td>1972/1973</td>\n",
       "    </tr>\n",
       "    <tr>\n",
       "      <th>17</th>\n",
       "      <td>71</td>\n",
       "      <td>16</td>\n",
       "      <td>Champions League</td>\n",
       "      <td>Europe</td>\n",
       "      <td>male</td>\n",
       "      <td>1971/1972</td>\n",
       "    </tr>\n",
       "    <tr>\n",
       "      <th>18</th>\n",
       "      <td>276</td>\n",
       "      <td>16</td>\n",
       "      <td>Champions League</td>\n",
       "      <td>Europe</td>\n",
       "      <td>male</td>\n",
       "      <td>1970/1971</td>\n",
       "    </tr>\n",
       "    <tr>\n",
       "      <th>19</th>\n",
       "      <td>84</td>\n",
       "      <td>87</td>\n",
       "      <td>Copa del Rey</td>\n",
       "      <td>Spain</td>\n",
       "      <td>male</td>\n",
       "      <td>1983/1984</td>\n",
       "    </tr>\n",
       "    <tr>\n",
       "      <th>20</th>\n",
       "      <td>268</td>\n",
       "      <td>87</td>\n",
       "      <td>Copa del Rey</td>\n",
       "      <td>Spain</td>\n",
       "      <td>male</td>\n",
       "      <td>1982/1983</td>\n",
       "    </tr>\n",
       "  </tbody>\n",
       "</table>\n",
       "</div>"
      ],
      "text/plain": [
       "    season_id  competition_id  competition_name country_name  \\\n",
       "0          27               9     1. Bundesliga      Germany   \n",
       "1           4              16  Champions League       Europe   \n",
       "2           1              16  Champions League       Europe   \n",
       "3           2              16  Champions League       Europe   \n",
       "4          27              16  Champions League       Europe   \n",
       "5          26              16  Champions League       Europe   \n",
       "6          25              16  Champions League       Europe   \n",
       "7          24              16  Champions League       Europe   \n",
       "8          23              16  Champions League       Europe   \n",
       "9          22              16  Champions League       Europe   \n",
       "10         21              16  Champions League       Europe   \n",
       "11         41              16  Champions League       Europe   \n",
       "12         39              16  Champions League       Europe   \n",
       "13         37              16  Champions League       Europe   \n",
       "14         44              16  Champions League       Europe   \n",
       "16        277              16  Champions League       Europe   \n",
       "17         71              16  Champions League       Europe   \n",
       "18        276              16  Champions League       Europe   \n",
       "19         84              87      Copa del Rey        Spain   \n",
       "20        268              87      Copa del Rey        Spain   \n",
       "\n",
       "   competition_gender season_name  \n",
       "0                male   2015/2016  \n",
       "1                male   2018/2019  \n",
       "2                male   2017/2018  \n",
       "3                male   2016/2017  \n",
       "4                male   2015/2016  \n",
       "5                male   2014/2015  \n",
       "6                male   2013/2014  \n",
       "7                male   2012/2013  \n",
       "8                male   2011/2012  \n",
       "9                male   2010/2011  \n",
       "10               male   2009/2010  \n",
       "11               male   2008/2009  \n",
       "12               male   2006/2007  \n",
       "13               male   2004/2005  \n",
       "14               male   2003/2004  \n",
       "16               male   1972/1973  \n",
       "17               male   1971/1972  \n",
       "18               male   1970/1971  \n",
       "19               male   1983/1984  \n",
       "20               male   1982/1983  "
      ]
     },
     "execution_count": 6,
     "metadata": {},
     "output_type": "execute_result"
    }
   ],
   "source": [
    "competitions2 = SBL.competitions()\n",
    "\n",
    "# create competition_ids and season_ids pairs\n",
    "cmps_ids = cmps[['competition_id', 'season_id']].drop_duplicates().values.tolist()\n",
    "\n",
    "# Load selected competitions based on competition_ids and season_ids from cmps_ids\n",
    "selected_competitions = competitions2[\n",
    "    competitions2.apply(lambda row: [row['competition_id'], row['season_id']] in cmps_ids, axis=1)\n",
    "]\n",
    "\n",
    "selected_competitions.head(20)"
   ]
  },
  {
   "cell_type": "code",
   "execution_count": 7,
   "metadata": {},
   "outputs": [],
   "source": [
    "# Get games from all selected competitions\n",
    "games = pd.concat([\n",
    "    SBL.games(row.competition_id, row.season_id)\n",
    "    for row in selected_competitions.itertuples()\n",
    "])"
   ]
  },
  {
   "cell_type": "code",
   "execution_count": 8,
   "metadata": {},
   "outputs": [
    {
     "data": {
      "text/html": [
       "<div>\n",
       "<style scoped>\n",
       "    .dataframe tbody tr th:only-of-type {\n",
       "        vertical-align: middle;\n",
       "    }\n",
       "\n",
       "    .dataframe tbody tr th {\n",
       "        vertical-align: top;\n",
       "    }\n",
       "\n",
       "    .dataframe thead th {\n",
       "        text-align: right;\n",
       "    }\n",
       "</style>\n",
       "<table border=\"1\" class=\"dataframe\">\n",
       "  <thead>\n",
       "    <tr style=\"text-align: right;\">\n",
       "      <th></th>\n",
       "      <th>game_id</th>\n",
       "      <th>season_id</th>\n",
       "      <th>competition_id</th>\n",
       "      <th>competition_stage</th>\n",
       "      <th>game_day</th>\n",
       "      <th>game_date</th>\n",
       "      <th>home_team_id</th>\n",
       "      <th>away_team_id</th>\n",
       "      <th>home_score</th>\n",
       "      <th>away_score</th>\n",
       "      <th>venue</th>\n",
       "      <th>referee</th>\n",
       "    </tr>\n",
       "  </thead>\n",
       "  <tbody>\n",
       "    <tr>\n",
       "      <th>0</th>\n",
       "      <td>3890561</td>\n",
       "      <td>27</td>\n",
       "      <td>9</td>\n",
       "      <td>Regular Season</td>\n",
       "      <td>34</td>\n",
       "      <td>2016-05-14 15:30:00</td>\n",
       "      <td>175</td>\n",
       "      <td>181</td>\n",
       "      <td>1</td>\n",
       "      <td>4</td>\n",
       "      <td>PreZero Arena</td>\n",
       "      <td>Felix Brych</td>\n",
       "    </tr>\n",
       "    <tr>\n",
       "      <th>1</th>\n",
       "      <td>3890505</td>\n",
       "      <td>27</td>\n",
       "      <td>9</td>\n",
       "      <td>Regular Season</td>\n",
       "      <td>28</td>\n",
       "      <td>2016-04-02 15:30:00</td>\n",
       "      <td>169</td>\n",
       "      <td>184</td>\n",
       "      <td>1</td>\n",
       "      <td>0</td>\n",
       "      <td>Allianz Arena</td>\n",
       "      <td>Florian Meyer</td>\n",
       "    </tr>\n",
       "  </tbody>\n",
       "</table>\n",
       "</div>"
      ],
      "text/plain": [
       "   game_id  season_id  competition_id competition_stage  game_day  \\\n",
       "0  3890561         27               9    Regular Season        34   \n",
       "1  3890505         27               9    Regular Season        28   \n",
       "\n",
       "            game_date  home_team_id  away_team_id  home_score  away_score  \\\n",
       "0 2016-05-14 15:30:00           175           181           1           4   \n",
       "1 2016-04-02 15:30:00           169           184           1           0   \n",
       "\n",
       "           venue        referee  \n",
       "0  PreZero Arena    Felix Brych  \n",
       "1  Allianz Arena  Florian Meyer  "
      ]
     },
     "execution_count": 8,
     "metadata": {},
     "output_type": "execute_result"
    }
   ],
   "source": [
    "games.head(2)"
   ]
  },
  {
   "cell_type": "code",
   "execution_count": 9,
   "metadata": {},
   "outputs": [
    {
     "data": {
      "text/plain": [
       "2690"
      ]
     },
     "execution_count": 9,
     "metadata": {},
     "output_type": "execute_result"
    }
   ],
   "source": [
    "len(games)"
   ]
  },
  {
   "cell_type": "code",
   "execution_count": 10,
   "metadata": {},
   "outputs": [
    {
     "name": "stderr",
     "output_type": "stream",
     "text": [
      "Loading game data:   0%|          | 0/2690 [00:00<?, ?it/s]"
     ]
    },
    {
     "name": "stderr",
     "output_type": "stream",
     "text": [
      "Loading game data: 100%|██████████| 2690/2690 [57:37<00:00,  1.29s/it]\n"
     ]
    }
   ],
   "source": [
    "games_verbose = tqdm.tqdm(list(games.itertuples()), desc=\"Loading game data\")\n",
    "teams, players = [], []\n",
    "actions = {}\n",
    "for game in games_verbose:\n",
    "    # load data\n",
    "    teams.append(SBL.teams(game.game_id))\n",
    "    players.append(SBL.players(game.game_id))\n",
    "    events = SBL.events(game.game_id)\n",
    "    # convert data\n",
    "    actions[game.game_id] = spadl.statsbomb.convert_to_actions(events, game.home_team_id)\n",
    "\n",
    "teams = pd.concat(teams).drop_duplicates(subset=\"team_id\")\n",
    "players = pd.concat(players)"
   ]
  },
  {
   "cell_type": "code",
   "execution_count": 11,
   "metadata": {},
   "outputs": [],
   "source": [
    "datafolder = \"/home/msai/adnan002/repos/xB-360/data\"\n",
    "\n",
    "# Create data folder if it doesn't exist\n",
    "if not os.path.exists(datafolder):\n",
    "    os.mkdir(datafolder)\n",
    "    print(f\"Directory {datafolder} created.\")\n",
    "\n",
    "spadl_h5 = os.path.join(datafolder, \"spadl-statsbomb.h5\")\n",
    "\n",
    "# Store all spadl data in h5-file\n",
    "with pd.HDFStore(spadl_h5) as spadlstore:\n",
    "    spadlstore[\"competitions\"] = selected_competitions\n",
    "    spadlstore[\"games\"] = games\n",
    "    spadlstore[\"teams\"] = teams\n",
    "    spadlstore[\"players\"] = players[['player_id', 'player_name', 'nickname']].drop_duplicates(subset='player_id')\n",
    "    spadlstore[\"player_games\"] = players[['player_id', 'game_id', 'team_id', 'is_starter', 'starting_position_id', 'starting_position_name', 'minutes_played']]\n",
    "    for game_id in actions.keys():\n",
    "        spadlstore[f\"actions/game_{game_id}\"] = actions[game_id]"
   ]
  },
  {
   "cell_type": "code",
   "execution_count": 12,
   "metadata": {},
   "outputs": [],
   "source": [
    "features_h5 = os.path.join(datafolder, \"features.h5\")\n",
    "labels_h5 = os.path.join(datafolder, \"labels.h5\")"
   ]
  },
  {
   "cell_type": "code",
   "execution_count": 13,
   "metadata": {},
   "outputs": [
    {
     "name": "stdout",
     "output_type": "stream",
     "text": [
      "nb of games: 2690\n"
     ]
    }
   ],
   "source": [
    "games = pd.read_hdf(spadl_h5, \"games\")\n",
    "print(\"nb of games:\", len(games))"
   ]
  },
  {
   "cell_type": "code",
   "execution_count": 14,
   "metadata": {},
   "outputs": [
    {
     "name": "stderr",
     "output_type": "stream",
     "text": [
      "Generating and storing features in /home/msai/adnan002/repos/xB-360/data/features.h5: 100%|██████████| 2690/2690 [41:17<00:00,  1.09it/s]\n"
     ]
    }
   ],
   "source": [
    "import socceraction.spadl as spadl\n",
    "import socceraction.vaep.features as fs\n",
    "import socceraction.vaep.labels as lab\n",
    "\n",
    "xfns = [\n",
    "    fs.actiontype,\n",
    "    fs.actiontype_onehot,\n",
    "    fs.bodypart,\n",
    "    fs.bodypart_onehot,\n",
    "    fs.result,\n",
    "    fs.result_onehot,\n",
    "    fs.goalscore,\n",
    "    fs.startlocation,\n",
    "    fs.endlocation,\n",
    "    fs.movement,\n",
    "    fs.space_delta,\n",
    "    fs.startpolar,\n",
    "    fs.endpolar,\n",
    "    fs.team,\n",
    "    fs.time,\n",
    "    fs.time_delta\n",
    "]\n",
    "\n",
    "for game in tqdm.tqdm(list(games.itertuples()), desc=f\"Generating and storing features in {features_h5}\"):\n",
    "    actions = pd.read_hdf(spadl_h5, f\"actions/game_{game.game_id}\")\n",
    "    gamestates = fs.gamestates(spadl.add_names(actions), 3)\n",
    "    gamestates = fs.play_left_to_right(gamestates, game.home_team_id)\n",
    "    \n",
    "    X = pd.concat([fn(gamestates) for fn in xfns], axis=1)\n",
    "    X.to_hdf(features_h5, f\"game_{game.game_id}\")"
   ]
  },
  {
   "cell_type": "code",
   "execution_count": 15,
   "metadata": {},
   "outputs": [
    {
     "name": "stderr",
     "output_type": "stream",
     "text": [
      "Computing and storing labels in /home/msai/adnan002/repos/xB-360/data/labels.h5: 100%|██████████| 2690/2690 [28:14<00:00,  1.59it/s]\n"
     ]
    }
   ],
   "source": [
    "yfns = [lab.scores, lab.concedes, lab.goal_from_shot]\n",
    "\n",
    "for game in tqdm.tqdm(list(games.itertuples()), desc=f\"Computing and storing labels in {labels_h5}\"):\n",
    "    actions = pd.read_hdf(spadl_h5, f\"actions/game_{game.game_id}\")   \n",
    "    Y = pd.concat([fn(spadl.add_names(actions)) for fn in yfns], axis=1)\n",
    "    Y.to_hdf(labels_h5, f\"game_{game.game_id}\")"
   ]
  },
  {
   "cell_type": "code",
   "execution_count": 16,
   "metadata": {},
   "outputs": [],
   "source": [
    "predictions_h5 = os.path.join(datafolder, \"predictions.h5\")"
   ]
  },
  {
   "cell_type": "code",
   "execution_count": 17,
   "metadata": {},
   "outputs": [
    {
     "name": "stderr",
     "output_type": "stream",
     "text": [
      "Selecting features:   0%|          | 0/2690 [00:00<?, ?it/s]"
     ]
    },
    {
     "name": "stderr",
     "output_type": "stream",
     "text": [
      "Selecting features: 100%|██████████| 2690/2690 [00:48<00:00, 54.97it/s]\n",
      "Selecting label: 100%|██████████| 2690/2690 [00:18<00:00, 149.06it/s]\n"
     ]
    },
    {
     "name": "stdout",
     "output_type": "stream",
     "text": [
      "X: ['type_id_a0', 'type_pass_a0', 'type_cross_a0', 'type_throw_in_a0', 'type_freekick_crossed_a0', 'type_freekick_short_a0', 'type_corner_crossed_a0', 'type_corner_short_a0', 'type_take_on_a0', 'type_foul_a0', 'type_tackle_a0', 'type_interception_a0', 'type_shot_a0', 'type_shot_penalty_a0', 'type_shot_freekick_a0', 'type_keeper_save_a0', 'type_keeper_claim_a0', 'type_keeper_punch_a0', 'type_keeper_pick_up_a0', 'type_clearance_a0', 'type_bad_touch_a0', 'type_non_action_a0', 'type_dribble_a0', 'type_goalkick_a0', 'bodypart_foot_a0', 'bodypart_head_a0', 'bodypart_other_a0', 'bodypart_head/other_a0', 'result_id_a0', 'result_fail_a0', 'result_success_a0', 'result_offside_a0', 'result_owngoal_a0', 'result_yellow_card_a0', 'result_red_card_a0', 'goalscore_team', 'goalscore_opponent', 'goalscore_diff', 'start_x_a0', 'start_y_a0', 'end_x_a0', 'end_y_a0', 'dx_a0', 'dy_a0', 'movement_a0', 'start_dist_to_goal_a0', 'start_angle_to_goal_a0', 'end_dist_to_goal_a0', 'end_angle_to_goal_a0']\n",
      "Y: ['scores', 'concedes']\n"
     ]
    }
   ],
   "source": [
    "traingames = games\n",
    "testgames = games\n",
    "\n",
    "# 1. Select feature set X\n",
    "xfns = [\n",
    "    fs.actiontype,\n",
    "    fs.actiontype_onehot,\n",
    "    #fs.bodypart,\n",
    "    fs.bodypart_onehot,\n",
    "    fs.result,\n",
    "    fs.result_onehot,\n",
    "    fs.goalscore,\n",
    "    fs.startlocation,\n",
    "    fs.endlocation,\n",
    "    fs.movement,\n",
    "    fs.space_delta,\n",
    "    fs.startpolar,\n",
    "    fs.endpolar,\n",
    "    fs.team,\n",
    "    #fs.time,\n",
    "    fs.time_delta,\n",
    "    #fs.actiontype_result_onehot\n",
    "]\n",
    "nb_prev_actions = 1\n",
    "\n",
    "Xcols = fs.feature_column_names(xfns, nb_prev_actions)\n",
    "\n",
    "def getXY(games,Xcols):\n",
    "    # generate the columns of the selected feature\n",
    "    X = []\n",
    "    for game_id in tqdm.tqdm(games.game_id, desc=\"Selecting features\"):\n",
    "        Xi = pd.read_hdf(features_h5, f\"game_{game_id}\")\n",
    "        X.append(Xi[Xcols])\n",
    "    X = pd.concat(X).reset_index(drop=True)\n",
    "\n",
    "    # 2. Select label Y\n",
    "    Ycols = [\"scores\",\"concedes\"]\n",
    "    Y = []\n",
    "    for game_id in tqdm.tqdm(games.game_id, desc=\"Selecting label\"):\n",
    "        Yi = pd.read_hdf(labels_h5, f\"game_{game_id}\")\n",
    "        Y.append(Yi[Ycols])\n",
    "    Y = pd.concat(Y).reset_index(drop=True)\n",
    "    return X, Y\n",
    "\n",
    "X, Y = getXY(traingames,Xcols)\n",
    "print(\"X:\", list(X.columns))\n",
    "print(\"Y:\", list(Y.columns))"
   ]
  },
  {
   "cell_type": "code",
   "execution_count": 18,
   "metadata": {},
   "outputs": [],
   "source": [
    "# 3. train classifiers F(X) = Y\n",
    "import xgboost\n",
    "\n",
    "Y_hat = pd.DataFrame()\n",
    "models = {}\n",
    "for col in list(Y.columns):\n",
    "    model = xgboost.XGBClassifier(n_estimators=50, max_depth=3, n_jobs=-3, verbosity=1)\n",
    "    model.fit(X, Y[col])\n",
    "    models[col] = model"
   ]
  },
  {
   "cell_type": "code",
   "execution_count": 19,
   "metadata": {},
   "outputs": [
    {
     "name": "stdout",
     "output_type": "stream",
     "text": [
      "### Y: scores ###\n",
      "  Brier score: 0.00950 (0.84705)\n",
      "  log loss score: 0.04845 (0.78021)\n",
      "  ROC AUC: 0.81999\n",
      "### Y: concedes ###\n",
      "  Brier score: 0.00214 (0.94734)\n",
      "  log loss score: 0.01349 (0.84069)\n",
      "  ROC AUC: 0.80793\n"
     ]
    }
   ],
   "source": [
    "from sklearn.metrics import brier_score_loss, roc_auc_score, log_loss\n",
    "\n",
    "testX, testY = X, Y\n",
    "\n",
    "def evaluate(y, y_hat):\n",
    "    p = sum(y) / len(y)\n",
    "    base = [p] * len(y)\n",
    "    brier = brier_score_loss(y, y_hat)\n",
    "    print(f\"  Brier score: %.5f (%.5f)\" % (brier, brier / brier_score_loss(y, base)))\n",
    "    ll = log_loss(y, y_hat)\n",
    "    print(f\"  log loss score: %.5f (%.5f)\" % (ll, ll / log_loss(y, base)))\n",
    "    print(f\"  ROC AUC: %.5f\" % roc_auc_score(y, y_hat))\n",
    "\n",
    "for col in testY.columns:\n",
    "    Y_hat[col] = [p[1] for p in models[col].predict_proba(testX)]\n",
    "    print(f\"### Y: {col} ###\")\n",
    "    evaluate(testY[col], Y_hat[col])\n"
   ]
  },
  {
   "cell_type": "code",
   "execution_count": 20,
   "metadata": {},
   "outputs": [
    {
     "name": "stderr",
     "output_type": "stream",
     "text": [
      "Loading game ids: 100%|██████████| 2690/2690 [01:12<00:00, 37.30it/s]\n",
      "Saving predictions per game: 100%|██████████| 2690/2690 [21:57<00:00,  2.04it/s]\n"
     ]
    }
   ],
   "source": [
    "# get rows with game id per action\n",
    "A = []\n",
    "for game_id in tqdm.tqdm(games.game_id, \"Loading game ids\"):\n",
    "    Ai = pd.read_hdf(spadl_h5, f\"actions/game_{game_id}\")\n",
    "    A.append(Ai[[\"game_id\"]])\n",
    "A = pd.concat(A)\n",
    "A = A.reset_index(drop=True)\n",
    "\n",
    "# concatenate action game id rows with predictions and save per game\n",
    "grouped_predictions = pd.concat([A, Y_hat], axis=1).groupby(\"game_id\")\n",
    "for k, df in tqdm.tqdm(grouped_predictions, desc=\"Saving predictions per game\"):\n",
    "    df = df.reset_index(drop=True)\n",
    "    df[Y_hat.columns].to_hdf(predictions_h5, f\"game_{int(k)}\")"
   ]
  },
  {
   "cell_type": "code",
   "execution_count": 21,
   "metadata": {},
   "outputs": [
    {
     "name": "stdout",
     "output_type": "stream",
     "text": [
      "['/competitions', '/games', '/player_games', '/players', '/teams', '/actions/game_15946', '/actions/game_15956', '/actions/game_15973', '/actions/game_15978', '/actions/game_15986', '/actions/game_15998', '/actions/game_16010', '/actions/game_16023', '/actions/game_16029', '/actions/game_16056', '/actions/game_16073', '/actions/game_16079', '/actions/game_16086', '/actions/game_16095', '/actions/game_16109', '/actions/game_16120', '/actions/game_16131', '/actions/game_16136', '/actions/game_16149', '/actions/game_16157', '/actions/game_16173', '/actions/game_16182', '/actions/game_16190', '/actions/game_16196', '/actions/game_16205', '/actions/game_16215', '/actions/game_16231', '/actions/game_16240', '/actions/game_16248', '/actions/game_16265', '/actions/game_16275', '/actions/game_16289', '/actions/game_16306', '/actions/game_16317', '/actions/game_18235', '/actions/game_18236', '/actions/game_18237', '/actions/game_18240', '/actions/game_18241', '/actions/game_18242', '/actions/game_18243', '/actions/game_18244', '/actions/game_18245', '/actions/game_22912', '/actions/game_2302764', '/actions/game_265830', '/actions/game_265835', '/actions/game_265837', '/actions/game_265839', '/actions/game_265857', '/actions/game_265866', '/actions/game_265894', '/actions/game_265896', '/actions/game_265918', '/actions/game_265944', '/actions/game_265952', '/actions/game_265958', '/actions/game_265963', '/actions/game_266015', '/actions/game_266033', '/actions/game_266045', '/actions/game_266056', '/actions/game_266066', '/actions/game_266074', '/actions/game_266106', '/actions/game_266117', '/actions/game_266142', '/actions/game_266148', '/actions/game_266149', '/actions/game_266160', '/actions/game_266166', '/actions/game_266191', '/actions/game_266201', '/actions/game_266230', '/actions/game_266236', '/actions/game_266240', '/actions/game_266254', '/actions/game_266256', '/actions/game_266273', '/actions/game_266274', '/actions/game_266280', '/actions/game_266299', '/actions/game_266310', '/actions/game_266320', '/actions/game_266357', '/actions/game_266406', '/actions/game_266420', '/actions/game_266424', '/actions/game_266433', '/actions/game_266440', '/actions/game_266462', '/actions/game_266467', '/actions/game_266477', '/actions/game_266490', '/actions/game_266491', '/actions/game_266498', '/actions/game_266516', '/actions/game_266525', '/actions/game_266528', '/actions/game_266531', '/actions/game_266557', '/actions/game_266560', '/actions/game_266603', '/actions/game_266613', '/actions/game_266620', '/actions/game_266631', '/actions/game_266653', '/actions/game_266664', '/actions/game_266669', '/actions/game_266670', '/actions/game_266724', '/actions/game_266731', '/actions/game_266741', '/actions/game_266770', '/actions/game_266794', '/actions/game_266815', '/actions/game_266827', '/actions/game_266838', '/actions/game_266846', '/actions/game_266871', '/actions/game_266874', '/actions/game_266883', '/actions/game_266885', '/actions/game_266892', '/actions/game_266916', '/actions/game_266921', '/actions/game_266929', '/actions/game_266952', '/actions/game_266961', '/actions/game_266967', '/actions/game_266986', '/actions/game_266989', '/actions/game_267039', '/actions/game_267058', '/actions/game_267076', '/actions/game_267077', '/actions/game_267085', '/actions/game_267101', '/actions/game_267138', '/actions/game_267183', '/actions/game_267192', '/actions/game_267197', '/actions/game_267212', '/actions/game_267220', '/actions/game_267273', '/actions/game_267274', '/actions/game_267301', '/actions/game_267327', '/actions/game_267343', '/actions/game_267368', '/actions/game_267373', '/actions/game_267395', '/actions/game_267400', '/actions/game_267422', '/actions/game_267432', '/actions/game_267464', '/actions/game_267492', '/actions/game_267499', '/actions/game_267502', '/actions/game_267506', '/actions/game_267520', '/actions/game_267533', '/actions/game_267561', '/actions/game_267567', '/actions/game_267569', '/actions/game_267576', '/actions/game_267590', '/actions/game_267596', '/actions/game_267597', '/actions/game_267611', '/actions/game_267660', '/actions/game_267670', '/actions/game_267675', '/actions/game_303377', '/actions/game_303400', '/actions/game_303421', '/actions/game_303430', '/actions/game_303451', '/actions/game_303470', '/actions/game_303473', '/actions/game_303479', '/actions/game_303487', '/actions/game_303493', '/actions/game_303504', '/actions/game_303516', '/actions/game_303517', '/actions/game_303524', '/actions/game_303532', '/actions/game_303548', '/actions/game_303596', '/actions/game_303600', '/actions/game_303610', '/actions/game_303615', '/actions/game_303634', '/actions/game_303652', '/actions/game_303664', '/actions/game_303666', '/actions/game_303674', '/actions/game_303680', '/actions/game_303682', '/actions/game_303696', '/actions/game_303700', '/actions/game_303707', '/actions/game_303715', '/actions/game_303725', '/actions/game_303731', '/actions/game_3749052', '/actions/game_3749068', '/actions/game_3749079', '/actions/game_3749108', '/actions/game_3749117', '/actions/game_3749133', '/actions/game_3749153', '/actions/game_3749192', '/actions/game_3749196', '/actions/game_3749233', '/actions/game_3749246', '/actions/game_3749253', '/actions/game_3749257', '/actions/game_3749274', '/actions/game_3749276', '/actions/game_3749278', '/actions/game_3749296', '/actions/game_3749310', '/actions/game_3749346', '/actions/game_3749358', '/actions/game_3749360', '/actions/game_3749403', '/actions/game_3749431', '/actions/game_3749434', '/actions/game_3749448', '/actions/game_3749453', '/actions/game_3749454', '/actions/game_3749462', '/actions/game_3749465', '/actions/game_3749493', '/actions/game_3749522', '/actions/game_3749526', '/actions/game_3749528', '/actions/game_3749552', '/actions/game_3749590', '/actions/game_3749603', '/actions/game_3749631', '/actions/game_3749642', '/actions/game_3750180', '/actions/game_3750191', '/actions/game_3750200', '/actions/game_3750201', '/actions/game_3750234', '/actions/game_3750235', '/actions/game_3750244', '/actions/game_3750245', '/actions/game_3750248', '/actions/game_3752619', '/actions/game_3753972', '/actions/game_3753973', '/actions/game_3753974', '/actions/game_3753975', '/actions/game_3753976', '/actions/game_3753977', '/actions/game_3753978', '/actions/game_3753979', '/actions/game_3753980', '/actions/game_3753981', '/actions/game_3753982', '/actions/game_3753983', '/actions/game_3753984', '/actions/game_3753985', '/actions/game_3753986', '/actions/game_3753987', '/actions/game_3753988', '/actions/game_3753989', '/actions/game_3753990', '/actions/game_3753991', '/actions/game_3753992', '/actions/game_3753993', '/actions/game_3753994', '/actions/game_3753995', '/actions/game_3753996', '/actions/game_3753997', '/actions/game_3753998', '/actions/game_3753999', '/actions/game_3754000', '/actions/game_3754001', '/actions/game_3754002', '/actions/game_3754003', '/actions/game_3754004', '/actions/game_3754005', '/actions/game_3754006', '/actions/game_3754007', '/actions/game_3754008', '/actions/game_3754009', '/actions/game_3754010', '/actions/game_3754011', '/actions/game_3754012', '/actions/game_3754013', '/actions/game_3754014', '/actions/game_3754015', '/actions/game_3754016', '/actions/game_3754017', '/actions/game_3754018', '/actions/game_3754019', '/actions/game_3754020', '/actions/game_3754021', '/actions/game_3754022', '/actions/game_3754023', '/actions/game_3754024', '/actions/game_3754025', '/actions/game_3754026', '/actions/game_3754027', '/actions/game_3754028', '/actions/game_3754029', '/actions/game_3754030', '/actions/game_3754031', '/actions/game_3754032', '/actions/game_3754033', '/actions/game_3754034', '/actions/game_3754035', '/actions/game_3754036', '/actions/game_3754037', '/actions/game_3754038', '/actions/game_3754039', '/actions/game_3754040', '/actions/game_3754041', '/actions/game_3754042', '/actions/game_3754043', '/actions/game_3754044', '/actions/game_3754045', '/actions/game_3754046', '/actions/game_3754047', '/actions/game_3754048', '/actions/game_3754049', '/actions/game_3754050', '/actions/game_3754051', '/actions/game_3754052', '/actions/game_3754053', '/actions/game_3754054', '/actions/game_3754055', '/actions/game_3754056', '/actions/game_3754057', '/actions/game_3754058', '/actions/game_3754059', '/actions/game_3754060', '/actions/game_3754061', '/actions/game_3754062', '/actions/game_3754063', '/actions/game_3754064', '/actions/game_3754065', '/actions/game_3754066', '/actions/game_3754067', '/actions/game_3754068', '/actions/game_3754069', '/actions/game_3754070', '/actions/game_3754071', '/actions/game_3754072', '/actions/game_3754073', '/actions/game_3754074', '/actions/game_3754075', '/actions/game_3754076', '/actions/game_3754077', '/actions/game_3754078', '/actions/game_3754079', '/actions/game_3754080', '/actions/game_3754081', '/actions/game_3754082', '/actions/game_3754083', '/actions/game_3754084', '/actions/game_3754085', '/actions/game_3754086', '/actions/game_3754087', '/actions/game_3754088', '/actions/game_3754089', '/actions/game_3754090', '/actions/game_3754091', '/actions/game_3754092', '/actions/game_3754093', '/actions/game_3754094', '/actions/game_3754095', '/actions/game_3754096', '/actions/game_3754097', '/actions/game_3754098', '/actions/game_3754099', '/actions/game_3754100', '/actions/game_3754101', '/actions/game_3754102', '/actions/game_3754103', '/actions/game_3754104', '/actions/game_3754105', '/actions/game_3754106', '/actions/game_3754107', '/actions/game_3754108', '/actions/game_3754109', '/actions/game_3754110', '/actions/game_3754111', '/actions/game_3754112', '/actions/game_3754113', '/actions/game_3754114', '/actions/game_3754115', '/actions/game_3754116', '/actions/game_3754117', '/actions/game_3754118', '/actions/game_3754119', '/actions/game_3754120', '/actions/game_3754121', '/actions/game_3754122', '/actions/game_3754123', '/actions/game_3754124', '/actions/game_3754125', '/actions/game_3754126', '/actions/game_3754127', '/actions/game_3754128', '/actions/game_3754129', '/actions/game_3754130', '/actions/game_3754131', '/actions/game_3754132', '/actions/game_3754133', '/actions/game_3754134', '/actions/game_3754135', '/actions/game_3754136', '/actions/game_3754137', '/actions/game_3754138', '/actions/game_3754139', '/actions/game_3754140', '/actions/game_3754141', '/actions/game_3754142', '/actions/game_3754143', '/actions/game_3754144', '/actions/game_3754145', '/actions/game_3754146', '/actions/game_3754147', '/actions/game_3754148', '/actions/game_3754149', '/actions/game_3754150', '/actions/game_3754151', '/actions/game_3754152', '/actions/game_3754153', '/actions/game_3754154', '/actions/game_3754155', '/actions/game_3754156', '/actions/game_3754157', '/actions/game_3754158', '/actions/game_3754159', '/actions/game_3754160', '/actions/game_3754161', '/actions/game_3754162', '/actions/game_3754163', '/actions/game_3754164', '/actions/game_3754165', '/actions/game_3754166', '/actions/game_3754167', '/actions/game_3754168', '/actions/game_3754169', '/actions/game_3754170', '/actions/game_3754171', '/actions/game_3754172', '/actions/game_3754173', '/actions/game_3754174', '/actions/game_3754175', '/actions/game_3754176', '/actions/game_3754177', '/actions/game_3754178', '/actions/game_3754179', '/actions/game_3754180', '/actions/game_3754181', '/actions/game_3754182', '/actions/game_3754183', '/actions/game_3754184', '/actions/game_3754185', '/actions/game_3754186', '/actions/game_3754187', '/actions/game_3754188', '/actions/game_3754189', '/actions/game_3754190', '/actions/game_3754191', '/actions/game_3754192', '/actions/game_3754193', '/actions/game_3754194', '/actions/game_3754195', '/actions/game_3754196', '/actions/game_3754197', '/actions/game_3754198', '/actions/game_3754199', '/actions/game_3754200', '/actions/game_3754201', '/actions/game_3754202', '/actions/game_3754203', '/actions/game_3754204', '/actions/game_3754205', '/actions/game_3754206', '/actions/game_3754207', '/actions/game_3754208', '/actions/game_3754209', '/actions/game_3754210', '/actions/game_3754211', '/actions/game_3754212', '/actions/game_3754213', '/actions/game_3754214', '/actions/game_3754215', '/actions/game_3754216', '/actions/game_3754217', '/actions/game_3754218', '/actions/game_3754219', '/actions/game_3754220', '/actions/game_3754221', '/actions/game_3754222', '/actions/game_3754223', '/actions/game_3754224', '/actions/game_3754225', '/actions/game_3754226', '/actions/game_3754227', '/actions/game_3754228', '/actions/game_3754229', '/actions/game_3754230', '/actions/game_3754231', '/actions/game_3754232', '/actions/game_3754233', '/actions/game_3754234', '/actions/game_3754235', '/actions/game_3754236', '/actions/game_3754237', '/actions/game_3754238', '/actions/game_3754239', '/actions/game_3754240', '/actions/game_3754241', '/actions/game_3754242', '/actions/game_3754243', '/actions/game_3754244', '/actions/game_3754245', '/actions/game_3754246', '/actions/game_3754247', '/actions/game_3754248', '/actions/game_3754249', '/actions/game_3754250', '/actions/game_3754251', '/actions/game_3754252', '/actions/game_3754253', '/actions/game_3754254', '/actions/game_3754255', '/actions/game_3754256', '/actions/game_3754257', '/actions/game_3754258', '/actions/game_3754259', '/actions/game_3754260', '/actions/game_3754261', '/actions/game_3754262', '/actions/game_3754263', '/actions/game_3754264', '/actions/game_3754265', '/actions/game_3754266', '/actions/game_3754267', '/actions/game_3754268', '/actions/game_3754269', '/actions/game_3754270', '/actions/game_3754271', '/actions/game_3754272', '/actions/game_3754273', '/actions/game_3754274', '/actions/game_3754275', '/actions/game_3754276', '/actions/game_3754277', '/actions/game_3754278', '/actions/game_3754279', '/actions/game_3754280', '/actions/game_3754281', '/actions/game_3754282', '/actions/game_3754283', '/actions/game_3754284', '/actions/game_3754285', '/actions/game_3754286', '/actions/game_3754287', '/actions/game_3754288', '/actions/game_3754289', '/actions/game_3754290', '/actions/game_3754291', '/actions/game_3754292', '/actions/game_3754293', '/actions/game_3754294', '/actions/game_3754295', '/actions/game_3754296', '/actions/game_3754297', '/actions/game_3754298', '/actions/game_3754299', '/actions/game_3754300', '/actions/game_3754301', '/actions/game_3754302', '/actions/game_3754303', '/actions/game_3754304', '/actions/game_3754305', '/actions/game_3754306', '/actions/game_3754307', '/actions/game_3754308', '/actions/game_3754309', '/actions/game_3754310', '/actions/game_3754311', '/actions/game_3754312', '/actions/game_3754313', '/actions/game_3754314', '/actions/game_3754315', '/actions/game_3754316', '/actions/game_3754317', '/actions/game_3754318', '/actions/game_3754319', '/actions/game_3754320', '/actions/game_3754321', '/actions/game_3754322', '/actions/game_3754323', '/actions/game_3754324', '/actions/game_3754325', '/actions/game_3754326', '/actions/game_3754327', '/actions/game_3754328', '/actions/game_3754329', '/actions/game_3754330', '/actions/game_3754331', '/actions/game_3754332', '/actions/game_3754333', '/actions/game_3754334', '/actions/game_3754335', '/actions/game_3754336', '/actions/game_3754337', '/actions/game_3754338', '/actions/game_3754339', '/actions/game_3754340', '/actions/game_3754341', '/actions/game_3754342', '/actions/game_3754343', '/actions/game_3754344', '/actions/game_3754345', '/actions/game_3754346', '/actions/game_3754347', '/actions/game_3754348', '/actions/game_3754349', '/actions/game_3754350', '/actions/game_3754351', '/actions/game_3764440', '/actions/game_3764661', '/actions/game_3773369', '/actions/game_3773372', '/actions/game_3773377', '/actions/game_3773386', '/actions/game_3773387', '/actions/game_3773403', '/actions/game_3773415', '/actions/game_3773428', '/actions/game_3773457', '/actions/game_3773466', '/actions/game_3773474', '/actions/game_3773477', '/actions/game_3773497', '/actions/game_3773523', '/actions/game_3773526', '/actions/game_3773547', '/actions/game_3773552', '/actions/game_3773565', '/actions/game_3773571', '/actions/game_3773585', '/actions/game_3773586', '/actions/game_3773587', '/actions/game_3773593', '/actions/game_3773597', '/actions/game_3773625', '/actions/game_3773631', '/actions/game_3773656', '/actions/game_3773660', '/actions/game_3773661', '/actions/game_3773665', '/actions/game_3773672', '/actions/game_3773689', '/actions/game_3773695', '/actions/game_3788741', '/actions/game_3788742', '/actions/game_3788743', '/actions/game_3788744', '/actions/game_3788745', '/actions/game_3788746', '/actions/game_3788747', '/actions/game_3788748', '/actions/game_3788749', '/actions/game_3788750', '/actions/game_3788751', '/actions/game_3788752', '/actions/game_3788753', '/actions/game_3788754', '/actions/game_3788755', '/actions/game_3788756', '/actions/game_3788757', '/actions/game_3788758', '/actions/game_3788759', '/actions/game_3788760', '/actions/game_3788761', '/actions/game_3788762', '/actions/game_3788763', '/actions/game_3788764', '/actions/game_3788765', '/actions/game_3788766', '/actions/game_3788767', '/actions/game_3788768', '/actions/game_3788769', '/actions/game_3788770', '/actions/game_3788771', '/actions/game_3788772', '/actions/game_3788773', '/actions/game_3788774', '/actions/game_3788775', '/actions/game_3788776', '/actions/game_3793185', '/actions/game_3794685', '/actions/game_3794686', '/actions/game_3794687', '/actions/game_3794688', '/actions/game_3794689', '/actions/game_3794690', '/actions/game_3794691', '/actions/game_3794692', '/actions/game_3795107', '/actions/game_3795108', '/actions/game_3795109', '/actions/game_3795187', '/actions/game_3795220', '/actions/game_3795221', '/actions/game_3795506', '/actions/game_3813264', '/actions/game_3813265', '/actions/game_3813266', '/actions/game_3813267', '/actions/game_3813268', '/actions/game_3813269', '/actions/game_3813270', '/actions/game_3813271', '/actions/game_3813272', '/actions/game_3813273', '/actions/game_3813274', '/actions/game_3813275', '/actions/game_3813276', '/actions/game_3813277', '/actions/game_3813278', '/actions/game_3813279', '/actions/game_3813280', '/actions/game_3813281', '/actions/game_3813282', '/actions/game_3813283', '/actions/game_3813284', '/actions/game_3813285', '/actions/game_3813286', '/actions/game_3813287', '/actions/game_3813288', '/actions/game_3813289', '/actions/game_3813290', '/actions/game_3813291', '/actions/game_3813292', '/actions/game_3813293', '/actions/game_3813294', '/actions/game_3813295', '/actions/game_3813296', '/actions/game_3813297', '/actions/game_3813298', '/actions/game_3813299', '/actions/game_3813300', '/actions/game_3813301', '/actions/game_3813302', '/actions/game_3813303', '/actions/game_3813304', '/actions/game_3813305', '/actions/game_3813306', '/actions/game_3813307', '/actions/game_3813308', '/actions/game_3813309', '/actions/game_3813310', '/actions/game_3813311', '/actions/game_3813312', '/actions/game_3813313', '/actions/game_3813314', '/actions/game_3813315', '/actions/game_3813316', '/actions/game_3813317', '/actions/game_3813318', '/actions/game_3817848', '/actions/game_3817849', '/actions/game_3817850', '/actions/game_3817851', '/actions/game_3817852', '/actions/game_3817853', '/actions/game_3817854', '/actions/game_3817855', '/actions/game_3817856', '/actions/game_3817857', '/actions/game_3817858', '/actions/game_3817859', '/actions/game_3817860', '/actions/game_3817861', '/actions/game_3817862', '/actions/game_3817863', '/actions/game_3817864', '/actions/game_3817865', '/actions/game_3817866', '/actions/game_3817867', '/actions/game_3817868', '/actions/game_3817869', '/actions/game_3817870', '/actions/game_3817871', '/actions/game_3817872', '/actions/game_3817873', '/actions/game_3817874', '/actions/game_3817875', '/actions/game_3817876', '/actions/game_3817877', '/actions/game_3817878', '/actions/game_3817879', '/actions/game_3817880', '/actions/game_3817881', '/actions/game_3817882', '/actions/game_3817883', '/actions/game_3817884', '/actions/game_3817885', '/actions/game_3817886', '/actions/game_3817887', '/actions/game_3817888', '/actions/game_3817889', '/actions/game_3817890', '/actions/game_3817891', '/actions/game_3817892', '/actions/game_3817893', '/actions/game_3817894', '/actions/game_3817895', '/actions/game_3817896', '/actions/game_3817897', '/actions/game_3817898', '/actions/game_3817899', '/actions/game_3817900', '/actions/game_3817901', '/actions/game_3817902', '/actions/game_3825562', '/actions/game_3825563', '/actions/game_3825564', '/actions/game_3825565', '/actions/game_3825566', '/actions/game_3825567', '/actions/game_3825568', '/actions/game_3825569', '/actions/game_3825570', '/actions/game_3825571', '/actions/game_3825572', '/actions/game_3825573', '/actions/game_3825574', '/actions/game_3825575', '/actions/game_3825576', '/actions/game_3825577', '/actions/game_3825578', '/actions/game_3825579', '/actions/game_3825580', '/actions/game_3825581', '/actions/game_3825582', '/actions/game_3825583', '/actions/game_3825584', '/actions/game_3825585', '/actions/game_3825586', '/actions/game_3825587', '/actions/game_3825588', '/actions/game_3825589', '/actions/game_3825590', '/actions/game_3825591', '/actions/game_3825592', '/actions/game_3825593', '/actions/game_3825594', '/actions/game_3825595', '/actions/game_3825596', '/actions/game_3825597', '/actions/game_3825598', '/actions/game_3825599', '/actions/game_3825600', '/actions/game_3825601', '/actions/game_3825602', '/actions/game_3825603', '/actions/game_3825604', '/actions/game_3825605', '/actions/game_3825606', '/actions/game_3825607', '/actions/game_3825608', '/actions/game_3825609', '/actions/game_3825610', '/actions/game_3825611', '/actions/game_3825612', '/actions/game_3825613', '/actions/game_3825614', '/actions/game_3825615', '/actions/game_3825616', '/actions/game_3825617', '/actions/game_3825618', '/actions/game_3825619', '/actions/game_3825620', '/actions/game_3825621', '/actions/game_3825622', '/actions/game_3825623', '/actions/game_3825624', '/actions/game_3825625', '/actions/game_3825626', '/actions/game_3825627', '/actions/game_3825628', '/actions/game_3825629', '/actions/game_3825630', '/actions/game_3825631', '/actions/game_3825632', '/actions/game_3825633', '/actions/game_3825634', '/actions/game_3825635', '/actions/game_3825636', '/actions/game_3825637', '/actions/game_3825638', '/actions/game_3825639', '/actions/game_3825640', '/actions/game_3825641', '/actions/game_3825642', '/actions/game_3825643', '/actions/game_3825644', '/actions/game_3825645', '/actions/game_3825646', '/actions/game_3825647', '/actions/game_3825648', '/actions/game_3825649', '/actions/game_3825650', '/actions/game_3825651', '/actions/game_3825652', '/actions/game_3825653', '/actions/game_3825654', '/actions/game_3825655', '/actions/game_3825656', '/actions/game_3825657', '/actions/game_3825658', '/actions/game_3825659', '/actions/game_3825660', '/actions/game_3825661', '/actions/game_3825662', '/actions/game_3825663', '/actions/game_3825664', '/actions/game_3825665', '/actions/game_3825666', '/actions/game_3825667', '/actions/game_3825668', '/actions/game_3825669', '/actions/game_3825670', '/actions/game_3825671', '/actions/game_3825672', '/actions/game_3825673', '/actions/game_3825674', '/actions/game_3825675', '/actions/game_3825676', '/actions/game_3825677', '/actions/game_3825678', '/actions/game_3825679', '/actions/game_3825680', '/actions/game_3825681', '/actions/game_3825682', '/actions/game_3825683', '/actions/game_3825684', '/actions/game_3825685', '/actions/game_3825686', '/actions/game_3825687', '/actions/game_3825688', '/actions/game_3825689', '/actions/game_3825690', '/actions/game_3825691', '/actions/game_3825692', '/actions/game_3825693', '/actions/game_3825694', '/actions/game_3825695', '/actions/game_3825696', '/actions/game_3825697', '/actions/game_3825698', '/actions/game_3825699', '/actions/game_3825700', '/actions/game_3825701', '/actions/game_3825702', '/actions/game_3825703', '/actions/game_3825704', '/actions/game_3825705', '/actions/game_3825706', '/actions/game_3825707', '/actions/game_3825708', '/actions/game_3825709', '/actions/game_3825710', '/actions/game_3825711', '/actions/game_3825712', '/actions/game_3825713', '/actions/game_3825714', '/actions/game_3825715', '/actions/game_3825716', '/actions/game_3825717', '/actions/game_3825718', '/actions/game_3825719', '/actions/game_3825720', '/actions/game_3825721', '/actions/game_3825722', '/actions/game_3825723', '/actions/game_3825724', '/actions/game_3825725', '/actions/game_3825726', '/actions/game_3825727', '/actions/game_3825728', '/actions/game_3825729', '/actions/game_3825730', '/actions/game_3825731', '/actions/game_3825732', '/actions/game_3825733', '/actions/game_3825734', '/actions/game_3825735', '/actions/game_3825736', '/actions/game_3825737', '/actions/game_3825738', '/actions/game_3825739', '/actions/game_3825740', '/actions/game_3825741', '/actions/game_3825742', '/actions/game_3825743', '/actions/game_3825744', '/actions/game_3825745', '/actions/game_3825746', '/actions/game_3825747', '/actions/game_3825748', '/actions/game_3825749', '/actions/game_3825750', '/actions/game_3825751', '/actions/game_3825752', '/actions/game_3825753', '/actions/game_3825754', '/actions/game_3825755', '/actions/game_3825756', '/actions/game_3825757', '/actions/game_3825758', '/actions/game_3825759', '/actions/game_3825760', '/actions/game_3825761', '/actions/game_3825762', '/actions/game_3825763', '/actions/game_3825764', '/actions/game_3825765', '/actions/game_3825766', '/actions/game_3825767', '/actions/game_3825768', '/actions/game_3825769', '/actions/game_3825770', '/actions/game_3825771', '/actions/game_3825772', '/actions/game_3825773', '/actions/game_3825774', '/actions/game_3825775', '/actions/game_3825776', '/actions/game_3825777', '/actions/game_3825778', '/actions/game_3825779', '/actions/game_3825780', '/actions/game_3825781', '/actions/game_3825782', '/actions/game_3825783', '/actions/game_3825784', '/actions/game_3825785', '/actions/game_3825786', '/actions/game_3825787', '/actions/game_3825788', '/actions/game_3825789', '/actions/game_3825790', '/actions/game_3825791', '/actions/game_3825792', '/actions/game_3825793', '/actions/game_3825794', '/actions/game_3825795', '/actions/game_3825796', '/actions/game_3825797', '/actions/game_3825798', '/actions/game_3825799', '/actions/game_3825800', '/actions/game_3825801', '/actions/game_3825802', '/actions/game_3825803', '/actions/game_3825804', '/actions/game_3825805', '/actions/game_3825806', '/actions/game_3825807', '/actions/game_3825808', '/actions/game_3825809', '/actions/game_3825810', '/actions/game_3825811', '/actions/game_3825812', '/actions/game_3825813', '/actions/game_3825814', '/actions/game_3825815', '/actions/game_3825816', '/actions/game_3825817', '/actions/game_3825818', '/actions/game_3825819', '/actions/game_3825820', '/actions/game_3825821', '/actions/game_3825822', '/actions/game_3825823', '/actions/game_3825824', '/actions/game_3825825', '/actions/game_3825826', '/actions/game_3825827', '/actions/game_3825828', '/actions/game_3825829', '/actions/game_3825830', '/actions/game_3825831', '/actions/game_3825832', '/actions/game_3825833', '/actions/game_3825834', '/actions/game_3825835', '/actions/game_3825836', '/actions/game_3825837', '/actions/game_3825838', '/actions/game_3825839', '/actions/game_3825840', '/actions/game_3825841', '/actions/game_3825842', '/actions/game_3825843', '/actions/game_3825844', '/actions/game_3825845', '/actions/game_3825846', '/actions/game_3825847', '/actions/game_3825848', '/actions/game_3825849', '/actions/game_3825850', '/actions/game_3825851', '/actions/game_3825852', '/actions/game_3825853', '/actions/game_3825854', '/actions/game_3825855', '/actions/game_3825856', '/actions/game_3825857', '/actions/game_3825858', '/actions/game_3825859', '/actions/game_3825860', '/actions/game_3825861', '/actions/game_3825862', '/actions/game_3825863', '/actions/game_3825864', '/actions/game_3825865', '/actions/game_3825866', '/actions/game_3825867', '/actions/game_3825868', '/actions/game_3825869', '/actions/game_3825870', '/actions/game_3825871', '/actions/game_3825872', '/actions/game_3825873', '/actions/game_3825874', '/actions/game_3825875', '/actions/game_3825876', '/actions/game_3825877', '/actions/game_3825878', '/actions/game_3825879', '/actions/game_3825880', '/actions/game_3825881', '/actions/game_3825882', '/actions/game_3825883', '/actions/game_3825884', '/actions/game_3825885', '/actions/game_3825886', '/actions/game_3825887', '/actions/game_3825888', '/actions/game_3825889', '/actions/game_3825890', '/actions/game_3825891', '/actions/game_3825892', '/actions/game_3825893', '/actions/game_3825894', '/actions/game_3825895', '/actions/game_3825896', '/actions/game_3825897', '/actions/game_3825898', '/actions/game_3825899', '/actions/game_3825900', '/actions/game_3825901', '/actions/game_3825902', '/actions/game_3825903', '/actions/game_3825904', '/actions/game_3825905', '/actions/game_3825906', '/actions/game_3825907', '/actions/game_3825908', '/actions/game_3827335', '/actions/game_3827336', '/actions/game_3827337', '/actions/game_3827338', '/actions/game_3827767', '/actions/game_3829413', '/actions/game_3829414', '/actions/game_3829415', '/actions/game_3829416', '/actions/game_3829417', '/actions/game_3829418', '/actions/game_3829419', '/actions/game_3829420', '/actions/game_3829421', '/actions/game_3829422', '/actions/game_3829423', '/actions/game_3829424', '/actions/game_3829425', '/actions/game_3829426', '/actions/game_3829427', '/actions/game_3829428', '/actions/game_3829429', '/actions/game_3829430', '/actions/game_3829431', '/actions/game_3829432', '/actions/game_3829433', '/actions/game_3829434', '/actions/game_3829435', '/actions/game_3829436', '/actions/game_3829437', '/actions/game_3829438', '/actions/game_3829439', '/actions/game_3829440', '/actions/game_3829441', '/actions/game_3829442', '/actions/game_3829443', '/actions/game_3829444', '/actions/game_3829445', '/actions/game_3829446', '/actions/game_3829447', '/actions/game_3829448', '/actions/game_3829449', '/actions/game_3829450', '/actions/game_3829451', '/actions/game_3829452', '/actions/game_3829453', '/actions/game_3829454', '/actions/game_3829455', '/actions/game_3829456', '/actions/game_3829457', '/actions/game_3829458', '/actions/game_3829459', '/actions/game_3829460', '/actions/game_3829461', '/actions/game_3829462', '/actions/game_3829463', '/actions/game_3829464', '/actions/game_3829465', '/actions/game_3829466', '/actions/game_3829467', '/actions/game_3829468', '/actions/game_3829469', '/actions/game_3829470', '/actions/game_3829471', '/actions/game_3829472', '/actions/game_3829473', '/actions/game_3829474', '/actions/game_3829475', '/actions/game_3829476', '/actions/game_3829477', '/actions/game_3829478', '/actions/game_3829479', '/actions/game_3829480', '/actions/game_3829481', '/actions/game_3829482', '/actions/game_3829483', '/actions/game_3829484', '/actions/game_3829485', '/actions/game_3829486', '/actions/game_3829487', '/actions/game_3829488', '/actions/game_3829489', '/actions/game_3829490', '/actions/game_3829491', '/actions/game_3829492', '/actions/game_3829493', '/actions/game_3829494', '/actions/game_3829495', '/actions/game_3829496', '/actions/game_3829497', '/actions/game_3829498', '/actions/game_3829499', '/actions/game_3829500', '/actions/game_3829501', '/actions/game_3829502', '/actions/game_3829503', '/actions/game_3829504', '/actions/game_3829505', '/actions/game_3829506', '/actions/game_3829507', '/actions/game_3829508', '/actions/game_3829509', '/actions/game_3829510', '/actions/game_3829511', '/actions/game_3829512', '/actions/game_3829513', '/actions/game_3829514', '/actions/game_3829515', '/actions/game_3829516', '/actions/game_3829517', '/actions/game_3829518', '/actions/game_3829519', '/actions/game_3829520', '/actions/game_3829521', '/actions/game_3829522', '/actions/game_3835319', '/actions/game_3835320', '/actions/game_3835321', '/actions/game_3835322', '/actions/game_3835323', '/actions/game_3835324', '/actions/game_3835325', '/actions/game_3835326', '/actions/game_3835327', '/actions/game_3835328', '/actions/game_3835329', '/actions/game_3835330', '/actions/game_3835331', '/actions/game_3835332', '/actions/game_3835333', '/actions/game_3835334', '/actions/game_3835335', '/actions/game_3835336', '/actions/game_3835337', '/actions/game_3835338', '/actions/game_3835339', '/actions/game_3835340', '/actions/game_3835341', '/actions/game_3835342', '/actions/game_3844384', '/actions/game_3844385', '/actions/game_3844386', '/actions/game_3844387', '/actions/game_3845506', '/actions/game_3845507', '/actions/game_3847567', '/actions/game_3857254', '/actions/game_3857255', '/actions/game_3857256', '/actions/game_3857257', '/actions/game_3857258', '/actions/game_3857259', '/actions/game_3857260', '/actions/game_3857261', '/actions/game_3857262', '/actions/game_3857263', '/actions/game_3857264', '/actions/game_3857265', '/actions/game_3857266', '/actions/game_3857267', '/actions/game_3857268', '/actions/game_3857269', '/actions/game_3857270', '/actions/game_3857271', '/actions/game_3857272', '/actions/game_3857273', '/actions/game_3857274', '/actions/game_3857275', '/actions/game_3857276', '/actions/game_3857277', '/actions/game_3857278', '/actions/game_3857279', '/actions/game_3857280', '/actions/game_3857281', '/actions/game_3857282', '/actions/game_3857283', '/actions/game_3857284', '/actions/game_3857285', '/actions/game_3857286', '/actions/game_3857287', '/actions/game_3857288', '/actions/game_3857289', '/actions/game_3857290', '/actions/game_3857291', '/actions/game_3857292', '/actions/game_3857293', '/actions/game_3857294', '/actions/game_3857295', '/actions/game_3857296', '/actions/game_3857297', '/actions/game_3857298', '/actions/game_3857299', '/actions/game_3857300', '/actions/game_3857301', '/actions/game_3869117', '/actions/game_3869118', '/actions/game_3869151', '/actions/game_3869152', '/actions/game_3869219', '/actions/game_3869220', '/actions/game_3869253', '/actions/game_3869254', '/actions/game_3869321', '/actions/game_3869354', '/actions/game_3869420', '/actions/game_3869486', '/actions/game_3869519', '/actions/game_3869552', '/actions/game_3869684', '/actions/game_3869685', '/actions/game_3878540', '/actions/game_3878541', '/actions/game_3878542', '/actions/game_3878543', '/actions/game_3878544', '/actions/game_3878545', '/actions/game_3878546', '/actions/game_3878547', '/actions/game_3878548', '/actions/game_3878549', '/actions/game_3878550', '/actions/game_3878551', '/actions/game_3878552', '/actions/game_3878553', '/actions/game_3878554', '/actions/game_3878555', '/actions/game_3878556', '/actions/game_3878557', '/actions/game_3878558', '/actions/game_3878559', '/actions/game_3878592', '/actions/game_3878593', '/actions/game_3878594', '/actions/game_3878595', '/actions/game_3878596', '/actions/game_3878597', '/actions/game_3878598', '/actions/game_3878599', '/actions/game_3878600', '/actions/game_3878601', '/actions/game_3878602', '/actions/game_3878603', '/actions/game_3878604', '/actions/game_3878605', '/actions/game_3878606', '/actions/game_3878607', '/actions/game_3878608', '/actions/game_3878609', '/actions/game_3878610', '/actions/game_3878611', '/actions/game_3879537', '/actions/game_3879538', '/actions/game_3879539', '/actions/game_3879540', '/actions/game_3879541', '/actions/game_3879542', '/actions/game_3879543', '/actions/game_3879544', '/actions/game_3879545', '/actions/game_3879546', '/actions/game_3879547', '/actions/game_3879548', '/actions/game_3879549', '/actions/game_3879550', '/actions/game_3879551', '/actions/game_3879552', '/actions/game_3879553', '/actions/game_3879554', '/actions/game_3879555', '/actions/game_3879556', '/actions/game_3879557', '/actions/game_3879558', '/actions/game_3879559', '/actions/game_3879560', '/actions/game_3879561', '/actions/game_3879562', '/actions/game_3879563', '/actions/game_3879564', '/actions/game_3879565', '/actions/game_3879566', '/actions/game_3879567', '/actions/game_3879568', '/actions/game_3879569', '/actions/game_3879570', '/actions/game_3879571', '/actions/game_3879572', '/actions/game_3879573', '/actions/game_3879574', '/actions/game_3879575', '/actions/game_3879576', '/actions/game_3879577', '/actions/game_3879578', '/actions/game_3879579', '/actions/game_3879580', '/actions/game_3879581', '/actions/game_3879582', '/actions/game_3879583', '/actions/game_3879584', '/actions/game_3879585', '/actions/game_3879586', '/actions/game_3879587', '/actions/game_3879588', '/actions/game_3879589', '/actions/game_3879590', '/actions/game_3879591', '/actions/game_3879592', '/actions/game_3879593', '/actions/game_3879594', '/actions/game_3879595', '/actions/game_3879596', '/actions/game_3879597', '/actions/game_3879598', '/actions/game_3879599', '/actions/game_3879600', '/actions/game_3879601', '/actions/game_3879602', '/actions/game_3879603', '/actions/game_3879604', '/actions/game_3879605', '/actions/game_3879606', '/actions/game_3879607', '/actions/game_3879608', '/actions/game_3879609', '/actions/game_3879610', '/actions/game_3879611', '/actions/game_3879612', '/actions/game_3879613', '/actions/game_3879614', '/actions/game_3879615', '/actions/game_3879616', '/actions/game_3879617', '/actions/game_3879618', '/actions/game_3879619', '/actions/game_3879620', '/actions/game_3879621', '/actions/game_3879622', '/actions/game_3879623', '/actions/game_3879624', '/actions/game_3879625', '/actions/game_3879626', '/actions/game_3879627', '/actions/game_3879628', '/actions/game_3879629', '/actions/game_3879630', '/actions/game_3879631', '/actions/game_3879632', '/actions/game_3879633', '/actions/game_3879634', '/actions/game_3879635', '/actions/game_3879636', '/actions/game_3879637', '/actions/game_3879638', '/actions/game_3879639', '/actions/game_3879640', '/actions/game_3879641', '/actions/game_3879642', '/actions/game_3879643', '/actions/game_3879644', '/actions/game_3879645', '/actions/game_3879646', '/actions/game_3879647', '/actions/game_3879648', '/actions/game_3879649', '/actions/game_3879650', '/actions/game_3879651', '/actions/game_3879652', '/actions/game_3879653', '/actions/game_3879654', '/actions/game_3879655', '/actions/game_3879656', '/actions/game_3879657', '/actions/game_3879658', '/actions/game_3879659', '/actions/game_3879660', '/actions/game_3879661', '/actions/game_3879662', '/actions/game_3879663', '/actions/game_3879664', '/actions/game_3879665', '/actions/game_3879666', '/actions/game_3879667', '/actions/game_3879668', '/actions/game_3879669', '/actions/game_3879670', '/actions/game_3879671', '/actions/game_3879672', '/actions/game_3879673', '/actions/game_3879674', '/actions/game_3879675', '/actions/game_3879676', '/actions/game_3879677', '/actions/game_3879678', '/actions/game_3879679', '/actions/game_3879680', '/actions/game_3879681', '/actions/game_3879682', '/actions/game_3879683', '/actions/game_3879684', '/actions/game_3879685', '/actions/game_3879686', '/actions/game_3879687', '/actions/game_3879688', '/actions/game_3879689', '/actions/game_3879690', '/actions/game_3879691', '/actions/game_3879692', '/actions/game_3879693', '/actions/game_3879694', '/actions/game_3879695', '/actions/game_3879696', '/actions/game_3879697', '/actions/game_3879698', '/actions/game_3879699', '/actions/game_3879700', '/actions/game_3879701', '/actions/game_3879702', '/actions/game_3879703', '/actions/game_3879704', '/actions/game_3879705', '/actions/game_3879706', '/actions/game_3879707', '/actions/game_3879708', '/actions/game_3879709', '/actions/game_3879710', '/actions/game_3879711', '/actions/game_3879712', '/actions/game_3879713', '/actions/game_3879714', '/actions/game_3879715', '/actions/game_3879716', '/actions/game_3879717', '/actions/game_3879718', '/actions/game_3879719', '/actions/game_3879720', '/actions/game_3879721', '/actions/game_3879722', '/actions/game_3879723', '/actions/game_3879724', '/actions/game_3879725', '/actions/game_3879726', '/actions/game_3879727', '/actions/game_3879728', '/actions/game_3879729', '/actions/game_3879730', '/actions/game_3879731', '/actions/game_3879732', '/actions/game_3879733', '/actions/game_3879734', '/actions/game_3879735', '/actions/game_3879736', '/actions/game_3879737', '/actions/game_3879738', '/actions/game_3879739', '/actions/game_3879740', '/actions/game_3879741', '/actions/game_3879742', '/actions/game_3879743', '/actions/game_3879744', '/actions/game_3879745', '/actions/game_3879746', '/actions/game_3879747', '/actions/game_3879748', '/actions/game_3879749', '/actions/game_3879750', '/actions/game_3879751', '/actions/game_3879752', '/actions/game_3879753', '/actions/game_3879754', '/actions/game_3879755', '/actions/game_3879756', '/actions/game_3879757', '/actions/game_3879758', '/actions/game_3879759', '/actions/game_3879760', '/actions/game_3879761', '/actions/game_3879762', '/actions/game_3879763', '/actions/game_3879764', '/actions/game_3879765', '/actions/game_3879766', '/actions/game_3879767', '/actions/game_3879768', '/actions/game_3879769', '/actions/game_3879770', '/actions/game_3879771', '/actions/game_3879772', '/actions/game_3879773', '/actions/game_3879774', '/actions/game_3879775', '/actions/game_3879776', '/actions/game_3879777', '/actions/game_3879778', '/actions/game_3879779', '/actions/game_3879780', '/actions/game_3879781', '/actions/game_3879782', '/actions/game_3879783', '/actions/game_3879784', '/actions/game_3879785', '/actions/game_3879786', '/actions/game_3879787', '/actions/game_3879788', '/actions/game_3879789', '/actions/game_3879790', '/actions/game_3879791', '/actions/game_3879792', '/actions/game_3879793', '/actions/game_3879794', '/actions/game_3879795', '/actions/game_3879796', '/actions/game_3879797', '/actions/game_3879798', '/actions/game_3879799', '/actions/game_3879800', '/actions/game_3879801', '/actions/game_3879802', '/actions/game_3879803', '/actions/game_3879804', '/actions/game_3879805', '/actions/game_3879806', '/actions/game_3879807', '/actions/game_3879808', '/actions/game_3879809', '/actions/game_3879810', '/actions/game_3879811', '/actions/game_3879812', '/actions/game_3879813', '/actions/game_3879814', '/actions/game_3879815', '/actions/game_3879816', '/actions/game_3879817', '/actions/game_3879818', '/actions/game_3879819', '/actions/game_3879820', '/actions/game_3879821', '/actions/game_3879822', '/actions/game_3879823', '/actions/game_3879824', '/actions/game_3879825', '/actions/game_3879826', '/actions/game_3879827', '/actions/game_3879828', '/actions/game_3879829', '/actions/game_3879830', '/actions/game_3879831', '/actions/game_3879832', '/actions/game_3879833', '/actions/game_3879834', '/actions/game_3879835', '/actions/game_3879836', '/actions/game_3879837', '/actions/game_3879838', '/actions/game_3879839', '/actions/game_3879840', '/actions/game_3879841', '/actions/game_3879842', '/actions/game_3879843', '/actions/game_3879844', '/actions/game_3879845', '/actions/game_3879846', '/actions/game_3879847', '/actions/game_3879848', '/actions/game_3879849', '/actions/game_3879850', '/actions/game_3879851', '/actions/game_3879852', '/actions/game_3879853', '/actions/game_3879854', '/actions/game_3879855', '/actions/game_3879856', '/actions/game_3879857', '/actions/game_3879858', '/actions/game_3879859', '/actions/game_3879860', '/actions/game_3879861', '/actions/game_3879862', '/actions/game_3879863', '/actions/game_3879864', '/actions/game_3879865', '/actions/game_3879866', '/actions/game_3879867', '/actions/game_3879868', '/actions/game_3879869', '/actions/game_3879870', '/actions/game_3879871', '/actions/game_3879872', '/actions/game_3879873', '/actions/game_3879874', '/actions/game_3879875', '/actions/game_3879876', '/actions/game_3887188', '/actions/game_3888699', '/actions/game_3888700', '/actions/game_3888701', '/actions/game_3888702', '/actions/game_3888704', '/actions/game_3888705', '/actions/game_3888706', '/actions/game_3888711', '/actions/game_3888713', '/actions/game_3888716', '/actions/game_3888717', '/actions/game_3888718', '/actions/game_3888719', '/actions/game_3888720', '/actions/game_3888721', '/actions/game_3888754', '/actions/game_3888787', '/actions/game_3888854', '/actions/game_3889082', '/actions/game_3889115', '/actions/game_3889148', '/actions/game_3889149', '/actions/game_3889182', '/actions/game_3889217', '/actions/game_3889218', '/actions/game_3890259', '/actions/game_3890260', '/actions/game_3890261', '/actions/game_3890262', '/actions/game_3890263', '/actions/game_3890264', '/actions/game_3890265', '/actions/game_3890266', '/actions/game_3890267', '/actions/game_3890268', '/actions/game_3890269', '/actions/game_3890270', '/actions/game_3890271', '/actions/game_3890272', '/actions/game_3890273', '/actions/game_3890274', '/actions/game_3890275', '/actions/game_3890276', '/actions/game_3890277', '/actions/game_3890278', '/actions/game_3890279', '/actions/game_3890280', '/actions/game_3890281', '/actions/game_3890282', '/actions/game_3890283', '/actions/game_3890284', '/actions/game_3890285', '/actions/game_3890286', '/actions/game_3890287', '/actions/game_3890288', '/actions/game_3890289', '/actions/game_3890290', '/actions/game_3890291', '/actions/game_3890292', '/actions/game_3890293', '/actions/game_3890294', '/actions/game_3890295', '/actions/game_3890296', '/actions/game_3890297', '/actions/game_3890298', '/actions/game_3890299', '/actions/game_3890300', '/actions/game_3890301', '/actions/game_3890302', '/actions/game_3890303', '/actions/game_3890304', '/actions/game_3890305', '/actions/game_3890306', '/actions/game_3890307', '/actions/game_3890308', '/actions/game_3890309', '/actions/game_3890310', '/actions/game_3890311', '/actions/game_3890312', '/actions/game_3890313', '/actions/game_3890314', '/actions/game_3890315', '/actions/game_3890316', '/actions/game_3890317', '/actions/game_3890318', '/actions/game_3890319', '/actions/game_3890320', '/actions/game_3890321', '/actions/game_3890322', '/actions/game_3890323', '/actions/game_3890324', '/actions/game_3890325', '/actions/game_3890326', '/actions/game_3890327', '/actions/game_3890328', '/actions/game_3890329', '/actions/game_3890330', '/actions/game_3890331', '/actions/game_3890332', '/actions/game_3890333', '/actions/game_3890334', '/actions/game_3890335', '/actions/game_3890336', '/actions/game_3890337', '/actions/game_3890338', '/actions/game_3890339', '/actions/game_3890340', '/actions/game_3890341', '/actions/game_3890342', '/actions/game_3890343', '/actions/game_3890344', '/actions/game_3890345', '/actions/game_3890346', '/actions/game_3890347', '/actions/game_3890348', '/actions/game_3890349', '/actions/game_3890350', '/actions/game_3890351', '/actions/game_3890352', '/actions/game_3890353', '/actions/game_3890354', '/actions/game_3890355', '/actions/game_3890356', '/actions/game_3890357', '/actions/game_3890358', '/actions/game_3890359', '/actions/game_3890360', '/actions/game_3890361', '/actions/game_3890362', '/actions/game_3890363', '/actions/game_3890364', '/actions/game_3890365', '/actions/game_3890366', '/actions/game_3890367', '/actions/game_3890368', '/actions/game_3890369', '/actions/game_3890370', '/actions/game_3890371', '/actions/game_3890372', '/actions/game_3890373', '/actions/game_3890374', '/actions/game_3890375', '/actions/game_3890376', '/actions/game_3890377', '/actions/game_3890378', '/actions/game_3890379', '/actions/game_3890380', '/actions/game_3890381', '/actions/game_3890382', '/actions/game_3890383', '/actions/game_3890384', '/actions/game_3890385', '/actions/game_3890386', '/actions/game_3890387', '/actions/game_3890388', '/actions/game_3890389', '/actions/game_3890390', '/actions/game_3890391', '/actions/game_3890392', '/actions/game_3890393', '/actions/game_3890394', '/actions/game_3890395', '/actions/game_3890396', '/actions/game_3890397', '/actions/game_3890398', '/actions/game_3890399', '/actions/game_3890400', '/actions/game_3890401', '/actions/game_3890402', '/actions/game_3890403', '/actions/game_3890404', '/actions/game_3890405', '/actions/game_3890406', '/actions/game_3890407', '/actions/game_3890408', '/actions/game_3890409', '/actions/game_3890410', '/actions/game_3890411', '/actions/game_3890412', '/actions/game_3890413', '/actions/game_3890414', '/actions/game_3890415', '/actions/game_3890416', '/actions/game_3890417', '/actions/game_3890418', '/actions/game_3890419', '/actions/game_3890420', '/actions/game_3890421', '/actions/game_3890422', '/actions/game_3890423', '/actions/game_3890424', '/actions/game_3890425', '/actions/game_3890426', '/actions/game_3890427', '/actions/game_3890428', '/actions/game_3890429', '/actions/game_3890430', '/actions/game_3890431', '/actions/game_3890432', '/actions/game_3890433', '/actions/game_3890434', '/actions/game_3890435', '/actions/game_3890436', '/actions/game_3890437', '/actions/game_3890438', '/actions/game_3890439', '/actions/game_3890440', '/actions/game_3890441', '/actions/game_3890442', '/actions/game_3890443', '/actions/game_3890444', '/actions/game_3890445', '/actions/game_3890446', '/actions/game_3890447', '/actions/game_3890448', '/actions/game_3890449', '/actions/game_3890450', '/actions/game_3890451', '/actions/game_3890452', '/actions/game_3890453', '/actions/game_3890454', '/actions/game_3890455', '/actions/game_3890456', '/actions/game_3890457', '/actions/game_3890458', '/actions/game_3890459', '/actions/game_3890460', '/actions/game_3890461', '/actions/game_3890462', '/actions/game_3890463', '/actions/game_3890464', '/actions/game_3890465', '/actions/game_3890466', '/actions/game_3890467', '/actions/game_3890468', '/actions/game_3890469', '/actions/game_3890470', '/actions/game_3890471', '/actions/game_3890472', '/actions/game_3890473', '/actions/game_3890474', '/actions/game_3890475', '/actions/game_3890476', '/actions/game_3890477', '/actions/game_3890478', '/actions/game_3890479', '/actions/game_3890480', '/actions/game_3890481', '/actions/game_3890482', '/actions/game_3890483', '/actions/game_3890484', '/actions/game_3890485', '/actions/game_3890486', '/actions/game_3890487', '/actions/game_3890488', '/actions/game_3890489', '/actions/game_3890490', '/actions/game_3890491', '/actions/game_3890492', '/actions/game_3890493', '/actions/game_3890494', '/actions/game_3890495', '/actions/game_3890496', '/actions/game_3890497', '/actions/game_3890498', '/actions/game_3890499', '/actions/game_3890500', '/actions/game_3890501', '/actions/game_3890502', '/actions/game_3890503', '/actions/game_3890504', '/actions/game_3890505', '/actions/game_3890506', '/actions/game_3890507', '/actions/game_3890508', '/actions/game_3890509', '/actions/game_3890510', '/actions/game_3890511', '/actions/game_3890512', '/actions/game_3890513', '/actions/game_3890514', '/actions/game_3890515', '/actions/game_3890516', '/actions/game_3890517', '/actions/game_3890518', '/actions/game_3890519', '/actions/game_3890520', '/actions/game_3890521', '/actions/game_3890522', '/actions/game_3890523', '/actions/game_3890524', '/actions/game_3890525', '/actions/game_3890526', '/actions/game_3890527', '/actions/game_3890528', '/actions/game_3890529', '/actions/game_3890530', '/actions/game_3890531', '/actions/game_3890532', '/actions/game_3890533', '/actions/game_3890534', '/actions/game_3890535', '/actions/game_3890536', '/actions/game_3890537', '/actions/game_3890538', '/actions/game_3890539', '/actions/game_3890540', '/actions/game_3890541', '/actions/game_3890542', '/actions/game_3890543', '/actions/game_3890544', '/actions/game_3890545', '/actions/game_3890546', '/actions/game_3890547', '/actions/game_3890548', '/actions/game_3890549', '/actions/game_3890550', '/actions/game_3890551', '/actions/game_3890552', '/actions/game_3890553', '/actions/game_3890554', '/actions/game_3890555', '/actions/game_3890556', '/actions/game_3890557', '/actions/game_3890558', '/actions/game_3890559', '/actions/game_3890560', '/actions/game_3890561', '/actions/game_3890562', '/actions/game_3890563', '/actions/game_3890564', '/actions/game_3893787', '/actions/game_3893788', '/actions/game_3893789', '/actions/game_3893790', '/actions/game_3893791', '/actions/game_3893792', '/actions/game_3893793', '/actions/game_3893794', '/actions/game_3893795', '/actions/game_3893796', '/actions/game_3893797', '/actions/game_3893798', '/actions/game_3893799', '/actions/game_3893800', '/actions/game_3893801', '/actions/game_3893802', '/actions/game_3893803', '/actions/game_3893804', '/actions/game_3893805', '/actions/game_3893806', '/actions/game_3893807', '/actions/game_3893808', '/actions/game_3893809', '/actions/game_3893810', '/actions/game_3893811', '/actions/game_3893812', '/actions/game_3893813', '/actions/game_3893814', '/actions/game_3893815', '/actions/game_3893816', '/actions/game_3893817', '/actions/game_3893818', '/actions/game_3893819', '/actions/game_3893820', '/actions/game_3893821', '/actions/game_3893822', '/actions/game_3893823', '/actions/game_3893824', '/actions/game_3893825', '/actions/game_3893826', '/actions/game_3893827', '/actions/game_3893828', '/actions/game_3893829', '/actions/game_3893830', '/actions/game_3893831', '/actions/game_3893832', '/actions/game_3893833', '/actions/game_3893834', '/actions/game_3900490', '/actions/game_3900491', '/actions/game_3900492', '/actions/game_3900493', '/actions/game_3900494', '/actions/game_3900495', '/actions/game_3900496', '/actions/game_3900497', '/actions/game_3900498', '/actions/game_3900499', '/actions/game_3900500', '/actions/game_3900501', '/actions/game_3900502', '/actions/game_3900503', '/actions/game_3900504', '/actions/game_3900505', '/actions/game_3900506', '/actions/game_3900507', '/actions/game_3900508', '/actions/game_3900509', '/actions/game_3900510', '/actions/game_3900511', '/actions/game_3900512', '/actions/game_3900513', '/actions/game_3900514', '/actions/game_3900515', '/actions/game_3900516', '/actions/game_3900518', '/actions/game_3900519', '/actions/game_3900520', '/actions/game_3900521', '/actions/game_3900522', '/actions/game_3900523', '/actions/game_3900524', '/actions/game_3900525', '/actions/game_3900526', '/actions/game_3900527', '/actions/game_3900528', '/actions/game_3900529', '/actions/game_3900530', '/actions/game_3900531', '/actions/game_3900532', '/actions/game_3900533', '/actions/game_3900534', '/actions/game_3900535', '/actions/game_3900536', '/actions/game_3900537', '/actions/game_3900538', '/actions/game_3900539', '/actions/game_3900540', '/actions/game_3900541', '/actions/game_3900542', '/actions/game_3900543', '/actions/game_3900544', '/actions/game_3900545', '/actions/game_3900546', '/actions/game_3900547', '/actions/game_3900548', '/actions/game_3900549', '/actions/game_3900550', '/actions/game_3900551', '/actions/game_3900552', '/actions/game_3900553', '/actions/game_3900554', '/actions/game_3900555', '/actions/game_3900556', '/actions/game_3900557', '/actions/game_3900558', '/actions/game_3900559', '/actions/game_3900560', '/actions/game_3900561', '/actions/game_3900562', '/actions/game_3900563', '/actions/game_3900564', '/actions/game_3900565', '/actions/game_3900566', '/actions/game_3900567', '/actions/game_3900568', '/actions/game_3900569', '/actions/game_3900570', '/actions/game_3900571', '/actions/game_3900572', '/actions/game_3900573', '/actions/game_3900574', '/actions/game_3900575', '/actions/game_3900576', '/actions/game_3900577', '/actions/game_3900578', '/actions/game_3900579', '/actions/game_3900580', '/actions/game_3900581', '/actions/game_3900582', '/actions/game_3900583', '/actions/game_3900584', '/actions/game_3900585', '/actions/game_3900586', '/actions/game_3900587', '/actions/game_3900588', '/actions/game_3900589', '/actions/game_3900590', '/actions/game_3900591', '/actions/game_3900592', '/actions/game_3900593', '/actions/game_3900594', '/actions/game_3900595', '/actions/game_3900596', '/actions/game_3900597', '/actions/game_3900598', '/actions/game_3900599', '/actions/game_3900600', '/actions/game_3900601', '/actions/game_3900602', '/actions/game_3900603', '/actions/game_3900604', '/actions/game_3900605', '/actions/game_3900606', '/actions/game_3900608', '/actions/game_3900609', '/actions/game_3900610', '/actions/game_3900611', '/actions/game_3900612', '/actions/game_3900613', '/actions/game_3900614', '/actions/game_3900615', '/actions/game_3900616', '/actions/game_3900617', '/actions/game_3900618', '/actions/game_3900619', '/actions/game_3900620', '/actions/game_3900621', '/actions/game_3900622', '/actions/game_3900623', '/actions/game_3900624', '/actions/game_3900625', '/actions/game_3900626', '/actions/game_3900627', '/actions/game_3900628', '/actions/game_3900629', '/actions/game_3900630', '/actions/game_3900631', '/actions/game_3900632', '/actions/game_3900633', '/actions/game_3900634', '/actions/game_3900635', '/actions/game_3900636', '/actions/game_3900637', '/actions/game_3900638', '/actions/game_3900639', '/actions/game_3901144', '/actions/game_3901145', '/actions/game_3901146', '/actions/game_3901147', '/actions/game_3901148', '/actions/game_3901149', '/actions/game_3901150', '/actions/game_3901151', '/actions/game_3901152', '/actions/game_3901153', '/actions/game_3901154', '/actions/game_3901155', '/actions/game_3901156', '/actions/game_3901157', '/actions/game_3901158', '/actions/game_3901159', '/actions/game_3901160', '/actions/game_3901161', '/actions/game_3901162', '/actions/game_3901163', '/actions/game_3901164', '/actions/game_3901165', '/actions/game_3901166', '/actions/game_3901167', '/actions/game_3901168', '/actions/game_3901169', '/actions/game_3901170', '/actions/game_3901171', '/actions/game_3901172', '/actions/game_3901173', '/actions/game_3901174', '/actions/game_3901175', '/actions/game_3901176', '/actions/game_3901177', '/actions/game_3901178', '/actions/game_3901179', '/actions/game_3901180', '/actions/game_3901181', '/actions/game_3901182', '/actions/game_3901183', '/actions/game_3901184', '/actions/game_3901185', '/actions/game_3901186', '/actions/game_3901187', '/actions/game_3901188', '/actions/game_3901189', '/actions/game_3901190', '/actions/game_3901191', '/actions/game_3901192', '/actions/game_3901193', '/actions/game_3901194', '/actions/game_3901195', '/actions/game_3901196', '/actions/game_3901197', '/actions/game_3901198', '/actions/game_3901199', '/actions/game_3901200', '/actions/game_3901201', '/actions/game_3901202', '/actions/game_3901203', '/actions/game_3901204', '/actions/game_3901205', '/actions/game_3901206', '/actions/game_3901207', '/actions/game_3901208', '/actions/game_3901209', '/actions/game_3901210', '/actions/game_3901211', '/actions/game_3901212', '/actions/game_3901213', '/actions/game_3901214', '/actions/game_3901215', '/actions/game_3901216', '/actions/game_3901217', '/actions/game_3901218', '/actions/game_3901219', '/actions/game_3901220', '/actions/game_3901221', '/actions/game_3901222', '/actions/game_3901223', '/actions/game_3901224', '/actions/game_3901225', '/actions/game_3901226', '/actions/game_3901227', '/actions/game_3901228', '/actions/game_3901229', '/actions/game_3901230', '/actions/game_3901231', '/actions/game_3901232', '/actions/game_3901233', '/actions/game_3901234', '/actions/game_3901235', '/actions/game_3901236', '/actions/game_3901237', '/actions/game_3901238', '/actions/game_3901240', '/actions/game_3901241', '/actions/game_3901242', '/actions/game_3901243', '/actions/game_3901244', '/actions/game_3901245', '/actions/game_3901246', '/actions/game_3901247', '/actions/game_3901248', '/actions/game_3901249', '/actions/game_3901250', '/actions/game_3901251', '/actions/game_3901252', '/actions/game_3901253', '/actions/game_3901254', '/actions/game_3901255', '/actions/game_3901256', '/actions/game_3901257', '/actions/game_3901258', '/actions/game_3901259', '/actions/game_3901260', '/actions/game_3901261', '/actions/game_3901262', '/actions/game_3901263', '/actions/game_3901733', '/actions/game_3901734', '/actions/game_3901735', '/actions/game_3901736', '/actions/game_3901796', '/actions/game_3901797', '/actions/game_3901832', '/actions/game_3901833', '/actions/game_3902239', '/actions/game_3902240', '/actions/game_3902967', '/actions/game_3902968', '/actions/game_3904628', '/actions/game_3904629', '/actions/game_3906389', '/actions/game_3906390', '/actions/game_68313', '/actions/game_68314', '/actions/game_68315', '/actions/game_68316', '/actions/game_68317', '/actions/game_68318', '/actions/game_68319', '/actions/game_68320', '/actions/game_68321', '/actions/game_68322', '/actions/game_68323', '/actions/game_68324', '/actions/game_68325', '/actions/game_68326', '/actions/game_68327', '/actions/game_68328', '/actions/game_68329', '/actions/game_68330', '/actions/game_68331', '/actions/game_68332', '/actions/game_68333', '/actions/game_68334', '/actions/game_68335', '/actions/game_68336', '/actions/game_68339', '/actions/game_68340', '/actions/game_68341', '/actions/game_68342', '/actions/game_68347', '/actions/game_68348', '/actions/game_68350', '/actions/game_68351', '/actions/game_68352', '/actions/game_68353', '/actions/game_68354', '/actions/game_68356', '/actions/game_68358', '/actions/game_68359', '/actions/game_68360', '/actions/game_68361', '/actions/game_68363', '/actions/game_68364', '/actions/game_68365', '/actions/game_68366', '/actions/game_69138', '/actions/game_69139', '/actions/game_69141', '/actions/game_69142', '/actions/game_69143', '/actions/game_69144', '/actions/game_69145', '/actions/game_69146', '/actions/game_69147', '/actions/game_69148', '/actions/game_69149', '/actions/game_69151', '/actions/game_69153', '/actions/game_69154', '/actions/game_69155', '/actions/game_69156', '/actions/game_69157', '/actions/game_69158', '/actions/game_69159', '/actions/game_69160', '/actions/game_69162', '/actions/game_69164', '/actions/game_69165', '/actions/game_69166', '/actions/game_69169', '/actions/game_69170', '/actions/game_69171', '/actions/game_69172', '/actions/game_69173', '/actions/game_69174', '/actions/game_69175', '/actions/game_69176', '/actions/game_69177', '/actions/game_69178', '/actions/game_69179', '/actions/game_69180', '/actions/game_69181', '/actions/game_69182', '/actions/game_69183', '/actions/game_69184', '/actions/game_69185', '/actions/game_69186', '/actions/game_69187', '/actions/game_69189', '/actions/game_69195', '/actions/game_69207', '/actions/game_69209', '/actions/game_69210', '/actions/game_69211', '/actions/game_69212', '/actions/game_69213', '/actions/game_69214', '/actions/game_69215', '/actions/game_69216', '/actions/game_69217', '/actions/game_69218', '/actions/game_69219', '/actions/game_69220', '/actions/game_69221', '/actions/game_69222', '/actions/game_69223', '/actions/game_69224', '/actions/game_69225', '/actions/game_69226', '/actions/game_69227', '/actions/game_69228', '/actions/game_69229', '/actions/game_69230', '/actions/game_69231', '/actions/game_69232', '/actions/game_69233', '/actions/game_69234', '/actions/game_69235', '/actions/game_69236', '/actions/game_69237', '/actions/game_69238', '/actions/game_69239', '/actions/game_69240', '/actions/game_69241', '/actions/game_69242', '/actions/game_69243', '/actions/game_69244', '/actions/game_69245', '/actions/game_69246', '/actions/game_69247', '/actions/game_69248', '/actions/game_69249', '/actions/game_69250', '/actions/game_69251', '/actions/game_69252', '/actions/game_69253', '/actions/game_69254', '/actions/game_69255', '/actions/game_69256', '/actions/game_69257', '/actions/game_69259', '/actions/game_69260', '/actions/game_69262', '/actions/game_69263', '/actions/game_69264', '/actions/game_69265', '/actions/game_69267', '/actions/game_69268', '/actions/game_69269', '/actions/game_69270', '/actions/game_69271', '/actions/game_69272', '/actions/game_69273', '/actions/game_69274', '/actions/game_69275', '/actions/game_69276', '/actions/game_69277', '/actions/game_69278', '/actions/game_69279', '/actions/game_69280', '/actions/game_69282', '/actions/game_69283', '/actions/game_69285', '/actions/game_69286', '/actions/game_69287', '/actions/game_69288', '/actions/game_69289', '/actions/game_69291', '/actions/game_69292', '/actions/game_69293', '/actions/game_69295', '/actions/game_69296', '/actions/game_69297', '/actions/game_69298', '/actions/game_69299', '/actions/game_69300', '/actions/game_69302', '/actions/game_69303', '/actions/game_69304', '/actions/game_69305', '/actions/game_69306', '/actions/game_69307', '/actions/game_69308', '/actions/game_69312', '/actions/game_69314', '/actions/game_69315', '/actions/game_69316', '/actions/game_69318', '/actions/game_69319', '/actions/game_69320', '/actions/game_69322', '/actions/game_69323', '/actions/game_69324', '/actions/game_69325', '/actions/game_69326', '/actions/game_69327', '/actions/game_69328', '/actions/game_69329', '/actions/game_69330', '/actions/game_69331', '/actions/game_69332', '/actions/game_69333', '/actions/game_69334', '/actions/game_69335', '/actions/game_69336', '/actions/game_69337', '/actions/game_69338', '/actions/game_69340', '/actions/game_69343', '/actions/game_70219', '/actions/game_70220', '/actions/game_70221', '/actions/game_70223', '/actions/game_70224', '/actions/game_70225', '/actions/game_70256', '/actions/game_70259', '/actions/game_70260', '/actions/game_70262', '/actions/game_70263', '/actions/game_70264', '/actions/game_70270', '/actions/game_70271', '/actions/game_70272', '/actions/game_70273', '/actions/game_70275', '/actions/game_70276', '/actions/game_70277', '/actions/game_70280', '/actions/game_70281', '/actions/game_70282', '/actions/game_70283', '/actions/game_70284', '/actions/game_70286', '/actions/game_70287', '/actions/game_70288', '/actions/game_70289', '/actions/game_70291', '/actions/game_70292', '/actions/game_70293', '/actions/game_70294', '/actions/game_70295', '/actions/game_70296', '/actions/game_70297', '/actions/game_70298', '/actions/game_70300', '/actions/game_70301', '/actions/game_70302', '/actions/game_70303', '/actions/game_70304', '/actions/game_70305', '/actions/game_70306', '/actions/game_70307', '/actions/game_70308', '/actions/game_70309', '/actions/game_7525', '/actions/game_7529', '/actions/game_7530', '/actions/game_7531', '/actions/game_7532', '/actions/game_7533', '/actions/game_7534', '/actions/game_7535', '/actions/game_7536', '/actions/game_7537', '/actions/game_7538', '/actions/game_7539', '/actions/game_7540', '/actions/game_7541', '/actions/game_7542', '/actions/game_7543', '/actions/game_7544', '/actions/game_7545', '/actions/game_7546', '/actions/game_7547', '/actions/game_7548', '/actions/game_7549', '/actions/game_7550', '/actions/game_7551', '/actions/game_7552', '/actions/game_7553', '/actions/game_7554', '/actions/game_7555', '/actions/game_7556', '/actions/game_7557', '/actions/game_7558', '/actions/game_7559', '/actions/game_7560', '/actions/game_7561', '/actions/game_7562', '/actions/game_7563', '/actions/game_7564', '/actions/game_7565', '/actions/game_7566', '/actions/game_7567', '/actions/game_7568', '/actions/game_7569', '/actions/game_7570', '/actions/game_7571', '/actions/game_7572', '/actions/game_7576', '/actions/game_7577', '/actions/game_7578', '/actions/game_7579', '/actions/game_7580', '/actions/game_7581', '/actions/game_7582', '/actions/game_7583', '/actions/game_7584', '/actions/game_7585', '/actions/game_7586', '/actions/game_8649', '/actions/game_8650', '/actions/game_8651', '/actions/game_8652', '/actions/game_8655', '/actions/game_8656', '/actions/game_8657', '/actions/game_8658', '/actions/game_9575', '/actions/game_9581', '/actions/game_9592', '/actions/game_9602', '/actions/game_9609', '/actions/game_9620', '/actions/game_9636', '/actions/game_9642', '/actions/game_9650', '/actions/game_9661', '/actions/game_9673', '/actions/game_9682', '/actions/game_9695', '/actions/game_9700', '/actions/game_9717', '/actions/game_9726', '/actions/game_9736', '/actions/game_9742', '/actions/game_9754', '/actions/game_9765', '/actions/game_9774', '/actions/game_9783', '/actions/game_9794', '/actions/game_9799', '/actions/game_9811', '/actions/game_9827', '/actions/game_9837', '/actions/game_9855', '/actions/game_9860', '/actions/game_9870', '/actions/game_9880', '/actions/game_9889', '/actions/game_9912', '/actions/game_9924', '/actions/game_9928', '/actions/game_9948']\n",
      "['/game_15946', '/game_15956', '/game_15973', '/game_15978', '/game_15986', '/game_15998', '/game_16010', '/game_16023', '/game_16029', '/game_16056', '/game_16073', '/game_16079', '/game_16086', '/game_16095', '/game_16109', '/game_16120', '/game_16131', '/game_16136', '/game_16149', '/game_16157', '/game_16173', '/game_16182', '/game_16190', '/game_16196', '/game_16205', '/game_16215', '/game_16231', '/game_16240', '/game_16248', '/game_16265', '/game_16275', '/game_16289', '/game_16306', '/game_16317', '/game_18235', '/game_18236', '/game_18237', '/game_18240', '/game_18241', '/game_18242', '/game_18243', '/game_18244', '/game_18245', '/game_22912', '/game_2302764', '/game_265830', '/game_265835', '/game_265837', '/game_265839', '/game_265857', '/game_265866', '/game_265894', '/game_265896', '/game_265918', '/game_265944', '/game_265952', '/game_265958', '/game_265963', '/game_266015', '/game_266033', '/game_266045', '/game_266056', '/game_266066', '/game_266074', '/game_266106', '/game_266117', '/game_266142', '/game_266148', '/game_266149', '/game_266160', '/game_266166', '/game_266191', '/game_266201', '/game_266230', '/game_266236', '/game_266240', '/game_266254', '/game_266256', '/game_266273', '/game_266274', '/game_266280', '/game_266299', '/game_266310', '/game_266320', '/game_266357', '/game_266406', '/game_266420', '/game_266424', '/game_266433', '/game_266440', '/game_266462', '/game_266467', '/game_266477', '/game_266490', '/game_266491', '/game_266498', '/game_266516', '/game_266525', '/game_266528', '/game_266531', '/game_266557', '/game_266560', '/game_266603', '/game_266613', '/game_266620', '/game_266631', '/game_266653', '/game_266664', '/game_266669', '/game_266670', '/game_266724', '/game_266731', '/game_266741', '/game_266770', '/game_266794', '/game_266815', '/game_266827', '/game_266838', '/game_266846', '/game_266871', '/game_266874', '/game_266883', '/game_266885', '/game_266892', '/game_266916', '/game_266921', '/game_266929', '/game_266952', '/game_266961', '/game_266967', '/game_266986', '/game_266989', '/game_267039', '/game_267058', '/game_267076', '/game_267077', '/game_267085', '/game_267101', '/game_267138', '/game_267183', '/game_267192', '/game_267197', '/game_267212', '/game_267220', '/game_267273', '/game_267274', '/game_267301', '/game_267327', '/game_267343', '/game_267368', '/game_267373', '/game_267395', '/game_267400', '/game_267422', '/game_267432', '/game_267464', '/game_267492', '/game_267499', '/game_267502', '/game_267506', '/game_267520', '/game_267533', '/game_267561', '/game_267567', '/game_267569', '/game_267576', '/game_267590', '/game_267596', '/game_267597', '/game_267611', '/game_267660', '/game_267670', '/game_267675', '/game_303377', '/game_303400', '/game_303421', '/game_303430', '/game_303451', '/game_303470', '/game_303473', '/game_303479', '/game_303487', '/game_303493', '/game_303504', '/game_303516', '/game_303517', '/game_303524', '/game_303532', '/game_303548', '/game_303596', '/game_303600', '/game_303610', '/game_303615', '/game_303634', '/game_303652', '/game_303664', '/game_303666', '/game_303674', '/game_303680', '/game_303682', '/game_303696', '/game_303700', '/game_303707', '/game_303715', '/game_303725', '/game_303731', '/game_3749052', '/game_3749068', '/game_3749079', '/game_3749108', '/game_3749117', '/game_3749133', '/game_3749153', '/game_3749192', '/game_3749196', '/game_3749233', '/game_3749246', '/game_3749253', '/game_3749257', '/game_3749274', '/game_3749276', '/game_3749278', '/game_3749296', '/game_3749310', '/game_3749346', '/game_3749358', '/game_3749360', '/game_3749403', '/game_3749431', '/game_3749434', '/game_3749448', '/game_3749453', '/game_3749454', '/game_3749462', '/game_3749465', '/game_3749493', '/game_3749522', '/game_3749526', '/game_3749528', '/game_3749552', '/game_3749590', '/game_3749603', '/game_3749631', '/game_3749642', '/game_3750180', '/game_3750191', '/game_3750200', '/game_3750201', '/game_3750234', '/game_3750235', '/game_3750244', '/game_3750245', '/game_3750248', '/game_3752619', '/game_3753972', '/game_3753973', '/game_3753974', '/game_3753975', '/game_3753976', '/game_3753977', '/game_3753978', '/game_3753979', '/game_3753980', '/game_3753981', '/game_3753982', '/game_3753983', '/game_3753984', '/game_3753985', '/game_3753986', '/game_3753987', '/game_3753988', '/game_3753989', '/game_3753990', '/game_3753991', '/game_3753992', '/game_3753993', '/game_3753994', '/game_3753995', '/game_3753996', '/game_3753997', '/game_3753998', '/game_3753999', '/game_3754000', '/game_3754001', '/game_3754002', '/game_3754003', '/game_3754004', '/game_3754005', '/game_3754006', '/game_3754007', '/game_3754008', '/game_3754009', '/game_3754010', '/game_3754011', '/game_3754012', '/game_3754013', '/game_3754014', '/game_3754015', '/game_3754016', '/game_3754017', '/game_3754018', '/game_3754019', '/game_3754020', '/game_3754021', '/game_3754022', '/game_3754023', '/game_3754024', '/game_3754025', '/game_3754026', '/game_3754027', '/game_3754028', '/game_3754029', '/game_3754030', '/game_3754031', '/game_3754032', '/game_3754033', '/game_3754034', '/game_3754035', '/game_3754036', '/game_3754037', '/game_3754038', '/game_3754039', '/game_3754040', '/game_3754041', '/game_3754042', '/game_3754043', '/game_3754044', '/game_3754045', '/game_3754046', '/game_3754047', '/game_3754048', '/game_3754049', '/game_3754050', '/game_3754051', '/game_3754052', '/game_3754053', '/game_3754054', '/game_3754055', '/game_3754056', '/game_3754057', '/game_3754058', '/game_3754059', '/game_3754060', '/game_3754061', '/game_3754062', '/game_3754063', '/game_3754064', '/game_3754065', '/game_3754066', '/game_3754067', '/game_3754068', '/game_3754069', '/game_3754070', '/game_3754071', '/game_3754072', '/game_3754073', '/game_3754074', '/game_3754075', '/game_3754076', '/game_3754077', '/game_3754078', '/game_3754079', '/game_3754080', '/game_3754081', '/game_3754082', '/game_3754083', '/game_3754084', '/game_3754085', '/game_3754086', '/game_3754087', '/game_3754088', '/game_3754089', '/game_3754090', '/game_3754091', '/game_3754092', '/game_3754093', '/game_3754094', '/game_3754095', '/game_3754096', '/game_3754097', '/game_3754098', '/game_3754099', '/game_3754100', '/game_3754101', '/game_3754102', '/game_3754103', '/game_3754104', '/game_3754105', '/game_3754106', '/game_3754107', '/game_3754108', '/game_3754109', '/game_3754110', '/game_3754111', '/game_3754112', '/game_3754113', '/game_3754114', '/game_3754115', '/game_3754116', '/game_3754117', '/game_3754118', '/game_3754119', '/game_3754120', '/game_3754121', '/game_3754122', '/game_3754123', '/game_3754124', '/game_3754125', '/game_3754126', '/game_3754127', '/game_3754128', '/game_3754129', '/game_3754130', '/game_3754131', '/game_3754132', '/game_3754133', '/game_3754134', '/game_3754135', '/game_3754136', '/game_3754137', '/game_3754138', '/game_3754139', '/game_3754140', '/game_3754141', '/game_3754142', '/game_3754143', '/game_3754144', '/game_3754145', '/game_3754146', '/game_3754147', '/game_3754148', '/game_3754149', '/game_3754150', '/game_3754151', '/game_3754152', '/game_3754153', '/game_3754154', '/game_3754155', '/game_3754156', '/game_3754157', '/game_3754158', '/game_3754159', '/game_3754160', '/game_3754161', '/game_3754162', '/game_3754163', '/game_3754164', '/game_3754165', '/game_3754166', '/game_3754167', '/game_3754168', '/game_3754169', '/game_3754170', '/game_3754171', '/game_3754172', '/game_3754173', '/game_3754174', '/game_3754175', '/game_3754176', '/game_3754177', '/game_3754178', '/game_3754179', '/game_3754180', '/game_3754181', '/game_3754182', '/game_3754183', '/game_3754184', '/game_3754185', '/game_3754186', '/game_3754187', '/game_3754188', '/game_3754189', '/game_3754190', '/game_3754191', '/game_3754192', '/game_3754193', '/game_3754194', '/game_3754195', '/game_3754196', '/game_3754197', '/game_3754198', '/game_3754199', '/game_3754200', '/game_3754201', '/game_3754202', '/game_3754203', '/game_3754204', '/game_3754205', '/game_3754206', '/game_3754207', '/game_3754208', '/game_3754209', '/game_3754210', '/game_3754211', '/game_3754212', '/game_3754213', '/game_3754214', '/game_3754215', '/game_3754216', '/game_3754217', '/game_3754218', '/game_3754219', '/game_3754220', '/game_3754221', '/game_3754222', '/game_3754223', '/game_3754224', '/game_3754225', '/game_3754226', '/game_3754227', '/game_3754228', '/game_3754229', '/game_3754230', '/game_3754231', '/game_3754232', '/game_3754233', '/game_3754234', '/game_3754235', '/game_3754236', '/game_3754237', '/game_3754238', '/game_3754239', '/game_3754240', '/game_3754241', '/game_3754242', '/game_3754243', '/game_3754244', '/game_3754245', '/game_3754246', '/game_3754247', '/game_3754248', '/game_3754249', '/game_3754250', '/game_3754251', '/game_3754252', '/game_3754253', '/game_3754254', '/game_3754255', '/game_3754256', '/game_3754257', '/game_3754258', '/game_3754259', '/game_3754260', '/game_3754261', '/game_3754262', '/game_3754263', '/game_3754264', '/game_3754265', '/game_3754266', '/game_3754267', '/game_3754268', '/game_3754269', '/game_3754270', '/game_3754271', '/game_3754272', '/game_3754273', '/game_3754274', '/game_3754275', '/game_3754276', '/game_3754277', '/game_3754278', '/game_3754279', '/game_3754280', '/game_3754281', '/game_3754282', '/game_3754283', '/game_3754284', '/game_3754285', '/game_3754286', '/game_3754287', '/game_3754288', '/game_3754289', '/game_3754290', '/game_3754291', '/game_3754292', '/game_3754293', '/game_3754294', '/game_3754295', '/game_3754296', '/game_3754297', '/game_3754298', '/game_3754299', '/game_3754300', '/game_3754301', '/game_3754302', '/game_3754303', '/game_3754304', '/game_3754305', '/game_3754306', '/game_3754307', '/game_3754308', '/game_3754309', '/game_3754310', '/game_3754311', '/game_3754312', '/game_3754313', '/game_3754314', '/game_3754315', '/game_3754316', '/game_3754317', '/game_3754318', '/game_3754319', '/game_3754320', '/game_3754321', '/game_3754322', '/game_3754323', '/game_3754324', '/game_3754325', '/game_3754326', '/game_3754327', '/game_3754328', '/game_3754329', '/game_3754330', '/game_3754331', '/game_3754332', '/game_3754333', '/game_3754334', '/game_3754335', '/game_3754336', '/game_3754337', '/game_3754338', '/game_3754339', '/game_3754340', '/game_3754341', '/game_3754342', '/game_3754343', '/game_3754344', '/game_3754345', '/game_3754346', '/game_3754347', '/game_3754348', '/game_3754349', '/game_3754350', '/game_3754351', '/game_3764440', '/game_3764661', '/game_3773369', '/game_3773372', '/game_3773377', '/game_3773386', '/game_3773387', '/game_3773403', '/game_3773415', '/game_3773428', '/game_3773457', '/game_3773466', '/game_3773474', '/game_3773477', '/game_3773497', '/game_3773523', '/game_3773526', '/game_3773547', '/game_3773552', '/game_3773565', '/game_3773571', '/game_3773585', '/game_3773586', '/game_3773587', '/game_3773593', '/game_3773597', '/game_3773625', '/game_3773631', '/game_3773656', '/game_3773660', '/game_3773661', '/game_3773665', '/game_3773672', '/game_3773689', '/game_3773695', '/game_3788741', '/game_3788742', '/game_3788743', '/game_3788744', '/game_3788745', '/game_3788746', '/game_3788747', '/game_3788748', '/game_3788749', '/game_3788750', '/game_3788751', '/game_3788752', '/game_3788753', '/game_3788754', '/game_3788755', '/game_3788756', '/game_3788757', '/game_3788758', '/game_3788759', '/game_3788760', '/game_3788761', '/game_3788762', '/game_3788763', '/game_3788764', '/game_3788765', '/game_3788766', '/game_3788767', '/game_3788768', '/game_3788769', '/game_3788770', '/game_3788771', '/game_3788772', '/game_3788773', '/game_3788774', '/game_3788775', '/game_3788776', '/game_3793185', '/game_3794685', '/game_3794686', '/game_3794687', '/game_3794688', '/game_3794689', '/game_3794690', '/game_3794691', '/game_3794692', '/game_3795107', '/game_3795108', '/game_3795109', '/game_3795187', '/game_3795220', '/game_3795221', '/game_3795506', '/game_3813264', '/game_3813265', '/game_3813266', '/game_3813267', '/game_3813268', '/game_3813269', '/game_3813270', '/game_3813271', '/game_3813272', '/game_3813273', '/game_3813274', '/game_3813275', '/game_3813276', '/game_3813277', '/game_3813278', '/game_3813279', '/game_3813280', '/game_3813281', '/game_3813282', '/game_3813283', '/game_3813284', '/game_3813285', '/game_3813286', '/game_3813287', '/game_3813288', '/game_3813289', '/game_3813290', '/game_3813291', '/game_3813292', '/game_3813293', '/game_3813294', '/game_3813295', '/game_3813296', '/game_3813297', '/game_3813298', '/game_3813299', '/game_3813300', '/game_3813301', '/game_3813302', '/game_3813303', '/game_3813304', '/game_3813305', '/game_3813306', '/game_3813307', '/game_3813308', '/game_3813309', '/game_3813310', '/game_3813311', '/game_3813312', '/game_3813313', '/game_3813314', '/game_3813315', '/game_3813316', '/game_3813317', '/game_3813318', '/game_3817848', '/game_3817849', '/game_3817850', '/game_3817851', '/game_3817852', '/game_3817853', '/game_3817854', '/game_3817855', '/game_3817856', '/game_3817857', '/game_3817858', '/game_3817859', '/game_3817860', '/game_3817861', '/game_3817862', '/game_3817863', '/game_3817864', '/game_3817865', '/game_3817866', '/game_3817867', '/game_3817868', '/game_3817869', '/game_3817870', '/game_3817871', '/game_3817872', '/game_3817873', '/game_3817874', '/game_3817875', '/game_3817876', '/game_3817877', '/game_3817878', '/game_3817879', '/game_3817880', '/game_3817881', '/game_3817882', '/game_3817883', '/game_3817884', '/game_3817885', '/game_3817886', '/game_3817887', '/game_3817888', '/game_3817889', '/game_3817890', '/game_3817891', '/game_3817892', '/game_3817893', '/game_3817894', '/game_3817895', '/game_3817896', '/game_3817897', '/game_3817898', '/game_3817899', '/game_3817900', '/game_3817901', '/game_3817902', '/game_3825562', '/game_3825563', '/game_3825564', '/game_3825565', '/game_3825566', '/game_3825567', '/game_3825568', '/game_3825569', '/game_3825570', '/game_3825571', '/game_3825572', '/game_3825573', '/game_3825574', '/game_3825575', '/game_3825576', '/game_3825577', '/game_3825578', '/game_3825579', '/game_3825580', '/game_3825581', '/game_3825582', '/game_3825583', '/game_3825584', '/game_3825585', '/game_3825586', '/game_3825587', '/game_3825588', '/game_3825589', '/game_3825590', '/game_3825591', '/game_3825592', '/game_3825593', '/game_3825594', '/game_3825595', '/game_3825596', '/game_3825597', '/game_3825598', '/game_3825599', '/game_3825600', '/game_3825601', '/game_3825602', '/game_3825603', '/game_3825604', '/game_3825605', '/game_3825606', '/game_3825607', '/game_3825608', '/game_3825609', '/game_3825610', '/game_3825611', '/game_3825612', '/game_3825613', '/game_3825614', '/game_3825615', '/game_3825616', '/game_3825617', '/game_3825618', '/game_3825619', '/game_3825620', '/game_3825621', '/game_3825622', '/game_3825623', '/game_3825624', '/game_3825625', '/game_3825626', '/game_3825627', '/game_3825628', '/game_3825629', '/game_3825630', '/game_3825631', '/game_3825632', '/game_3825633', '/game_3825634', '/game_3825635', '/game_3825636', '/game_3825637', '/game_3825638', '/game_3825639', '/game_3825640', '/game_3825641', '/game_3825642', '/game_3825643', '/game_3825644', '/game_3825645', '/game_3825646', '/game_3825647', '/game_3825648', '/game_3825649', '/game_3825650', '/game_3825651', '/game_3825652', '/game_3825653', '/game_3825654', '/game_3825655', '/game_3825656', '/game_3825657', '/game_3825658', '/game_3825659', '/game_3825660', '/game_3825661', '/game_3825662', '/game_3825663', '/game_3825664', '/game_3825665', '/game_3825666', '/game_3825667', '/game_3825668', '/game_3825669', '/game_3825670', '/game_3825671', '/game_3825672', '/game_3825673', '/game_3825674', '/game_3825675', '/game_3825676', '/game_3825677', '/game_3825678', '/game_3825679', '/game_3825680', '/game_3825681', '/game_3825682', '/game_3825683', '/game_3825684', '/game_3825685', '/game_3825686', '/game_3825687', '/game_3825688', '/game_3825689', '/game_3825690', '/game_3825691', '/game_3825692', '/game_3825693', '/game_3825694', '/game_3825695', '/game_3825696', '/game_3825697', '/game_3825698', '/game_3825699', '/game_3825700', '/game_3825701', '/game_3825702', '/game_3825703', '/game_3825704', '/game_3825705', '/game_3825706', '/game_3825707', '/game_3825708', '/game_3825709', '/game_3825710', '/game_3825711', '/game_3825712', '/game_3825713', '/game_3825714', '/game_3825715', '/game_3825716', '/game_3825717', '/game_3825718', '/game_3825719', '/game_3825720', '/game_3825721', '/game_3825722', '/game_3825723', '/game_3825724', '/game_3825725', '/game_3825726', '/game_3825727', '/game_3825728', '/game_3825729', '/game_3825730', '/game_3825731', '/game_3825732', '/game_3825733', '/game_3825734', '/game_3825735', '/game_3825736', '/game_3825737', '/game_3825738', '/game_3825739', '/game_3825740', '/game_3825741', '/game_3825742', '/game_3825743', '/game_3825744', '/game_3825745', '/game_3825746', '/game_3825747', '/game_3825748', '/game_3825749', '/game_3825750', '/game_3825751', '/game_3825752', '/game_3825753', '/game_3825754', '/game_3825755', '/game_3825756', '/game_3825757', '/game_3825758', '/game_3825759', '/game_3825760', '/game_3825761', '/game_3825762', '/game_3825763', '/game_3825764', '/game_3825765', '/game_3825766', '/game_3825767', '/game_3825768', '/game_3825769', '/game_3825770', '/game_3825771', '/game_3825772', '/game_3825773', '/game_3825774', '/game_3825775', '/game_3825776', '/game_3825777', '/game_3825778', '/game_3825779', '/game_3825780', '/game_3825781', '/game_3825782', '/game_3825783', '/game_3825784', '/game_3825785', '/game_3825786', '/game_3825787', '/game_3825788', '/game_3825789', '/game_3825790', '/game_3825791', '/game_3825792', '/game_3825793', '/game_3825794', '/game_3825795', '/game_3825796', '/game_3825797', '/game_3825798', '/game_3825799', '/game_3825800', '/game_3825801', '/game_3825802', '/game_3825803', '/game_3825804', '/game_3825805', '/game_3825806', '/game_3825807', '/game_3825808', '/game_3825809', '/game_3825810', '/game_3825811', '/game_3825812', '/game_3825813', '/game_3825814', '/game_3825815', '/game_3825816', '/game_3825817', '/game_3825818', '/game_3825819', '/game_3825820', '/game_3825821', '/game_3825822', '/game_3825823', '/game_3825824', '/game_3825825', '/game_3825826', '/game_3825827', '/game_3825828', '/game_3825829', '/game_3825830', '/game_3825831', '/game_3825832', '/game_3825833', '/game_3825834', '/game_3825835', '/game_3825836', '/game_3825837', '/game_3825838', '/game_3825839', '/game_3825840', '/game_3825841', '/game_3825842', '/game_3825843', '/game_3825844', '/game_3825845', '/game_3825846', '/game_3825847', '/game_3825848', '/game_3825849', '/game_3825850', '/game_3825851', '/game_3825852', '/game_3825853', '/game_3825854', '/game_3825855', '/game_3825856', '/game_3825857', '/game_3825858', '/game_3825859', '/game_3825860', '/game_3825861', '/game_3825862', '/game_3825863', '/game_3825864', '/game_3825865', '/game_3825866', '/game_3825867', '/game_3825868', '/game_3825869', '/game_3825870', '/game_3825871', '/game_3825872', '/game_3825873', '/game_3825874', '/game_3825875', '/game_3825876', '/game_3825877', '/game_3825878', '/game_3825879', '/game_3825880', '/game_3825881', '/game_3825882', '/game_3825883', '/game_3825884', '/game_3825885', '/game_3825886', '/game_3825887', '/game_3825888', '/game_3825889', '/game_3825890', '/game_3825891', '/game_3825892', '/game_3825893', '/game_3825894', '/game_3825895', '/game_3825896', '/game_3825897', '/game_3825898', '/game_3825899', '/game_3825900', '/game_3825901', '/game_3825902', '/game_3825903', '/game_3825904', '/game_3825905', '/game_3825906', '/game_3825907', '/game_3825908', '/game_3827335', '/game_3827336', '/game_3827337', '/game_3827338', '/game_3827767', '/game_3829413', '/game_3829414', '/game_3829415', '/game_3829416', '/game_3829417', '/game_3829418', '/game_3829419', '/game_3829420', '/game_3829421', '/game_3829422', '/game_3829423', '/game_3829424', '/game_3829425', '/game_3829426', '/game_3829427', '/game_3829428', '/game_3829429', '/game_3829430', '/game_3829431', '/game_3829432', '/game_3829433', '/game_3829434', '/game_3829435', '/game_3829436', '/game_3829437', '/game_3829438', '/game_3829439', '/game_3829440', '/game_3829441', '/game_3829442', '/game_3829443', '/game_3829444', '/game_3829445', '/game_3829446', '/game_3829447', '/game_3829448', '/game_3829449', '/game_3829450', '/game_3829451', '/game_3829452', '/game_3829453', '/game_3829454', '/game_3829455', '/game_3829456', '/game_3829457', '/game_3829458', '/game_3829459', '/game_3829460', '/game_3829461', '/game_3829462', '/game_3829463', '/game_3829464', '/game_3829465', '/game_3829466', '/game_3829467', '/game_3829468', '/game_3829469', '/game_3829470', '/game_3829471', '/game_3829472', '/game_3829473', '/game_3829474', '/game_3829475', '/game_3829476', '/game_3829477', '/game_3829478', '/game_3829479', '/game_3829480', '/game_3829481', '/game_3829482', '/game_3829483', '/game_3829484', '/game_3829485', '/game_3829486', '/game_3829487', '/game_3829488', '/game_3829489', '/game_3829490', '/game_3829491', '/game_3829492', '/game_3829493', '/game_3829494', '/game_3829495', '/game_3829496', '/game_3829497', '/game_3829498', '/game_3829499', '/game_3829500', '/game_3829501', '/game_3829502', '/game_3829503', '/game_3829504', '/game_3829505', '/game_3829506', '/game_3829507', '/game_3829508', '/game_3829509', '/game_3829510', '/game_3829511', '/game_3829512', '/game_3829513', '/game_3829514', '/game_3829515', '/game_3829516', '/game_3829517', '/game_3829518', '/game_3829519', '/game_3829520', '/game_3829521', '/game_3829522', '/game_3835319', '/game_3835320', '/game_3835321', '/game_3835322', '/game_3835323', '/game_3835324', '/game_3835325', '/game_3835326', '/game_3835327', '/game_3835328', '/game_3835329', '/game_3835330', '/game_3835331', '/game_3835332', '/game_3835333', '/game_3835334', '/game_3835335', '/game_3835336', '/game_3835337', '/game_3835338', '/game_3835339', '/game_3835340', '/game_3835341', '/game_3835342', '/game_3844384', '/game_3844385', '/game_3844386', '/game_3844387', '/game_3845506', '/game_3845507', '/game_3847567', '/game_3857254', '/game_3857255', '/game_3857256', '/game_3857257', '/game_3857258', '/game_3857259', '/game_3857260', '/game_3857261', '/game_3857262', '/game_3857263', '/game_3857264', '/game_3857265', '/game_3857266', '/game_3857267', '/game_3857268', '/game_3857269', '/game_3857270', '/game_3857271', '/game_3857272', '/game_3857273', '/game_3857274', '/game_3857275', '/game_3857276', '/game_3857277', '/game_3857278', '/game_3857279', '/game_3857280', '/game_3857281', '/game_3857282', '/game_3857283', '/game_3857284', '/game_3857285', '/game_3857286', '/game_3857287', '/game_3857288', '/game_3857289', '/game_3857290', '/game_3857291', '/game_3857292', '/game_3857293', '/game_3857294', '/game_3857295', '/game_3857296', '/game_3857297', '/game_3857298', '/game_3857299', '/game_3857300', '/game_3857301', '/game_3869117', '/game_3869118', '/game_3869151', '/game_3869152', '/game_3869219', '/game_3869220', '/game_3869253', '/game_3869254', '/game_3869321', '/game_3869354', '/game_3869420', '/game_3869486', '/game_3869519', '/game_3869552', '/game_3869684', '/game_3869685', '/game_3878540', '/game_3878541', '/game_3878542', '/game_3878543', '/game_3878544', '/game_3878545', '/game_3878546', '/game_3878547', '/game_3878548', '/game_3878549', '/game_3878550', '/game_3878551', '/game_3878552', '/game_3878553', '/game_3878554', '/game_3878555', '/game_3878556', '/game_3878557', '/game_3878558', '/game_3878559', '/game_3878592', '/game_3878593', '/game_3878594', '/game_3878595', '/game_3878596', '/game_3878597', '/game_3878598', '/game_3878599', '/game_3878600', '/game_3878601', '/game_3878602', '/game_3878603', '/game_3878604', '/game_3878605', '/game_3878606', '/game_3878607', '/game_3878608', '/game_3878609', '/game_3878610', '/game_3878611', '/game_3879537', '/game_3879538', '/game_3879539', '/game_3879540', '/game_3879541', '/game_3879542', '/game_3879543', '/game_3879544', '/game_3879545', '/game_3879546', '/game_3879547', '/game_3879548', '/game_3879549', '/game_3879550', '/game_3879551', '/game_3879552', '/game_3879553', '/game_3879554', '/game_3879555', '/game_3879556', '/game_3879557', '/game_3879558', '/game_3879559', '/game_3879560', '/game_3879561', '/game_3879562', '/game_3879563', '/game_3879564', '/game_3879565', '/game_3879566', '/game_3879567', '/game_3879568', '/game_3879569', '/game_3879570', '/game_3879571', '/game_3879572', '/game_3879573', '/game_3879574', '/game_3879575', '/game_3879576', '/game_3879577', '/game_3879578', '/game_3879579', '/game_3879580', '/game_3879581', '/game_3879582', '/game_3879583', '/game_3879584', '/game_3879585', '/game_3879586', '/game_3879587', '/game_3879588', '/game_3879589', '/game_3879590', '/game_3879591', '/game_3879592', '/game_3879593', '/game_3879594', '/game_3879595', '/game_3879596', '/game_3879597', '/game_3879598', '/game_3879599', '/game_3879600', '/game_3879601', '/game_3879602', '/game_3879603', '/game_3879604', '/game_3879605', '/game_3879606', '/game_3879607', '/game_3879608', '/game_3879609', '/game_3879610', '/game_3879611', '/game_3879612', '/game_3879613', '/game_3879614', '/game_3879615', '/game_3879616', '/game_3879617', '/game_3879618', '/game_3879619', '/game_3879620', '/game_3879621', '/game_3879622', '/game_3879623', '/game_3879624', '/game_3879625', '/game_3879626', '/game_3879627', '/game_3879628', '/game_3879629', '/game_3879630', '/game_3879631', '/game_3879632', '/game_3879633', '/game_3879634', '/game_3879635', '/game_3879636', '/game_3879637', '/game_3879638', '/game_3879639', '/game_3879640', '/game_3879641', '/game_3879642', '/game_3879643', '/game_3879644', '/game_3879645', '/game_3879646', '/game_3879647', '/game_3879648', '/game_3879649', '/game_3879650', '/game_3879651', '/game_3879652', '/game_3879653', '/game_3879654', '/game_3879655', '/game_3879656', '/game_3879657', '/game_3879658', '/game_3879659', '/game_3879660', '/game_3879661', '/game_3879662', '/game_3879663', '/game_3879664', '/game_3879665', '/game_3879666', '/game_3879667', '/game_3879668', '/game_3879669', '/game_3879670', '/game_3879671', '/game_3879672', '/game_3879673', '/game_3879674', '/game_3879675', '/game_3879676', '/game_3879677', '/game_3879678', '/game_3879679', '/game_3879680', '/game_3879681', '/game_3879682', '/game_3879683', '/game_3879684', '/game_3879685', '/game_3879686', '/game_3879687', '/game_3879688', '/game_3879689', '/game_3879690', '/game_3879691', '/game_3879692', '/game_3879693', '/game_3879694', '/game_3879695', '/game_3879696', '/game_3879697', '/game_3879698', '/game_3879699', '/game_3879700', '/game_3879701', '/game_3879702', '/game_3879703', '/game_3879704', '/game_3879705', '/game_3879706', '/game_3879707', '/game_3879708', '/game_3879709', '/game_3879710', '/game_3879711', '/game_3879712', '/game_3879713', '/game_3879714', '/game_3879715', '/game_3879716', '/game_3879717', '/game_3879718', '/game_3879719', '/game_3879720', '/game_3879721', '/game_3879722', '/game_3879723', '/game_3879724', '/game_3879725', '/game_3879726', '/game_3879727', '/game_3879728', '/game_3879729', '/game_3879730', '/game_3879731', '/game_3879732', '/game_3879733', '/game_3879734', '/game_3879735', '/game_3879736', '/game_3879737', '/game_3879738', '/game_3879739', '/game_3879740', '/game_3879741', '/game_3879742', '/game_3879743', '/game_3879744', '/game_3879745', '/game_3879746', '/game_3879747', '/game_3879748', '/game_3879749', '/game_3879750', '/game_3879751', '/game_3879752', '/game_3879753', '/game_3879754', '/game_3879755', '/game_3879756', '/game_3879757', '/game_3879758', '/game_3879759', '/game_3879760', '/game_3879761', '/game_3879762', '/game_3879763', '/game_3879764', '/game_3879765', '/game_3879766', '/game_3879767', '/game_3879768', '/game_3879769', '/game_3879770', '/game_3879771', '/game_3879772', '/game_3879773', '/game_3879774', '/game_3879775', '/game_3879776', '/game_3879777', '/game_3879778', '/game_3879779', '/game_3879780', '/game_3879781', '/game_3879782', '/game_3879783', '/game_3879784', '/game_3879785', '/game_3879786', '/game_3879787', '/game_3879788', '/game_3879789', '/game_3879790', '/game_3879791', '/game_3879792', '/game_3879793', '/game_3879794', '/game_3879795', '/game_3879796', '/game_3879797', '/game_3879798', '/game_3879799', '/game_3879800', '/game_3879801', '/game_3879802', '/game_3879803', '/game_3879804', '/game_3879805', '/game_3879806', '/game_3879807', '/game_3879808', '/game_3879809', '/game_3879810', '/game_3879811', '/game_3879812', '/game_3879813', '/game_3879814', '/game_3879815', '/game_3879816', '/game_3879817', '/game_3879818', '/game_3879819', '/game_3879820', '/game_3879821', '/game_3879822', '/game_3879823', '/game_3879824', '/game_3879825', '/game_3879826', '/game_3879827', '/game_3879828', '/game_3879829', '/game_3879830', '/game_3879831', '/game_3879832', '/game_3879833', '/game_3879834', '/game_3879835', '/game_3879836', '/game_3879837', '/game_3879838', '/game_3879839', '/game_3879840', '/game_3879841', '/game_3879842', '/game_3879843', '/game_3879844', '/game_3879845', '/game_3879846', '/game_3879847', '/game_3879848', '/game_3879849', '/game_3879850', '/game_3879851', '/game_3879852', '/game_3879853', '/game_3879854', '/game_3879855', '/game_3879856', '/game_3879857', '/game_3879858', '/game_3879859', '/game_3879860', '/game_3879861', '/game_3879862', '/game_3879863', '/game_3879864', '/game_3879865', '/game_3879866', '/game_3879867', '/game_3879868', '/game_3879869', '/game_3879870', '/game_3879871', '/game_3879872', '/game_3879873', '/game_3879874', '/game_3879875', '/game_3879876', '/game_3887188', '/game_3888699', '/game_3888700', '/game_3888701', '/game_3888702', '/game_3888704', '/game_3888705', '/game_3888706', '/game_3888711', '/game_3888713', '/game_3888716', '/game_3888717', '/game_3888718', '/game_3888719', '/game_3888720', '/game_3888721', '/game_3888754', '/game_3888787', '/game_3888854', '/game_3889082', '/game_3889115', '/game_3889148', '/game_3889149', '/game_3889182', '/game_3889217', '/game_3889218', '/game_3890259', '/game_3890260', '/game_3890261', '/game_3890262', '/game_3890263', '/game_3890264', '/game_3890265', '/game_3890266', '/game_3890267', '/game_3890268', '/game_3890269', '/game_3890270', '/game_3890271', '/game_3890272', '/game_3890273', '/game_3890274', '/game_3890275', '/game_3890276', '/game_3890277', '/game_3890278', '/game_3890279', '/game_3890280', '/game_3890281', '/game_3890282', '/game_3890283', '/game_3890284', '/game_3890285', '/game_3890286', '/game_3890287', '/game_3890288', '/game_3890289', '/game_3890290', '/game_3890291', '/game_3890292', '/game_3890293', '/game_3890294', '/game_3890295', '/game_3890296', '/game_3890297', '/game_3890298', '/game_3890299', '/game_3890300', '/game_3890301', '/game_3890302', '/game_3890303', '/game_3890304', '/game_3890305', '/game_3890306', '/game_3890307', '/game_3890308', '/game_3890309', '/game_3890310', '/game_3890311', '/game_3890312', '/game_3890313', '/game_3890314', '/game_3890315', '/game_3890316', '/game_3890317', '/game_3890318', '/game_3890319', '/game_3890320', '/game_3890321', '/game_3890322', '/game_3890323', '/game_3890324', '/game_3890325', '/game_3890326', '/game_3890327', '/game_3890328', '/game_3890329', '/game_3890330', '/game_3890331', '/game_3890332', '/game_3890333', '/game_3890334', '/game_3890335', '/game_3890336', '/game_3890337', '/game_3890338', '/game_3890339', '/game_3890340', '/game_3890341', '/game_3890342', '/game_3890343', '/game_3890344', '/game_3890345', '/game_3890346', '/game_3890347', '/game_3890348', '/game_3890349', '/game_3890350', '/game_3890351', '/game_3890352', '/game_3890353', '/game_3890354', '/game_3890355', '/game_3890356', '/game_3890357', '/game_3890358', '/game_3890359', '/game_3890360', '/game_3890361', '/game_3890362', '/game_3890363', '/game_3890364', '/game_3890365', '/game_3890366', '/game_3890367', '/game_3890368', '/game_3890369', '/game_3890370', '/game_3890371', '/game_3890372', '/game_3890373', '/game_3890374', '/game_3890375', '/game_3890376', '/game_3890377', '/game_3890378', '/game_3890379', '/game_3890380', '/game_3890381', '/game_3890382', '/game_3890383', '/game_3890384', '/game_3890385', '/game_3890386', '/game_3890387', '/game_3890388', '/game_3890389', '/game_3890390', '/game_3890391', '/game_3890392', '/game_3890393', '/game_3890394', '/game_3890395', '/game_3890396', '/game_3890397', '/game_3890398', '/game_3890399', '/game_3890400', '/game_3890401', '/game_3890402', '/game_3890403', '/game_3890404', '/game_3890405', '/game_3890406', '/game_3890407', '/game_3890408', '/game_3890409', '/game_3890410', '/game_3890411', '/game_3890412', '/game_3890413', '/game_3890414', '/game_3890415', '/game_3890416', '/game_3890417', '/game_3890418', '/game_3890419', '/game_3890420', '/game_3890421', '/game_3890422', '/game_3890423', '/game_3890424', '/game_3890425', '/game_3890426', '/game_3890427', '/game_3890428', '/game_3890429', '/game_3890430', '/game_3890431', '/game_3890432', '/game_3890433', '/game_3890434', '/game_3890435', '/game_3890436', '/game_3890437', '/game_3890438', '/game_3890439', '/game_3890440', '/game_3890441', '/game_3890442', '/game_3890443', '/game_3890444', '/game_3890445', '/game_3890446', '/game_3890447', '/game_3890448', '/game_3890449', '/game_3890450', '/game_3890451', '/game_3890452', '/game_3890453', '/game_3890454', '/game_3890455', '/game_3890456', '/game_3890457', '/game_3890458', '/game_3890459', '/game_3890460', '/game_3890461', '/game_3890462', '/game_3890463', '/game_3890464', '/game_3890465', '/game_3890466', '/game_3890467', '/game_3890468', '/game_3890469', '/game_3890470', '/game_3890471', '/game_3890472', '/game_3890473', '/game_3890474', '/game_3890475', '/game_3890476', '/game_3890477', '/game_3890478', '/game_3890479', '/game_3890480', '/game_3890481', '/game_3890482', '/game_3890483', '/game_3890484', '/game_3890485', '/game_3890486', '/game_3890487', '/game_3890488', '/game_3890489', '/game_3890490', '/game_3890491', '/game_3890492', '/game_3890493', '/game_3890494', '/game_3890495', '/game_3890496', '/game_3890497', '/game_3890498', '/game_3890499', '/game_3890500', '/game_3890501', '/game_3890502', '/game_3890503', '/game_3890504', '/game_3890505', '/game_3890506', '/game_3890507', '/game_3890508', '/game_3890509', '/game_3890510', '/game_3890511', '/game_3890512', '/game_3890513', '/game_3890514', '/game_3890515', '/game_3890516', '/game_3890517', '/game_3890518', '/game_3890519', '/game_3890520', '/game_3890521', '/game_3890522', '/game_3890523', '/game_3890524', '/game_3890525', '/game_3890526', '/game_3890527', '/game_3890528', '/game_3890529', '/game_3890530', '/game_3890531', '/game_3890532', '/game_3890533', '/game_3890534', '/game_3890535', '/game_3890536', '/game_3890537', '/game_3890538', '/game_3890539', '/game_3890540', '/game_3890541', '/game_3890542', '/game_3890543', '/game_3890544', '/game_3890545', '/game_3890546', '/game_3890547', '/game_3890548', '/game_3890549', '/game_3890550', '/game_3890551', '/game_3890552', '/game_3890553', '/game_3890554', '/game_3890555', '/game_3890556', '/game_3890557', '/game_3890558', '/game_3890559', '/game_3890560', '/game_3890561', '/game_3890562', '/game_3890563', '/game_3890564', '/game_3893787', '/game_3893788', '/game_3893789', '/game_3893790', '/game_3893791', '/game_3893792', '/game_3893793', '/game_3893794', '/game_3893795', '/game_3893796', '/game_3893797', '/game_3893798', '/game_3893799', '/game_3893800', '/game_3893801', '/game_3893802', '/game_3893803', '/game_3893804', '/game_3893805', '/game_3893806', '/game_3893807', '/game_3893808', '/game_3893809', '/game_3893810', '/game_3893811', '/game_3893812', '/game_3893813', '/game_3893814', '/game_3893815', '/game_3893816', '/game_3893817', '/game_3893818', '/game_3893819', '/game_3893820', '/game_3893821', '/game_3893822', '/game_3893823', '/game_3893824', '/game_3893825', '/game_3893826', '/game_3893827', '/game_3893828', '/game_3893829', '/game_3893830', '/game_3893831', '/game_3893832', '/game_3893833', '/game_3893834', '/game_3900490', '/game_3900491', '/game_3900492', '/game_3900493', '/game_3900494', '/game_3900495', '/game_3900496', '/game_3900497', '/game_3900498', '/game_3900499', '/game_3900500', '/game_3900501', '/game_3900502', '/game_3900503', '/game_3900504', '/game_3900505', '/game_3900506', '/game_3900507', '/game_3900508', '/game_3900509', '/game_3900510', '/game_3900511', '/game_3900512', '/game_3900513', '/game_3900514', '/game_3900515', '/game_3900516', '/game_3900518', '/game_3900519', '/game_3900520', '/game_3900521', '/game_3900522', '/game_3900523', '/game_3900524', '/game_3900525', '/game_3900526', '/game_3900527', '/game_3900528', '/game_3900529', '/game_3900530', '/game_3900531', '/game_3900532', '/game_3900533', '/game_3900534', '/game_3900535', '/game_3900536', '/game_3900537', '/game_3900538', '/game_3900539', '/game_3900540', '/game_3900541', '/game_3900542', '/game_3900543', '/game_3900544', '/game_3900545', '/game_3900546', '/game_3900547', '/game_3900548', '/game_3900549', '/game_3900550', '/game_3900551', '/game_3900552', '/game_3900553', '/game_3900554', '/game_3900555', '/game_3900556', '/game_3900557', '/game_3900558', '/game_3900559', '/game_3900560', '/game_3900561', '/game_3900562', '/game_3900563', '/game_3900564', '/game_3900565', '/game_3900566', '/game_3900567', '/game_3900568', '/game_3900569', '/game_3900570', '/game_3900571', '/game_3900572', '/game_3900573', '/game_3900574', '/game_3900575', '/game_3900576', '/game_3900577', '/game_3900578', '/game_3900579', '/game_3900580', '/game_3900581', '/game_3900582', '/game_3900583', '/game_3900584', '/game_3900585', '/game_3900586', '/game_3900587', '/game_3900588', '/game_3900589', '/game_3900590', '/game_3900591', '/game_3900592', '/game_3900593', '/game_3900594', '/game_3900595', '/game_3900596', '/game_3900597', '/game_3900598', '/game_3900599', '/game_3900600', '/game_3900601', '/game_3900602', '/game_3900603', '/game_3900604', '/game_3900605', '/game_3900606', '/game_3900608', '/game_3900609', '/game_3900610', '/game_3900611', '/game_3900612', '/game_3900613', '/game_3900614', '/game_3900615', '/game_3900616', '/game_3900617', '/game_3900618', '/game_3900619', '/game_3900620', '/game_3900621', '/game_3900622', '/game_3900623', '/game_3900624', '/game_3900625', '/game_3900626', '/game_3900627', '/game_3900628', '/game_3900629', '/game_3900630', '/game_3900631', '/game_3900632', '/game_3900633', '/game_3900634', '/game_3900635', '/game_3900636', '/game_3900637', '/game_3900638', '/game_3900639', '/game_3901144', '/game_3901145', '/game_3901146', '/game_3901147', '/game_3901148', '/game_3901149', '/game_3901150', '/game_3901151', '/game_3901152', '/game_3901153', '/game_3901154', '/game_3901155', '/game_3901156', '/game_3901157', '/game_3901158', '/game_3901159', '/game_3901160', '/game_3901161', '/game_3901162', '/game_3901163', '/game_3901164', '/game_3901165', '/game_3901166', '/game_3901167', '/game_3901168', '/game_3901169', '/game_3901170', '/game_3901171', '/game_3901172', '/game_3901173', '/game_3901174', '/game_3901175', '/game_3901176', '/game_3901177', '/game_3901178', '/game_3901179', '/game_3901180', '/game_3901181', '/game_3901182', '/game_3901183', '/game_3901184', '/game_3901185', '/game_3901186', '/game_3901187', '/game_3901188', '/game_3901189', '/game_3901190', '/game_3901191', '/game_3901192', '/game_3901193', '/game_3901194', '/game_3901195', '/game_3901196', '/game_3901197', '/game_3901198', '/game_3901199', '/game_3901200', '/game_3901201', '/game_3901202', '/game_3901203', '/game_3901204', '/game_3901205', '/game_3901206', '/game_3901207', '/game_3901208', '/game_3901209', '/game_3901210', '/game_3901211', '/game_3901212', '/game_3901213', '/game_3901214', '/game_3901215', '/game_3901216', '/game_3901217', '/game_3901218', '/game_3901219', '/game_3901220', '/game_3901221', '/game_3901222', '/game_3901223', '/game_3901224', '/game_3901225', '/game_3901226', '/game_3901227', '/game_3901228', '/game_3901229', '/game_3901230', '/game_3901231', '/game_3901232', '/game_3901233', '/game_3901234', '/game_3901235', '/game_3901236', '/game_3901237', '/game_3901238', '/game_3901240', '/game_3901241', '/game_3901242', '/game_3901243', '/game_3901244', '/game_3901245', '/game_3901246', '/game_3901247', '/game_3901248', '/game_3901249', '/game_3901250', '/game_3901251', '/game_3901252', '/game_3901253', '/game_3901254', '/game_3901255', '/game_3901256', '/game_3901257', '/game_3901258', '/game_3901259', '/game_3901260', '/game_3901261', '/game_3901262', '/game_3901263', '/game_3901733', '/game_3901734', '/game_3901735', '/game_3901736', '/game_3901796', '/game_3901797', '/game_3901832', '/game_3901833', '/game_3902239', '/game_3902240', '/game_3902967', '/game_3902968', '/game_3904628', '/game_3904629', '/game_3906389', '/game_3906390', '/game_68313', '/game_68314', '/game_68315', '/game_68316', '/game_68317', '/game_68318', '/game_68319', '/game_68320', '/game_68321', '/game_68322', '/game_68323', '/game_68324', '/game_68325', '/game_68326', '/game_68327', '/game_68328', '/game_68329', '/game_68330', '/game_68331', '/game_68332', '/game_68333', '/game_68334', '/game_68335', '/game_68336', '/game_68339', '/game_68340', '/game_68341', '/game_68342', '/game_68347', '/game_68348', '/game_68350', '/game_68351', '/game_68352', '/game_68353', '/game_68354', '/game_68356', '/game_68358', '/game_68359', '/game_68360', '/game_68361', '/game_68363', '/game_68364', '/game_68365', '/game_68366', '/game_69138', '/game_69139', '/game_69141', '/game_69142', '/game_69143', '/game_69144', '/game_69145', '/game_69146', '/game_69147', '/game_69148', '/game_69149', '/game_69151', '/game_69153', '/game_69154', '/game_69155', '/game_69156', '/game_69157', '/game_69158', '/game_69159', '/game_69160', '/game_69162', '/game_69164', '/game_69165', '/game_69166', '/game_69169', '/game_69170', '/game_69171', '/game_69172', '/game_69173', '/game_69174', '/game_69175', '/game_69176', '/game_69177', '/game_69178', '/game_69179', '/game_69180', '/game_69181', '/game_69182', '/game_69183', '/game_69184', '/game_69185', '/game_69186', '/game_69187', '/game_69189', '/game_69195', '/game_69207', '/game_69209', '/game_69210', '/game_69211', '/game_69212', '/game_69213', '/game_69214', '/game_69215', '/game_69216', '/game_69217', '/game_69218', '/game_69219', '/game_69220', '/game_69221', '/game_69222', '/game_69223', '/game_69224', '/game_69225', '/game_69226', '/game_69227', '/game_69228', '/game_69229', '/game_69230', '/game_69231', '/game_69232', '/game_69233', '/game_69234', '/game_69235', '/game_69236', '/game_69237', '/game_69238', '/game_69239', '/game_69240', '/game_69241', '/game_69242', '/game_69243', '/game_69244', '/game_69245', '/game_69246', '/game_69247', '/game_69248', '/game_69249', '/game_69250', '/game_69251', '/game_69252', '/game_69253', '/game_69254', '/game_69255', '/game_69256', '/game_69257', '/game_69259', '/game_69260', '/game_69262', '/game_69263', '/game_69264', '/game_69265', '/game_69267', '/game_69268', '/game_69269', '/game_69270', '/game_69271', '/game_69272', '/game_69273', '/game_69274', '/game_69275', '/game_69276', '/game_69277', '/game_69278', '/game_69279', '/game_69280', '/game_69282', '/game_69283', '/game_69285', '/game_69286', '/game_69287', '/game_69288', '/game_69289', '/game_69291', '/game_69292', '/game_69293', '/game_69295', '/game_69296', '/game_69297', '/game_69298', '/game_69299', '/game_69300', '/game_69302', '/game_69303', '/game_69304', '/game_69305', '/game_69306', '/game_69307', '/game_69308', '/game_69312', '/game_69314', '/game_69315', '/game_69316', '/game_69318', '/game_69319', '/game_69320', '/game_69322', '/game_69323', '/game_69324', '/game_69325', '/game_69326', '/game_69327', '/game_69328', '/game_69329', '/game_69330', '/game_69331', '/game_69332', '/game_69333', '/game_69334', '/game_69335', '/game_69336', '/game_69337', '/game_69338', '/game_69340', '/game_69343', '/game_70219', '/game_70220', '/game_70221', '/game_70223', '/game_70224', '/game_70225', '/game_70256', '/game_70259', '/game_70260', '/game_70262', '/game_70263', '/game_70264', '/game_70270', '/game_70271', '/game_70272', '/game_70273', '/game_70275', '/game_70276', '/game_70277', '/game_70280', '/game_70281', '/game_70282', '/game_70283', '/game_70284', '/game_70286', '/game_70287', '/game_70288', '/game_70289', '/game_70291', '/game_70292', '/game_70293', '/game_70294', '/game_70295', '/game_70296', '/game_70297', '/game_70298', '/game_70300', '/game_70301', '/game_70302', '/game_70303', '/game_70304', '/game_70305', '/game_70306', '/game_70307', '/game_70308', '/game_70309', '/game_7525', '/game_7529', '/game_7530', '/game_7531', '/game_7532', '/game_7533', '/game_7534', '/game_7535', '/game_7536', '/game_7537', '/game_7538', '/game_7539', '/game_7540', '/game_7541', '/game_7542', '/game_7543', '/game_7544', '/game_7545', '/game_7546', '/game_7547', '/game_7548', '/game_7549', '/game_7550', '/game_7551', '/game_7552', '/game_7553', '/game_7554', '/game_7555', '/game_7556', '/game_7557', '/game_7558', '/game_7559', '/game_7560', '/game_7561', '/game_7562', '/game_7563', '/game_7564', '/game_7565', '/game_7566', '/game_7567', '/game_7568', '/game_7569', '/game_7570', '/game_7571', '/game_7572', '/game_7576', '/game_7577', '/game_7578', '/game_7579', '/game_7580', '/game_7581', '/game_7582', '/game_7583', '/game_7584', '/game_7585', '/game_7586', '/game_8649', '/game_8650', '/game_8651', '/game_8652', '/game_8655', '/game_8656', '/game_8657', '/game_8658', '/game_9575', '/game_9581', '/game_9592', '/game_9602', '/game_9609', '/game_9620', '/game_9636', '/game_9642', '/game_9650', '/game_9661', '/game_9673', '/game_9682', '/game_9695', '/game_9700', '/game_9717', '/game_9726', '/game_9736', '/game_9742', '/game_9754', '/game_9765', '/game_9774', '/game_9783', '/game_9794', '/game_9799', '/game_9811', '/game_9827', '/game_9837', '/game_9855', '/game_9860', '/game_9870', '/game_9880', '/game_9889', '/game_9912', '/game_9924', '/game_9928', '/game_9948']\n"
     ]
    }
   ],
   "source": [
    "# show spadl_h5\n",
    "with pd.HDFStore(spadl_h5) as spadlstore:\n",
    "    print(spadlstore.keys())\n",
    "\n",
    "# show features_h5\n",
    "with pd.HDFStore(features_h5) as featuresstore:\n",
    "    print(featuresstore.keys())"
   ]
  }
 ],
 "metadata": {
  "kernelspec": {
   "display_name": "dlassign",
   "language": "python",
   "name": "python3"
  },
  "language_info": {
   "codemirror_mode": {
    "name": "ipython",
    "version": 3
   },
   "file_extension": ".py",
   "mimetype": "text/x-python",
   "name": "python",
   "nbconvert_exporter": "python",
   "pygments_lexer": "ipython3",
   "version": "3.9.7"
  },
  "orig_nbformat": 4
 },
 "nbformat": 4,
 "nbformat_minor": 2
}
