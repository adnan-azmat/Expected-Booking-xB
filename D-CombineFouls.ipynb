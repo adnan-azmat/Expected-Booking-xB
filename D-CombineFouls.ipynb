{
 "cells": [
  {
   "cell_type": "code",
   "execution_count": 14,
   "metadata": {},
   "outputs": [],
   "source": [
    "import pandas as pd\n",
    "\n",
    "# load all_fouls_advanced.pkl (dataframe) and and all_the_features.pkl (list)\n",
    "# all_fouls_advanced_with_vaep = pd.read_pickle('all_fouls_advanced_with_vaep.pkl')\n",
    "# all_fouls_advanced_with_vaep.set_index('id', inplace=True)\n",
    "# all_the_features = pd.read_pickle('all_the_features.pkl')"
   ]
  },
  {
   "cell_type": "code",
   "execution_count": 19,
   "metadata": {},
   "outputs": [
    {
     "name": "stdout",
     "output_type": "stream",
     "text": [
      "[14, 0, 37.96840792026972, 1.2823667682765016, 1, 1, '9221da02-9c87-4f98-a8ea-de9994ad562b', -0.00019568584684748203]\n"
     ]
    }
   ],
   "source": [
    "# the last column in all_the_features and the 'id' column in all_fouls_advanced are the same. based on this, add a new element to each all_the_features that takes the 'vaep_offensive' column from all_fouls_advanced when the 'id' column matches. Remember all_the_features is just a list of lists. Also 'id' is all_fouls_advanced's index.\n",
    "# for i in range(len(all_the_features)):\n",
    "#     all_the_features[i].append(all_fouls_advanced.loc[all_the_features[i][-1], 'vaep_value_offensive'])\n",
    "\n",
    "# print (all_the_features[0])"
   ]
  },
  {
   "cell_type": "code",
   "execution_count": 20,
   "metadata": {},
   "outputs": [],
   "source": [
    "# Save all_the_features as a pickle file in file path: all_the_features_with_vaep.pkl\n",
    "# import pickle\n",
    "# with open('all_the_features_with_vaep.pkl', 'wb') as f:\n",
    "#     pickle.dump(all_the_features, f)"
   ]
  },
  {
   "cell_type": "code",
   "execution_count": 24,
   "metadata": {},
   "outputs": [],
   "source": [
    "import pandas as pd\n",
    "\n",
    "# load all_fouls_advanced.pkl\n",
    "all_fouls_advanced_with_vaep = pd.read_pickle('all_fouls_advanced_with_vaep.pkl')\n",
    "\n",
    "# load model_lgbm_regressor.pkl\n",
    "# model_lgbm_regressor = pd.read_pickle('model_lgbm_regressor.pkl')\n",
    "\n",
    "# load model_lgbm_classifier.pkl\n",
    "# model_lgbm_classifier = pd.read_pickle('model_lgbm_classifier.pkl')\n",
    "\n",
    "# load all_the_features.pkl\n",
    "all_the_features_with_vaep = pd.read_pickle('all_the_features_with_vaep.pkl')\n",
    "\n",
    "# load all_the_labels.pkl\n",
    "all_the_labels = pd.read_pickle('all_the_labels.pkl')\n"
   ]
  },
  {
   "cell_type": "code",
   "execution_count": 25,
   "metadata": {},
   "outputs": [],
   "source": [
    "# convert all_the_features which is a list to a dataframe. The name of columns are: ['minutes', 'score_difference', 'distance_to_goal', 'angle_to_goal', 'foul_count_player', 'foul_count_team', 'vaep_offensive', 'id']\n",
    "all_the_features_with_vaep = pd.DataFrame(all_the_features, columns=['minutes', 'score_difference', 'distance_to_goal', 'angle_to_goal', 'foul_count_player', 'foul_count_team', 'id', 'vaep_offensive'])\n",
    "\n",
    "# set id as index\n",
    "all_the_features_with_vaep.set_index('id', inplace=True)"
   ]
  },
  {
   "cell_type": "code",
   "execution_count": 26,
   "metadata": {},
   "outputs": [
    {
     "data": {
      "text/html": [
       "<div>\n",
       "<style scoped>\n",
       "    .dataframe tbody tr th:only-of-type {\n",
       "        vertical-align: middle;\n",
       "    }\n",
       "\n",
       "    .dataframe tbody tr th {\n",
       "        vertical-align: top;\n",
       "    }\n",
       "\n",
       "    .dataframe thead th {\n",
       "        text-align: right;\n",
       "    }\n",
       "</style>\n",
       "<table border=\"1\" class=\"dataframe\">\n",
       "  <thead>\n",
       "    <tr style=\"text-align: right;\">\n",
       "      <th></th>\n",
       "      <th>minutes</th>\n",
       "      <th>score_difference</th>\n",
       "      <th>distance_to_goal</th>\n",
       "      <th>angle_to_goal</th>\n",
       "      <th>foul_count_player</th>\n",
       "      <th>foul_count_team</th>\n",
       "      <th>vaep_offensive</th>\n",
       "    </tr>\n",
       "    <tr>\n",
       "      <th>id</th>\n",
       "      <th></th>\n",
       "      <th></th>\n",
       "      <th></th>\n",
       "      <th></th>\n",
       "      <th></th>\n",
       "      <th></th>\n",
       "      <th></th>\n",
       "    </tr>\n",
       "  </thead>\n",
       "  <tbody>\n",
       "    <tr>\n",
       "      <th>9221da02-9c87-4f98-a8ea-de9994ad562b</th>\n",
       "      <td>14</td>\n",
       "      <td>0</td>\n",
       "      <td>37.968408</td>\n",
       "      <td>1.282367</td>\n",
       "      <td>1</td>\n",
       "      <td>1</td>\n",
       "      <td>-0.000196</td>\n",
       "    </tr>\n",
       "    <tr>\n",
       "      <th>f2bd21f6-87c3-44c0-bb37-04e996db413e</th>\n",
       "      <td>23</td>\n",
       "      <td>1</td>\n",
       "      <td>65.011153</td>\n",
       "      <td>0.058485</td>\n",
       "      <td>1</td>\n",
       "      <td>1</td>\n",
       "      <td>-0.001102</td>\n",
       "    </tr>\n",
       "    <tr>\n",
       "      <th>8e51baec-6948-4285-86a1-73197126e265</th>\n",
       "      <td>33</td>\n",
       "      <td>0</td>\n",
       "      <td>69.641654</td>\n",
       "      <td>-0.306311</td>\n",
       "      <td>1</td>\n",
       "      <td>2</td>\n",
       "      <td>-0.001255</td>\n",
       "    </tr>\n",
       "    <tr>\n",
       "      <th>b711f529-182e-4ae3-8c9a-189b7697b2ea</th>\n",
       "      <td>46</td>\n",
       "      <td>0</td>\n",
       "      <td>52.106142</td>\n",
       "      <td>-0.264064</td>\n",
       "      <td>1</td>\n",
       "      <td>2</td>\n",
       "      <td>-0.000879</td>\n",
       "    </tr>\n",
       "    <tr>\n",
       "      <th>ec46c71c-af4c-4d99-a854-e4ffc30460d6</th>\n",
       "      <td>55</td>\n",
       "      <td>1</td>\n",
       "      <td>42.569942</td>\n",
       "      <td>0.554117</td>\n",
       "      <td>1</td>\n",
       "      <td>3</td>\n",
       "      <td>-0.016189</td>\n",
       "    </tr>\n",
       "  </tbody>\n",
       "</table>\n",
       "</div>"
      ],
      "text/plain": [
       "                                      minutes  score_difference  \\\n",
       "id                                                                \n",
       "9221da02-9c87-4f98-a8ea-de9994ad562b       14                 0   \n",
       "f2bd21f6-87c3-44c0-bb37-04e996db413e       23                 1   \n",
       "8e51baec-6948-4285-86a1-73197126e265       33                 0   \n",
       "b711f529-182e-4ae3-8c9a-189b7697b2ea       46                 0   \n",
       "ec46c71c-af4c-4d99-a854-e4ffc30460d6       55                 1   \n",
       "\n",
       "                                      distance_to_goal  angle_to_goal  \\\n",
       "id                                                                      \n",
       "9221da02-9c87-4f98-a8ea-de9994ad562b         37.968408       1.282367   \n",
       "f2bd21f6-87c3-44c0-bb37-04e996db413e         65.011153       0.058485   \n",
       "8e51baec-6948-4285-86a1-73197126e265         69.641654      -0.306311   \n",
       "b711f529-182e-4ae3-8c9a-189b7697b2ea         52.106142      -0.264064   \n",
       "ec46c71c-af4c-4d99-a854-e4ffc30460d6         42.569942       0.554117   \n",
       "\n",
       "                                      foul_count_player  foul_count_team  \\\n",
       "id                                                                         \n",
       "9221da02-9c87-4f98-a8ea-de9994ad562b                  1                1   \n",
       "f2bd21f6-87c3-44c0-bb37-04e996db413e                  1                1   \n",
       "8e51baec-6948-4285-86a1-73197126e265                  1                2   \n",
       "b711f529-182e-4ae3-8c9a-189b7697b2ea                  1                2   \n",
       "ec46c71c-af4c-4d99-a854-e4ffc30460d6                  1                3   \n",
       "\n",
       "                                      vaep_offensive  \n",
       "id                                                    \n",
       "9221da02-9c87-4f98-a8ea-de9994ad562b       -0.000196  \n",
       "f2bd21f6-87c3-44c0-bb37-04e996db413e       -0.001102  \n",
       "8e51baec-6948-4285-86a1-73197126e265       -0.001255  \n",
       "b711f529-182e-4ae3-8c9a-189b7697b2ea       -0.000879  \n",
       "ec46c71c-af4c-4d99-a854-e4ffc30460d6       -0.016189  "
      ]
     },
     "execution_count": 26,
     "metadata": {},
     "output_type": "execute_result"
    }
   ],
   "source": [
    "all_the_features_with_vaep.head()"
   ]
  },
  {
   "cell_type": "code",
   "execution_count": 28,
   "metadata": {},
   "outputs": [],
   "source": [
    "all_fouls_advanced_with_vaep.set_index('id', inplace=True)"
   ]
  },
  {
   "cell_type": "code",
   "execution_count": 29,
   "metadata": {},
   "outputs": [],
   "source": [
    "# Save all_the_features_with_vaep as a pickle file in file path: all_the_features_with_vaep_df.pkl\n",
    "import pickle\n",
    "with open('all_the_features_with_vaep_df.pkl', 'wb') as f:\n",
    "    pickle.dump(all_the_features_with_vaep, f)"
   ]
  },
  {
   "cell_type": "code",
   "execution_count": 34,
   "metadata": {},
   "outputs": [
    {
     "data": {
      "text/html": [
       "<div>\n",
       "<style scoped>\n",
       "    .dataframe tbody tr th:only-of-type {\n",
       "        vertical-align: middle;\n",
       "    }\n",
       "\n",
       "    .dataframe tbody tr th {\n",
       "        vertical-align: top;\n",
       "    }\n",
       "\n",
       "    .dataframe thead th {\n",
       "        text-align: right;\n",
       "    }\n",
       "</style>\n",
       "<table border=\"1\" class=\"dataframe\">\n",
       "  <thead>\n",
       "    <tr style=\"text-align: right;\">\n",
       "      <th></th>\n",
       "      <th>minutes</th>\n",
       "      <th>score_difference</th>\n",
       "      <th>distance_to_goal</th>\n",
       "      <th>angle_to_goal</th>\n",
       "      <th>foul_count_player</th>\n",
       "      <th>foul_count_team</th>\n",
       "      <th>vaep_offensive</th>\n",
       "      <th>label</th>\n",
       "    </tr>\n",
       "    <tr>\n",
       "      <th>id</th>\n",
       "      <th></th>\n",
       "      <th></th>\n",
       "      <th></th>\n",
       "      <th></th>\n",
       "      <th></th>\n",
       "      <th></th>\n",
       "      <th></th>\n",
       "      <th></th>\n",
       "    </tr>\n",
       "  </thead>\n",
       "  <tbody>\n",
       "    <tr>\n",
       "      <th>9221da02-9c87-4f98-a8ea-de9994ad562b</th>\n",
       "      <td>14</td>\n",
       "      <td>0</td>\n",
       "      <td>37.968408</td>\n",
       "      <td>1.282367</td>\n",
       "      <td>1</td>\n",
       "      <td>1</td>\n",
       "      <td>-0.000196</td>\n",
       "      <td>0</td>\n",
       "    </tr>\n",
       "    <tr>\n",
       "      <th>f2bd21f6-87c3-44c0-bb37-04e996db413e</th>\n",
       "      <td>23</td>\n",
       "      <td>1</td>\n",
       "      <td>65.011153</td>\n",
       "      <td>0.058485</td>\n",
       "      <td>1</td>\n",
       "      <td>1</td>\n",
       "      <td>-0.001102</td>\n",
       "      <td>2</td>\n",
       "    </tr>\n",
       "    <tr>\n",
       "      <th>8e51baec-6948-4285-86a1-73197126e265</th>\n",
       "      <td>33</td>\n",
       "      <td>0</td>\n",
       "      <td>69.641654</td>\n",
       "      <td>-0.306311</td>\n",
       "      <td>1</td>\n",
       "      <td>2</td>\n",
       "      <td>-0.001255</td>\n",
       "      <td>0</td>\n",
       "    </tr>\n",
       "    <tr>\n",
       "      <th>b711f529-182e-4ae3-8c9a-189b7697b2ea</th>\n",
       "      <td>46</td>\n",
       "      <td>0</td>\n",
       "      <td>52.106142</td>\n",
       "      <td>-0.264064</td>\n",
       "      <td>1</td>\n",
       "      <td>2</td>\n",
       "      <td>-0.000879</td>\n",
       "      <td>0</td>\n",
       "    </tr>\n",
       "    <tr>\n",
       "      <th>ec46c71c-af4c-4d99-a854-e4ffc30460d6</th>\n",
       "      <td>55</td>\n",
       "      <td>1</td>\n",
       "      <td>42.569942</td>\n",
       "      <td>0.554117</td>\n",
       "      <td>1</td>\n",
       "      <td>3</td>\n",
       "      <td>-0.016189</td>\n",
       "      <td>0</td>\n",
       "    </tr>\n",
       "  </tbody>\n",
       "</table>\n",
       "</div>"
      ],
      "text/plain": [
       "                                      minutes  score_difference  \\\n",
       "id                                                                \n",
       "9221da02-9c87-4f98-a8ea-de9994ad562b       14                 0   \n",
       "f2bd21f6-87c3-44c0-bb37-04e996db413e       23                 1   \n",
       "8e51baec-6948-4285-86a1-73197126e265       33                 0   \n",
       "b711f529-182e-4ae3-8c9a-189b7697b2ea       46                 0   \n",
       "ec46c71c-af4c-4d99-a854-e4ffc30460d6       55                 1   \n",
       "\n",
       "                                      distance_to_goal  angle_to_goal  \\\n",
       "id                                                                      \n",
       "9221da02-9c87-4f98-a8ea-de9994ad562b         37.968408       1.282367   \n",
       "f2bd21f6-87c3-44c0-bb37-04e996db413e         65.011153       0.058485   \n",
       "8e51baec-6948-4285-86a1-73197126e265         69.641654      -0.306311   \n",
       "b711f529-182e-4ae3-8c9a-189b7697b2ea         52.106142      -0.264064   \n",
       "ec46c71c-af4c-4d99-a854-e4ffc30460d6         42.569942       0.554117   \n",
       "\n",
       "                                      foul_count_player  foul_count_team  \\\n",
       "id                                                                         \n",
       "9221da02-9c87-4f98-a8ea-de9994ad562b                  1                1   \n",
       "f2bd21f6-87c3-44c0-bb37-04e996db413e                  1                1   \n",
       "8e51baec-6948-4285-86a1-73197126e265                  1                2   \n",
       "b711f529-182e-4ae3-8c9a-189b7697b2ea                  1                2   \n",
       "ec46c71c-af4c-4d99-a854-e4ffc30460d6                  1                3   \n",
       "\n",
       "                                      vaep_offensive  label  \n",
       "id                                                           \n",
       "9221da02-9c87-4f98-a8ea-de9994ad562b       -0.000196      0  \n",
       "f2bd21f6-87c3-44c0-bb37-04e996db413e       -0.001102      2  \n",
       "8e51baec-6948-4285-86a1-73197126e265       -0.001255      0  \n",
       "b711f529-182e-4ae3-8c9a-189b7697b2ea       -0.000879      0  \n",
       "ec46c71c-af4c-4d99-a854-e4ffc30460d6       -0.016189      0  "
      ]
     },
     "execution_count": 34,
     "metadata": {},
     "output_type": "execute_result"
    }
   ],
   "source": [
    "# Add column 'label' to all_the_features_with_vaep. The values of this column should be filled from all_the_labels which is a list of list, with each list element with one value only.\n",
    "all_the_features_with_vaep['label'] = all_the_labels\n",
    "\n",
    "# each label in all_the_features_with_vaep is a list with one element. convert it to a single value\n",
    "all_the_features_with_vaep['label'] = all_the_features_with_vaep['label'].apply(lambda x: x[0])\n",
    "\n",
    "all_the_features_with_vaep.head()"
   ]
  },
  {
   "cell_type": "code",
   "execution_count": 35,
   "metadata": {},
   "outputs": [
    {
     "data": {
      "text/plain": [
       "2    763\n",
       "0    559\n",
       "1     11\n",
       "Name: label, dtype: int64"
      ]
     },
     "execution_count": 35,
     "metadata": {},
     "output_type": "execute_result"
    }
   ],
   "source": [
    "all_the_features_with_vaep['label'].value_counts()"
   ]
  },
  {
   "cell_type": "code",
   "execution_count": null,
   "metadata": {},
   "outputs": [],
   "source": [
    "# 2: neither yellow nor red card nor second yellow card\n",
    "# 1: red card\n",
    "# 0: yellow card or second yellow card"
   ]
  },
  {
   "cell_type": "code",
   "execution_count": 36,
   "metadata": {},
   "outputs": [],
   "source": []
  },
  {
   "cell_type": "code",
   "execution_count": 38,
   "metadata": {},
   "outputs": [],
   "source": [
    "# remove all rows with label = 1\n",
    "all_the_features_with_vaep = all_the_features_with_vaep[all_the_features_with_vaep['label'] != 1]\n",
    "\n",
    "# convert all labels with value 0 to 1\n",
    "all_the_features_with_vaep['label'] = all_the_features_with_vaep['label'].apply(lambda x: 1 if x == 0 else x)\n",
    "\n",
    "# convert all labels with value 2 to 0\n",
    "all_the_features_with_vaep['label'] = all_the_features_with_vaep['label'].apply(lambda x: 0 if x == 2 else x)\n",
    "\n"
   ]
  },
  {
   "cell_type": "code",
   "execution_count": 39,
   "metadata": {},
   "outputs": [
    {
     "data": {
      "text/plain": [
       "0    763\n",
       "1    559\n",
       "Name: label, dtype: int64"
      ]
     },
     "execution_count": 39,
     "metadata": {},
     "output_type": "execute_result"
    }
   ],
   "source": [
    "all_the_features_with_vaep['label'].value_counts()"
   ]
  },
  {
   "cell_type": "code",
   "execution_count": 40,
   "metadata": {},
   "outputs": [],
   "source": [
    "\n",
    "with open('features_with_label_df.pkl', 'wb') as f:\n",
    "    pickle.dump(all_the_features_with_vaep, f)"
   ]
  },
  {
   "cell_type": "code",
   "execution_count": 47,
   "metadata": {},
   "outputs": [
    {
     "data": {
      "text/html": [
       "<div>\n",
       "<style scoped>\n",
       "    .dataframe tbody tr th:only-of-type {\n",
       "        vertical-align: middle;\n",
       "    }\n",
       "\n",
       "    .dataframe tbody tr th {\n",
       "        vertical-align: top;\n",
       "    }\n",
       "\n",
       "    .dataframe thead th {\n",
       "        text-align: right;\n",
       "    }\n",
       "</style>\n",
       "<table border=\"1\" class=\"dataframe\">\n",
       "  <thead>\n",
       "    <tr style=\"text-align: right;\">\n",
       "      <th></th>\n",
       "      <th>minutes</th>\n",
       "      <th>score_difference</th>\n",
       "      <th>distance_to_goal</th>\n",
       "      <th>angle_to_goal</th>\n",
       "      <th>foul_count_player</th>\n",
       "      <th>foul_count_team</th>\n",
       "      <th>vaep_offensive</th>\n",
       "      <th>label</th>\n",
       "    </tr>\n",
       "    <tr>\n",
       "      <th>id</th>\n",
       "      <th></th>\n",
       "      <th></th>\n",
       "      <th></th>\n",
       "      <th></th>\n",
       "      <th></th>\n",
       "      <th></th>\n",
       "      <th></th>\n",
       "      <th></th>\n",
       "    </tr>\n",
       "  </thead>\n",
       "  <tbody>\n",
       "    <tr>\n",
       "      <th>9221da02-9c87-4f98-a8ea-de9994ad562b</th>\n",
       "      <td>14</td>\n",
       "      <td>0</td>\n",
       "      <td>37.968408</td>\n",
       "      <td>1.282367</td>\n",
       "      <td>1</td>\n",
       "      <td>1</td>\n",
       "      <td>-0.000196</td>\n",
       "      <td>1</td>\n",
       "    </tr>\n",
       "    <tr>\n",
       "      <th>f2bd21f6-87c3-44c0-bb37-04e996db413e</th>\n",
       "      <td>23</td>\n",
       "      <td>1</td>\n",
       "      <td>65.011153</td>\n",
       "      <td>0.058485</td>\n",
       "      <td>1</td>\n",
       "      <td>1</td>\n",
       "      <td>-0.001102</td>\n",
       "      <td>0</td>\n",
       "    </tr>\n",
       "    <tr>\n",
       "      <th>8e51baec-6948-4285-86a1-73197126e265</th>\n",
       "      <td>33</td>\n",
       "      <td>0</td>\n",
       "      <td>69.641654</td>\n",
       "      <td>-0.306311</td>\n",
       "      <td>1</td>\n",
       "      <td>2</td>\n",
       "      <td>-0.001255</td>\n",
       "      <td>1</td>\n",
       "    </tr>\n",
       "    <tr>\n",
       "      <th>b711f529-182e-4ae3-8c9a-189b7697b2ea</th>\n",
       "      <td>46</td>\n",
       "      <td>0</td>\n",
       "      <td>52.106142</td>\n",
       "      <td>-0.264064</td>\n",
       "      <td>1</td>\n",
       "      <td>2</td>\n",
       "      <td>-0.000879</td>\n",
       "      <td>1</td>\n",
       "    </tr>\n",
       "    <tr>\n",
       "      <th>ec46c71c-af4c-4d99-a854-e4ffc30460d6</th>\n",
       "      <td>55</td>\n",
       "      <td>1</td>\n",
       "      <td>42.569942</td>\n",
       "      <td>0.554117</td>\n",
       "      <td>1</td>\n",
       "      <td>3</td>\n",
       "      <td>-0.016189</td>\n",
       "      <td>1</td>\n",
       "    </tr>\n",
       "  </tbody>\n",
       "</table>\n",
       "</div>"
      ],
      "text/plain": [
       "                                      minutes  score_difference  \\\n",
       "id                                                                \n",
       "9221da02-9c87-4f98-a8ea-de9994ad562b       14                 0   \n",
       "f2bd21f6-87c3-44c0-bb37-04e996db413e       23                 1   \n",
       "8e51baec-6948-4285-86a1-73197126e265       33                 0   \n",
       "b711f529-182e-4ae3-8c9a-189b7697b2ea       46                 0   \n",
       "ec46c71c-af4c-4d99-a854-e4ffc30460d6       55                 1   \n",
       "\n",
       "                                      distance_to_goal  angle_to_goal  \\\n",
       "id                                                                      \n",
       "9221da02-9c87-4f98-a8ea-de9994ad562b         37.968408       1.282367   \n",
       "f2bd21f6-87c3-44c0-bb37-04e996db413e         65.011153       0.058485   \n",
       "8e51baec-6948-4285-86a1-73197126e265         69.641654      -0.306311   \n",
       "b711f529-182e-4ae3-8c9a-189b7697b2ea         52.106142      -0.264064   \n",
       "ec46c71c-af4c-4d99-a854-e4ffc30460d6         42.569942       0.554117   \n",
       "\n",
       "                                      foul_count_player  foul_count_team  \\\n",
       "id                                                                         \n",
       "9221da02-9c87-4f98-a8ea-de9994ad562b                  1                1   \n",
       "f2bd21f6-87c3-44c0-bb37-04e996db413e                  1                1   \n",
       "8e51baec-6948-4285-86a1-73197126e265                  1                2   \n",
       "b711f529-182e-4ae3-8c9a-189b7697b2ea                  1                2   \n",
       "ec46c71c-af4c-4d99-a854-e4ffc30460d6                  1                3   \n",
       "\n",
       "                                      vaep_offensive  label  \n",
       "id                                                           \n",
       "9221da02-9c87-4f98-a8ea-de9994ad562b       -0.000196      1  \n",
       "f2bd21f6-87c3-44c0-bb37-04e996db413e       -0.001102      0  \n",
       "8e51baec-6948-4285-86a1-73197126e265       -0.001255      1  \n",
       "b711f529-182e-4ae3-8c9a-189b7697b2ea       -0.000879      1  \n",
       "ec46c71c-af4c-4d99-a854-e4ffc30460d6       -0.016189      1  "
      ]
     },
     "execution_count": 47,
     "metadata": {},
     "output_type": "execute_result"
    }
   ],
   "source": [
    "import pickle\n",
    "import pandas as pd\n",
    "\n",
    "# load features_with_label_df.pkl\n",
    "features_with_label_df = pd.read_pickle('features_with_label_df.pkl')\n",
    "\n",
    "features_with_label_df.head()"
   ]
  },
  {
   "cell_type": "code",
   "execution_count": 44,
   "metadata": {},
   "outputs": [
    {
     "data": {
      "text/plain": [
       "0    763\n",
       "1    559\n",
       "Name: label, dtype: int64"
      ]
     },
     "execution_count": 44,
     "metadata": {},
     "output_type": "execute_result"
    }
   ],
   "source": [
    "# print value_counts but map it to 1 is yellow card, 0 is no card in label column\n",
    "features_with_label_df['label'].value_counts()"
   ]
  },
  {
   "cell_type": "code",
   "execution_count": 45,
   "metadata": {},
   "outputs": [
    {
     "data": {
      "text/plain": [
       "Index(['minutes', 'score_difference', 'distance_to_goal', 'angle_to_goal',\n",
       "       'foul_count_player', 'foul_count_team', 'vaep_offensive', 'label'],\n",
       "      dtype='object')"
      ]
     },
     "execution_count": 45,
     "metadata": {},
     "output_type": "execute_result"
    }
   ],
   "source": [
    "features_with_label_df.columns"
   ]
  },
  {
   "cell_type": "code",
   "execution_count": null,
   "metadata": {},
   "outputs": [],
   "source": [
    "\n"
   ]
  },
  {
   "cell_type": "code",
   "execution_count": 46,
   "metadata": {},
   "outputs": [
    {
     "data": {
      "image/png": "[encoded data removed]",
      "text/plain": [
       "<Figure size 1200x800 with 1 Axes>"
      ]
     },
     "metadata": {},
     "output_type": "display_data"
    }
   ],
   "source": [
    "import matplotlib.pyplot as plt\n",
    "import pandas as pd\n",
    "\n",
    "# Sample data, replace this with your actual dataframe\n",
    "# For this example, I'm using random data.\n",
    "import random\n",
    "data = {\n",
    "    'distance_to_goal': [random.uniform(0, 120) for _ in range(600)],\n",
    "    'angle_to_goal': [random.uniform(0, 90) for _ in range(600)],\n",
    "    'label': [random.choice([0, 1]) for _ in range(600)]\n",
    "}\n",
    "features_with_label_df = pd.DataFrame(data)\n",
    "\n",
    "# Define the football pitch dimensions\n",
    "pitch_length = 120  # Adjust as needed\n",
    "pitch_width = 80   # Adjust as needed\n",
    "\n",
    "# Create a football pitch background\n",
    "fig, ax = plt.subplots(figsize=(12, 8))\n",
    "ax.set_xlim(0, pitch_length)\n",
    "ax.set_ylim(0, pitch_width)\n",
    "\n",
    "# Plot the pitch elements\n",
    "# You can customize the pitch elements as needed\n",
    "# For simplicity, we're just plotting lines for the pitch boundaries\n",
    "pitch_boundary = plt.Rectangle((0, 0), pitch_length, pitch_width, color='green', linewidth=2, fill=False)\n",
    "ax.add_patch(pitch_boundary)\n",
    "\n",
    "# Plot the points on the pitch based on label\n",
    "label_0 = features_with_label_df[features_with_label_df['label'] == 0]\n",
    "label_1 = features_with_label_df[features_with_label_df['label'] == 1]\n",
    "\n",
    "# Plot the points\n",
    "ax.scatter(label_0['distance_to_goal'], label_0['angle_to_goal'], color='blue', label='No Card', alpha=0.7)\n",
    "ax.scatter(label_1['distance_to_goal'], label_1['angle_to_goal'], color='yellow', label='Yellow Card', alpha=0.7)\n",
    "\n",
    "# Customize the plot (add legends, labels, etc.)\n",
    "plt.legend(loc='upper right')\n",
    "plt.title('Football Pitch with Yellow and Blue Points')\n",
    "plt.xlabel('Distance to Goal')\n",
    "plt.ylabel('Angle to Goal')\n",
    "\n",
    "# Show the plot\n",
    "plt.show()\n"
   ]
  },
  {
   "cell_type": "code",
   "execution_count": 52,
   "metadata": {},
   "outputs": [
    {
     "data": {
      "image/png": "[encoded data removed]",
      "text/plain": [
       "<Figure size 640x480 with 1 Axes>"
      ]
     },
     "metadata": {},
     "output_type": "display_data"
    },
    {
     "ename": "TypeError",
     "evalue": "cannot unpack non-iterable Axes object",
     "output_type": "error",
     "traceback": [
      "\u001b[0;31m---------------------------------------------------------------------------\u001b[0m",
      "\u001b[0;31mTypeError\u001b[0m                                 Traceback (most recent call last)",
      "\u001b[1;32m/home/msai/adnan002/repos/xB-360/D-CombineFouls.ipynb Cell 21\u001b[0m line \u001b[0;36m6\n\u001b[1;32m      <a href='vscode-notebook-cell://ssh-remote%2B155.69.100.252/home/msai/adnan002/repos/xB-360/D-CombineFouls.ipynb#X34sdnNjb2RlLXJlbW90ZQ%3D%3D?line=2'>3</a>\u001b[0m \u001b[39mimport\u001b[39;00m \u001b[39mpandas\u001b[39;00m \u001b[39mas\u001b[39;00m \u001b[39mpd\u001b[39;00m\n\u001b[1;32m      <a href='vscode-notebook-cell://ssh-remote%2B155.69.100.252/home/msai/adnan002/repos/xB-360/D-CombineFouls.ipynb#X34sdnNjb2RlLXJlbW90ZQ%3D%3D?line=4'>5</a>\u001b[0m \u001b[39m# Create a football pitch\u001b[39;00m\n\u001b[0;32m----> <a href='vscode-notebook-cell://ssh-remote%2B155.69.100.252/home/msai/adnan002/repos/xB-360/D-CombineFouls.ipynb#X34sdnNjb2RlLXJlbW90ZQ%3D%3D?line=5'>6</a>\u001b[0m fig, ax \u001b[39m=\u001b[39m field()\n\u001b[1;32m      <a href='vscode-notebook-cell://ssh-remote%2B155.69.100.252/home/msai/adnan002/repos/xB-360/D-CombineFouls.ipynb#X34sdnNjb2RlLXJlbW90ZQ%3D%3D?line=7'>8</a>\u001b[0m \u001b[39m# Plot the points on the pitch based on label\u001b[39;00m\n\u001b[1;32m      <a href='vscode-notebook-cell://ssh-remote%2B155.69.100.252/home/msai/adnan002/repos/xB-360/D-CombineFouls.ipynb#X34sdnNjb2RlLXJlbW90ZQ%3D%3D?line=8'>9</a>\u001b[0m label_0 \u001b[39m=\u001b[39m features_with_label_df[features_with_label_df[\u001b[39m'\u001b[39m\u001b[39mlabel\u001b[39m\u001b[39m'\u001b[39m] \u001b[39m==\u001b[39m \u001b[39m0\u001b[39m]\n",
      "\u001b[0;31mTypeError\u001b[0m: cannot unpack non-iterable Axes object"
     ]
    }
   ],
   "source": []
  },
  {
   "cell_type": "code",
   "execution_count": 55,
   "metadata": {},
   "outputs": [
    {
     "data": {
      "text/plain": [
       "count    1322.000000\n",
       "mean       63.619892\n",
       "std        23.386890\n",
       "min         7.683749\n",
       "25%        46.493518\n",
       "50%        63.844926\n",
       "75%        79.734873\n",
       "max       121.233700\n",
       "Name: distance_to_goal, dtype: float64"
      ]
     },
     "execution_count": 55,
     "metadata": {},
     "output_type": "execute_result"
    }
   ],
   "source": [
    "# show range of values in distance_to_goal column and angle_to_goal column\n",
    "features_with_label_df['distance_to_goal'].describe()"
   ]
  },
  {
   "cell_type": "code",
   "execution_count": 56,
   "metadata": {},
   "outputs": [
    {
     "data": {
      "text/plain": [
       "count    1322.000000\n",
       "mean        0.003633\n",
       "std         0.440976\n",
       "min        -1.424607\n",
       "25%        -0.307372\n",
       "50%        -0.004394\n",
       "75%         0.326947\n",
       "max         1.474223\n",
       "Name: angle_to_goal, dtype: float64"
      ]
     },
     "execution_count": 56,
     "metadata": {},
     "output_type": "execute_result"
    }
   ],
   "source": [
    "features_with_label_df['angle_to_goal'].describe()"
   ]
  },
  {
   "cell_type": "code",
   "execution_count": null,
   "metadata": {},
   "outputs": [],
   "source": []
  },
  {
   "cell_type": "code",
   "execution_count": 57,
   "metadata": {},
   "outputs": [
    {
     "data": {
      "text/plain": [
       "Index(['minutes', 'score_difference', 'distance_to_goal', 'angle_to_goal',\n",
       "       'foul_count_player', 'foul_count_team', 'vaep_offensive', 'label'],\n",
       "      dtype='object')"
      ]
     },
     "execution_count": 57,
     "metadata": {},
     "output_type": "execute_result"
    }
   ],
   "source": [
    "features_with_label_df.columns"
   ]
  },
  {
   "cell_type": "code",
   "execution_count": null,
   "metadata": {},
   "outputs": [],
   "source": [
    "# the columns 'minutes', 'score_difference', 'distance_to_goal', 'angle_to_goal', 'foul_count_player', 'foul_count_team', 'vaep_offensive' are my features and the column 'label' is my label. The label is either 0 or 1. 0 means no card and 1 means yellow card. I want a model that gives probability of yellow card given the features. These columns are in the dataframe features_with_label_df. Split this df into 3 parts: ratio 0.7, 0.1, 0.2 for train, val and test. Use the most suitable model and show results."
   ]
  },
  {
   "cell_type": "code",
   "execution_count": 58,
   "metadata": {},
   "outputs": [],
   "source": [
    "import pandas as pd\n",
    "from sklearn.model_selection import train_test_split\n",
    "from xgboost import XGBClassifier\n",
    "from sklearn.metrics import accuracy_score, roc_auc_score, classification_report\n"
   ]
  },
  {
   "cell_type": "code",
   "execution_count": 59,
   "metadata": {},
   "outputs": [],
   "source": [
    "# Assuming your dataframe is named features_with_label_df\n",
    "X = features_with_label_df[['minutes', 'score_difference', 'distance_to_goal', 'angle_to_goal', 'foul_count_player', 'foul_count_team', 'vaep_offensive']]\n",
    "y = features_with_label_df['label']\n",
    "\n",
    "# Split the data into train, validation, and test sets with a 70-10-20 ratio\n",
    "X_train, X_temp, y_train, y_temp = train_test_split(X, y, test_size=0.3, random_state=42)\n",
    "X_val, X_test, y_val, y_test = train_test_split(X_temp, y_temp, test_size=0.67, random_state=42)\n"
   ]
  },
  {
   "cell_type": "code",
   "execution_count": 60,
   "metadata": {},
   "outputs": [
    {
     "data": {
      "text/html": [
       "<style>#sk-container-id-1 {color: black;}#sk-container-id-1 pre{padding: 0;}#sk-container-id-1 div.sk-toggleable {background-color: white;}#sk-container-id-1 label.sk-toggleable__label {cursor: pointer;display: block;width: 100%;margin-bottom: 0;padding: 0.3em;box-sizing: border-box;text-align: center;}#sk-container-id-1 label.sk-toggleable__label-arrow:before {content: \"▸\";float: left;margin-right: 0.25em;color: #696969;}#sk-container-id-1 label.sk-toggleable__label-arrow:hover:before {color: black;}#sk-container-id-1 div.sk-estimator:hover label.sk-toggleable__label-arrow:before {color: black;}#sk-container-id-1 div.sk-toggleable__content {max-height: 0;max-width: 0;overflow: hidden;text-align: left;background-color: #f0f8ff;}#sk-container-id-1 div.sk-toggleable__content pre {margin: 0.2em;color: black;border-radius: 0.25em;background-color: #f0f8ff;}#sk-container-id-1 input.sk-toggleable__control:checked~div.sk-toggleable__content {max-height: 200px;max-width: 100%;overflow: auto;}#sk-container-id-1 input.sk-toggleable__control:checked~label.sk-toggleable__label-arrow:before {content: \"▾\";}#sk-container-id-1 div.sk-estimator input.sk-toggleable__control:checked~label.sk-toggleable__label {background-color: #d4ebff;}#sk-container-id-1 div.sk-label input.sk-toggleable__control:checked~label.sk-toggleable__label {background-color: #d4ebff;}#sk-container-id-1 input.sk-hidden--visually {border: 0;clip: rect(1px 1px 1px 1px);clip: rect(1px, 1px, 1px, 1px);height: 1px;margin: -1px;overflow: hidden;padding: 0;position: absolute;width: 1px;}#sk-container-id-1 div.sk-estimator {font-family: monospace;background-color: #f0f8ff;border: 1px dotted black;border-radius: 0.25em;box-sizing: border-box;margin-bottom: 0.5em;}#sk-container-id-1 div.sk-estimator:hover {background-color: #d4ebff;}#sk-container-id-1 div.sk-parallel-item::after {content: \"\";width: 100%;border-bottom: 1px solid gray;flex-grow: 1;}#sk-container-id-1 div.sk-label:hover label.sk-toggleable__label {background-color: #d4ebff;}#sk-container-id-1 div.sk-serial::before {content: \"\";position: absolute;border-left: 1px solid gray;box-sizing: border-box;top: 0;bottom: 0;left: 50%;z-index: 0;}#sk-container-id-1 div.sk-serial {display: flex;flex-direction: column;align-items: center;background-color: white;padding-right: 0.2em;padding-left: 0.2em;position: relative;}#sk-container-id-1 div.sk-item {position: relative;z-index: 1;}#sk-container-id-1 div.sk-parallel {display: flex;align-items: stretch;justify-content: center;background-color: white;position: relative;}#sk-container-id-1 div.sk-item::before, #sk-container-id-1 div.sk-parallel-item::before {content: \"\";position: absolute;border-left: 1px solid gray;box-sizing: border-box;top: 0;bottom: 0;left: 50%;z-index: -1;}#sk-container-id-1 div.sk-parallel-item {display: flex;flex-direction: column;z-index: 1;position: relative;background-color: white;}#sk-container-id-1 div.sk-parallel-item:first-child::after {align-self: flex-end;width: 50%;}#sk-container-id-1 div.sk-parallel-item:last-child::after {align-self: flex-start;width: 50%;}#sk-container-id-1 div.sk-parallel-item:only-child::after {width: 0;}#sk-container-id-1 div.sk-dashed-wrapped {border: 1px dashed gray;margin: 0 0.4em 0.5em 0.4em;box-sizing: border-box;padding-bottom: 0.4em;background-color: white;}#sk-container-id-1 div.sk-label label {font-family: monospace;font-weight: bold;display: inline-block;line-height: 1.2em;}#sk-container-id-1 div.sk-label-container {text-align: center;}#sk-container-id-1 div.sk-container {/* jupyter's `normalize.less` sets `[hidden] { display: none; }` but bootstrap.min.css set `[hidden] { display: none !important; }` so we also need the `!important` here to be able to override the default hidden behavior on the sphinx rendered scikit-learn.org. See: https://github.com/scikit-learn/scikit-learn/issues/21755 */display: inline-block !important;position: relative;}#sk-container-id-1 div.sk-text-repr-fallback {display: none;}</style><div id=\"sk-container-id-1\" class=\"sk-top-container\"><div class=\"sk-text-repr-fallback\"><pre>XGBClassifier(base_score=None, booster=None, callbacks=None,\n",
       "              colsample_bylevel=None, colsample_bynode=None,\n",
       "              colsample_bytree=None, device=None, early_stopping_rounds=None,\n",
       "              enable_categorical=False, eval_metric=None, feature_types=None,\n",
       "              gamma=None, grow_policy=None, importance_type=None,\n",
       "              interaction_constraints=None, learning_rate=None, max_bin=None,\n",
       "              max_cat_threshold=None, max_cat_to_onehot=None,\n",
       "              max_delta_step=None, max_depth=None, max_leaves=None,\n",
       "              min_child_weight=None, missing=nan, monotone_constraints=None,\n",
       "              multi_strategy=None, n_estimators=None, n_jobs=None,\n",
       "              num_parallel_tree=None, random_state=None, ...)</pre><b>In a Jupyter environment, please rerun this cell to show the HTML representation or trust the notebook. <br />On GitHub, the HTML representation is unable to render, please try loading this page with nbviewer.org.</b></div><div class=\"sk-container\" hidden><div class=\"sk-item\"><div class=\"sk-estimator sk-toggleable\"><input class=\"sk-toggleable__control sk-hidden--visually\" id=\"sk-estimator-id-1\" type=\"checkbox\" checked><label for=\"sk-estimator-id-1\" class=\"sk-toggleable__label sk-toggleable__label-arrow\">XGBClassifier</label><div class=\"sk-toggleable__content\"><pre>XGBClassifier(base_score=None, booster=None, callbacks=None,\n",
       "              colsample_bylevel=None, colsample_bynode=None,\n",
       "              colsample_bytree=None, device=None, early_stopping_rounds=None,\n",
       "              enable_categorical=False, eval_metric=None, feature_types=None,\n",
       "              gamma=None, grow_policy=None, importance_type=None,\n",
       "              interaction_constraints=None, learning_rate=None, max_bin=None,\n",
       "              max_cat_threshold=None, max_cat_to_onehot=None,\n",
       "              max_delta_step=None, max_depth=None, max_leaves=None,\n",
       "              min_child_weight=None, missing=nan, monotone_constraints=None,\n",
       "              multi_strategy=None, n_estimators=None, n_jobs=None,\n",
       "              num_parallel_tree=None, random_state=None, ...)</pre></div></div></div></div></div>"
      ],
      "text/plain": [
       "XGBClassifier(base_score=None, booster=None, callbacks=None,\n",
       "              colsample_bylevel=None, colsample_bynode=None,\n",
       "              colsample_bytree=None, device=None, early_stopping_rounds=None,\n",
       "              enable_categorical=False, eval_metric=None, feature_types=None,\n",
       "              gamma=None, grow_policy=None, importance_type=None,\n",
       "              interaction_constraints=None, learning_rate=None, max_bin=None,\n",
       "              max_cat_threshold=None, max_cat_to_onehot=None,\n",
       "              max_delta_step=None, max_depth=None, max_leaves=None,\n",
       "              min_child_weight=None, missing=nan, monotone_constraints=None,\n",
       "              multi_strategy=None, n_estimators=None, n_jobs=None,\n",
       "              num_parallel_tree=None, random_state=None, ...)"
      ]
     },
     "execution_count": 60,
     "metadata": {},
     "output_type": "execute_result"
    }
   ],
   "source": [
    "# Create an XGBoost classifier\n",
    "model = XGBClassifier()\n",
    "\n",
    "# Train the model on the training data\n",
    "model.fit(X_train, y_train)\n"
   ]
  },
  {
   "cell_type": "code",
   "execution_count": 61,
   "metadata": {},
   "outputs": [
    {
     "name": "stdout",
     "output_type": "stream",
     "text": [
      "Validation ROC AUC: 0.8325980392156863\n",
      "Validation Accuracy: 0.7709923664122137\n"
     ]
    }
   ],
   "source": [
    "# Predict probabilities on the validation set\n",
    "y_val_pred_prob = model.predict_proba(X_val)[:, 1]\n",
    "\n",
    "# Evaluate the model using ROC AUC score and accuracy\n",
    "roc_auc = roc_auc_score(y_val, y_val_pred_prob)\n",
    "accuracy = accuracy_score(y_val, (y_val_pred_prob > 0.5).astype(int))\n",
    "\n",
    "print(f'Validation ROC AUC: {roc_auc}')\n",
    "print(f'Validation Accuracy: {accuracy}')\n"
   ]
  },
  {
   "cell_type": "code",
   "execution_count": 62,
   "metadata": {},
   "outputs": [
    {
     "name": "stdout",
     "output_type": "stream",
     "text": [
      "              precision    recall  f1-score   support\n",
      "\n",
      "           0       0.81      0.81      0.81        80\n",
      "           1       0.71      0.71      0.71        51\n",
      "\n",
      "    accuracy                           0.77       131\n",
      "   macro avg       0.76      0.76      0.76       131\n",
      "weighted avg       0.77      0.77      0.77       131\n",
      "\n"
     ]
    }
   ],
   "source": [
    "print(classification_report(y_val, (y_val_pred_prob > 0.5).astype(int)))\n"
   ]
  },
  {
   "cell_type": "code",
   "execution_count": 63,
   "metadata": {},
   "outputs": [
    {
     "name": "stdout",
     "output_type": "stream",
     "text": [
      "Test ROC AUC: 0.8205489919473343\n",
      "Test Accuracy: 0.7518796992481203\n"
     ]
    }
   ],
   "source": [
    "# Make predictions on the test set\n",
    "y_test_pred_prob = model.predict_proba(X_test)[:, 1]\n",
    "\n",
    "# Evaluate the model on the test set using ROC AUC score and accuracy\n",
    "roc_auc_test = roc_auc_score(y_test, y_test_pred_prob)\n",
    "accuracy_test = accuracy_score(y_test, (y_test_pred_prob > 0.5).astype(int))\n",
    "\n",
    "print(f'Test ROC AUC: {roc_auc_test}')\n",
    "print(f'Test Accuracy: {accuracy_test}')\n"
   ]
  },
  {
   "cell_type": "code",
   "execution_count": 64,
   "metadata": {},
   "outputs": [
    {
     "name": "stdout",
     "output_type": "stream",
     "text": [
      "             Feature  Importance\n",
      "6     vaep_offensive    0.247641\n",
      "1   score_difference    0.151027\n",
      "2   distance_to_goal    0.131543\n",
      "5    foul_count_team    0.123486\n",
      "0            minutes    0.119548\n",
      "4  foul_count_player    0.114931\n",
      "3      angle_to_goal    0.111823\n"
     ]
    }
   ],
   "source": [
    "# Get feature importances from the trained XGBoost model\n",
    "feature_importances = model.feature_importances_\n",
    "\n",
    "# Create a DataFrame to display feature names and their importances\n",
    "feature_importance_df = pd.DataFrame({'Feature': X.columns, 'Importance': feature_importances})\n",
    "\n",
    "# Sort the features by importance in descending order\n",
    "feature_importance_df = feature_importance_df.sort_values(by='Importance', ascending=False)\n",
    "\n",
    "# Print or display the feature importance results\n",
    "print(feature_importance_df)\n"
   ]
  },
  {
   "cell_type": "code",
   "execution_count": 65,
   "metadata": {},
   "outputs": [
    {
     "data": {
      "text/plain": [
       " 0    800\n",
       "-1    334\n",
       "-2    131\n",
       "-3     36\n",
       "-4     10\n",
       " 1      5\n",
       "-6      3\n",
       "-5      3\n",
       "Name: score_difference, dtype: int64"
      ]
     },
     "execution_count": 65,
     "metadata": {},
     "output_type": "execute_result"
    }
   ],
   "source": [
    "features_with_label_df['score_difference'].value_counts()"
   ]
  },
  {
   "cell_type": "code",
   "execution_count": null,
   "metadata": {},
   "outputs": [],
   "source": []
  }
 ],
 "metadata": {
  "kernelspec": {
   "display_name": "dlassign",
   "language": "python",
   "name": "python3"
  },
  "language_info": {
   "codemirror_mode": {
    "name": "ipython",
    "version": 3
   },
   "file_extension": ".py",
   "mimetype": "text/x-python",
   "name": "python",
   "nbconvert_exporter": "python",
   "pygments_lexer": "ipython3",
   "version": "3.9.7"
  },
  "orig_nbformat": 4
 },
 "nbformat": 4,
 "nbformat_minor": 2
}
