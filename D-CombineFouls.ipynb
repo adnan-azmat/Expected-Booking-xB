{
 "cells": [
  {
   "cell_type": "code",
   "execution_count": 14,
   "metadata": {},
   "outputs": [],
   "source": [
    "import pandas as pd\n",
    "\n",
    "# load all_fouls_advanced.pkl (dataframe) and and all_the_features.pkl (list)\n",
    "# all_fouls_advanced_with_vaep = pd.read_pickle('all_fouls_advanced_with_vaep.pkl')\n",
    "# all_fouls_advanced_with_vaep.set_index('id', inplace=True)\n",
    "# all_the_features = pd.read_pickle('all_the_features.pkl')"
   ]
  },
  {
   "cell_type": "code",
   "execution_count": 19,
   "metadata": {},
   "outputs": [
    {
     "name": "stdout",
     "output_type": "stream",
     "text": [
      "[14, 0, 37.96840792026972, 1.2823667682765016, 1, 1, '9221da02-9c87-4f98-a8ea-de9994ad562b', -0.00019568584684748203]\n"
     ]
    }
   ],
   "source": [
    "# the last column in all_the_features and the 'id' column in all_fouls_advanced are the same. based on this, add a new element to each all_the_features that takes the 'vaep_offensive' column from all_fouls_advanced when the 'id' column matches. Remember all_the_features is just a list of lists. Also 'id' is all_fouls_advanced's index.\n",
    "# for i in range(len(all_the_features)):\n",
    "#     all_the_features[i].append(all_fouls_advanced.loc[all_the_features[i][-1], 'vaep_value_offensive'])\n",
    "\n",
    "# print (all_the_features[0])"
   ]
  },
  {
   "cell_type": "code",
   "execution_count": 20,
   "metadata": {},
   "outputs": [],
   "source": [
    "# Save all_the_features as a pickle file in file path: all_the_features_with_vaep.pkl\n",
    "# import pickle\n",
    "# with open('all_the_features_with_vaep.pkl', 'wb') as f:\n",
    "#     pickle.dump(all_the_features, f)"
   ]
  },
  {
   "cell_type": "code",
   "execution_count": 24,
   "metadata": {},
   "outputs": [],
   "source": [
    "import pandas as pd\n",
    "\n",
    "# load all_fouls_advanced.pkl\n",
    "all_fouls_advanced_with_vaep = pd.read_pickle('all_fouls_advanced_with_vaep.pkl')\n",
    "\n",
    "# load model_lgbm_regressor.pkl\n",
    "# model_lgbm_regressor = pd.read_pickle('model_lgbm_regressor.pkl')\n",
    "\n",
    "# load model_lgbm_classifier.pkl\n",
    "# model_lgbm_classifier = pd.read_pickle('model_lgbm_classifier.pkl')\n",
    "\n",
    "# load all_the_features.pkl\n",
    "all_the_features_with_vaep = pd.read_pickle('all_the_features_with_vaep.pkl')\n",
    "\n",
    "# load all_the_labels.pkl\n",
    "all_the_labels = pd.read_pickle('all_the_labels.pkl')\n"
   ]
  },
  {
   "cell_type": "code",
   "execution_count": 25,
   "metadata": {},
   "outputs": [],
   "source": [
    "# convert all_the_features which is a list to a dataframe. The name of columns are: ['minutes', 'score_difference', 'distance_to_goal', 'angle_to_goal', 'foul_count_player', 'foul_count_team', 'vaep_offensive', 'id']\n",
    "all_the_features_with_vaep = pd.DataFrame(all_the_features, columns=['minutes', 'score_difference', 'distance_to_goal', 'angle_to_goal', 'foul_count_player', 'foul_count_team', 'id', 'vaep_offensive'])\n",
    "\n",
    "# set id as index\n",
    "all_the_features_with_vaep.set_index('id', inplace=True)"
   ]
  },
  {
   "cell_type": "code",
   "execution_count": 26,
   "metadata": {},
   "outputs": [
    {
     "data": {
      "text/html": [
       "<div>\n",
       "<style scoped>\n",
       "    .dataframe tbody tr th:only-of-type {\n",
       "        vertical-align: middle;\n",
       "    }\n",
       "\n",
       "    .dataframe tbody tr th {\n",
       "        vertical-align: top;\n",
       "    }\n",
       "\n",
       "    .dataframe thead th {\n",
       "        text-align: right;\n",
       "    }\n",
       "</style>\n",
       "<table border=\"1\" class=\"dataframe\">\n",
       "  <thead>\n",
       "    <tr style=\"text-align: right;\">\n",
       "      <th></th>\n",
       "      <th>minutes</th>\n",
       "      <th>score_difference</th>\n",
       "      <th>distance_to_goal</th>\n",
       "      <th>angle_to_goal</th>\n",
       "      <th>foul_count_player</th>\n",
       "      <th>foul_count_team</th>\n",
       "      <th>vaep_offensive</th>\n",
       "    </tr>\n",
       "    <tr>\n",
       "      <th>id</th>\n",
       "      <th></th>\n",
       "      <th></th>\n",
       "      <th></th>\n",
       "      <th></th>\n",
       "      <th></th>\n",
       "      <th></th>\n",
       "      <th></th>\n",
       "    </tr>\n",
       "  </thead>\n",
       "  <tbody>\n",
       "    <tr>\n",
       "      <th>9221da02-9c87-4f98-a8ea-de9994ad562b</th>\n",
       "      <td>14</td>\n",
       "      <td>0</td>\n",
       "      <td>37.968408</td>\n",
       "      <td>1.282367</td>\n",
       "      <td>1</td>\n",
       "      <td>1</td>\n",
       "      <td>-0.000196</td>\n",
       "    </tr>\n",
       "    <tr>\n",
       "      <th>f2bd21f6-87c3-44c0-bb37-04e996db413e</th>\n",
       "      <td>23</td>\n",
       "      <td>1</td>\n",
       "      <td>65.011153</td>\n",
       "      <td>0.058485</td>\n",
       "      <td>1</td>\n",
       "      <td>1</td>\n",
       "      <td>-0.001102</td>\n",
       "    </tr>\n",
       "    <tr>\n",
       "      <th>8e51baec-6948-4285-86a1-73197126e265</th>\n",
       "      <td>33</td>\n",
       "      <td>0</td>\n",
       "      <td>69.641654</td>\n",
       "      <td>-0.306311</td>\n",
       "      <td>1</td>\n",
       "      <td>2</td>\n",
       "      <td>-0.001255</td>\n",
       "    </tr>\n",
       "    <tr>\n",
       "      <th>b711f529-182e-4ae3-8c9a-189b7697b2ea</th>\n",
       "      <td>46</td>\n",
       "      <td>0</td>\n",
       "      <td>52.106142</td>\n",
       "      <td>-0.264064</td>\n",
       "      <td>1</td>\n",
       "      <td>2</td>\n",
       "      <td>-0.000879</td>\n",
       "    </tr>\n",
       "    <tr>\n",
       "      <th>ec46c71c-af4c-4d99-a854-e4ffc30460d6</th>\n",
       "      <td>55</td>\n",
       "      <td>1</td>\n",
       "      <td>42.569942</td>\n",
       "      <td>0.554117</td>\n",
       "      <td>1</td>\n",
       "      <td>3</td>\n",
       "      <td>-0.016189</td>\n",
       "    </tr>\n",
       "  </tbody>\n",
       "</table>\n",
       "</div>"
      ],
      "text/plain": [
       "                                      minutes  score_difference  \\\n",
       "id                                                                \n",
       "9221da02-9c87-4f98-a8ea-de9994ad562b       14                 0   \n",
       "f2bd21f6-87c3-44c0-bb37-04e996db413e       23                 1   \n",
       "8e51baec-6948-4285-86a1-73197126e265       33                 0   \n",
       "b711f529-182e-4ae3-8c9a-189b7697b2ea       46                 0   \n",
       "ec46c71c-af4c-4d99-a854-e4ffc30460d6       55                 1   \n",
       "\n",
       "                                      distance_to_goal  angle_to_goal  \\\n",
       "id                                                                      \n",
       "9221da02-9c87-4f98-a8ea-de9994ad562b         37.968408       1.282367   \n",
       "f2bd21f6-87c3-44c0-bb37-04e996db413e         65.011153       0.058485   \n",
       "8e51baec-6948-4285-86a1-73197126e265         69.641654      -0.306311   \n",
       "b711f529-182e-4ae3-8c9a-189b7697b2ea         52.106142      -0.264064   \n",
       "ec46c71c-af4c-4d99-a854-e4ffc30460d6         42.569942       0.554117   \n",
       "\n",
       "                                      foul_count_player  foul_count_team  \\\n",
       "id                                                                         \n",
       "9221da02-9c87-4f98-a8ea-de9994ad562b                  1                1   \n",
       "f2bd21f6-87c3-44c0-bb37-04e996db413e                  1                1   \n",
       "8e51baec-6948-4285-86a1-73197126e265                  1                2   \n",
       "b711f529-182e-4ae3-8c9a-189b7697b2ea                  1                2   \n",
       "ec46c71c-af4c-4d99-a854-e4ffc30460d6                  1                3   \n",
       "\n",
       "                                      vaep_offensive  \n",
       "id                                                    \n",
       "9221da02-9c87-4f98-a8ea-de9994ad562b       -0.000196  \n",
       "f2bd21f6-87c3-44c0-bb37-04e996db413e       -0.001102  \n",
       "8e51baec-6948-4285-86a1-73197126e265       -0.001255  \n",
       "b711f529-182e-4ae3-8c9a-189b7697b2ea       -0.000879  \n",
       "ec46c71c-af4c-4d99-a854-e4ffc30460d6       -0.016189  "
      ]
     },
     "execution_count": 26,
     "metadata": {},
     "output_type": "execute_result"
    }
   ],
   "source": [
    "all_the_features_with_vaep.head()"
   ]
  },
  {
   "cell_type": "code",
   "execution_count": 28,
   "metadata": {},
   "outputs": [],
   "source": [
    "all_fouls_advanced_with_vaep.set_index('id', inplace=True)"
   ]
  },
  {
   "cell_type": "code",
   "execution_count": 29,
   "metadata": {},
   "outputs": [],
   "source": [
    "# Save all_the_features_with_vaep as a pickle file in file path: all_the_features_with_vaep_df.pkl\n",
    "import pickle\n",
    "with open('all_the_features_with_vaep_df.pkl', 'wb') as f:\n",
    "    pickle.dump(all_the_features_with_vaep, f)"
   ]
  },
  {
   "cell_type": "code",
   "execution_count": 34,
   "metadata": {},
   "outputs": [
    {
     "data": {
      "text/html": [
       "<div>\n",
       "<style scoped>\n",
       "    .dataframe tbody tr th:only-of-type {\n",
       "        vertical-align: middle;\n",
       "    }\n",
       "\n",
       "    .dataframe tbody tr th {\n",
       "        vertical-align: top;\n",
       "    }\n",
       "\n",
       "    .dataframe thead th {\n",
       "        text-align: right;\n",
       "    }\n",
       "</style>\n",
       "<table border=\"1\" class=\"dataframe\">\n",
       "  <thead>\n",
       "    <tr style=\"text-align: right;\">\n",
       "      <th></th>\n",
       "      <th>minutes</th>\n",
       "      <th>score_difference</th>\n",
       "      <th>distance_to_goal</th>\n",
       "      <th>angle_to_goal</th>\n",
       "      <th>foul_count_player</th>\n",
       "      <th>foul_count_team</th>\n",
       "      <th>vaep_offensive</th>\n",
       "      <th>label</th>\n",
       "    </tr>\n",
       "    <tr>\n",
       "      <th>id</th>\n",
       "      <th></th>\n",
       "      <th></th>\n",
       "      <th></th>\n",
       "      <th></th>\n",
       "      <th></th>\n",
       "      <th></th>\n",
       "      <th></th>\n",
       "      <th></th>\n",
       "    </tr>\n",
       "  </thead>\n",
       "  <tbody>\n",
       "    <tr>\n",
       "      <th>9221da02-9c87-4f98-a8ea-de9994ad562b</th>\n",
       "      <td>14</td>\n",
       "      <td>0</td>\n",
       "      <td>37.968408</td>\n",
       "      <td>1.282367</td>\n",
       "      <td>1</td>\n",
       "      <td>1</td>\n",
       "      <td>-0.000196</td>\n",
       "      <td>0</td>\n",
       "    </tr>\n",
       "    <tr>\n",
       "      <th>f2bd21f6-87c3-44c0-bb37-04e996db413e</th>\n",
       "      <td>23</td>\n",
       "      <td>1</td>\n",
       "      <td>65.011153</td>\n",
       "      <td>0.058485</td>\n",
       "      <td>1</td>\n",
       "      <td>1</td>\n",
       "      <td>-0.001102</td>\n",
       "      <td>2</td>\n",
       "    </tr>\n",
       "    <tr>\n",
       "      <th>8e51baec-6948-4285-86a1-73197126e265</th>\n",
       "      <td>33</td>\n",
       "      <td>0</td>\n",
       "      <td>69.641654</td>\n",
       "      <td>-0.306311</td>\n",
       "      <td>1</td>\n",
       "      <td>2</td>\n",
       "      <td>-0.001255</td>\n",
       "      <td>0</td>\n",
       "    </tr>\n",
       "    <tr>\n",
       "      <th>b711f529-182e-4ae3-8c9a-189b7697b2ea</th>\n",
       "      <td>46</td>\n",
       "      <td>0</td>\n",
       "      <td>52.106142</td>\n",
       "      <td>-0.264064</td>\n",
       "      <td>1</td>\n",
       "      <td>2</td>\n",
       "      <td>-0.000879</td>\n",
       "      <td>0</td>\n",
       "    </tr>\n",
       "    <tr>\n",
       "      <th>ec46c71c-af4c-4d99-a854-e4ffc30460d6</th>\n",
       "      <td>55</td>\n",
       "      <td>1</td>\n",
       "      <td>42.569942</td>\n",
       "      <td>0.554117</td>\n",
       "      <td>1</td>\n",
       "      <td>3</td>\n",
       "      <td>-0.016189</td>\n",
       "      <td>0</td>\n",
       "    </tr>\n",
       "  </tbody>\n",
       "</table>\n",
       "</div>"
      ],
      "text/plain": [
       "                                      minutes  score_difference  \\\n",
       "id                                                                \n",
       "9221da02-9c87-4f98-a8ea-de9994ad562b       14                 0   \n",
       "f2bd21f6-87c3-44c0-bb37-04e996db413e       23                 1   \n",
       "8e51baec-6948-4285-86a1-73197126e265       33                 0   \n",
       "b711f529-182e-4ae3-8c9a-189b7697b2ea       46                 0   \n",
       "ec46c71c-af4c-4d99-a854-e4ffc30460d6       55                 1   \n",
       "\n",
       "                                      distance_to_goal  angle_to_goal  \\\n",
       "id                                                                      \n",
       "9221da02-9c87-4f98-a8ea-de9994ad562b         37.968408       1.282367   \n",
       "f2bd21f6-87c3-44c0-bb37-04e996db413e         65.011153       0.058485   \n",
       "8e51baec-6948-4285-86a1-73197126e265         69.641654      -0.306311   \n",
       "b711f529-182e-4ae3-8c9a-189b7697b2ea         52.106142      -0.264064   \n",
       "ec46c71c-af4c-4d99-a854-e4ffc30460d6         42.569942       0.554117   \n",
       "\n",
       "                                      foul_count_player  foul_count_team  \\\n",
       "id                                                                         \n",
       "9221da02-9c87-4f98-a8ea-de9994ad562b                  1                1   \n",
       "f2bd21f6-87c3-44c0-bb37-04e996db413e                  1                1   \n",
       "8e51baec-6948-4285-86a1-73197126e265                  1                2   \n",
       "b711f529-182e-4ae3-8c9a-189b7697b2ea                  1                2   \n",
       "ec46c71c-af4c-4d99-a854-e4ffc30460d6                  1                3   \n",
       "\n",
       "                                      vaep_offensive  label  \n",
       "id                                                           \n",
       "9221da02-9c87-4f98-a8ea-de9994ad562b       -0.000196      0  \n",
       "f2bd21f6-87c3-44c0-bb37-04e996db413e       -0.001102      2  \n",
       "8e51baec-6948-4285-86a1-73197126e265       -0.001255      0  \n",
       "b711f529-182e-4ae3-8c9a-189b7697b2ea       -0.000879      0  \n",
       "ec46c71c-af4c-4d99-a854-e4ffc30460d6       -0.016189      0  "
      ]
     },
     "execution_count": 34,
     "metadata": {},
     "output_type": "execute_result"
    }
   ],
   "source": [
    "# Add column 'label' to all_the_features_with_vaep. The values of this column should be filled from all_the_labels which is a list of list, with each list element with one value only.\n",
    "all_the_features_with_vaep['label'] = all_the_labels\n",
    "\n",
    "# each label in all_the_features_with_vaep is a list with one element. convert it to a single value\n",
    "all_the_features_with_vaep['label'] = all_the_features_with_vaep['label'].apply(lambda x: x[0])\n",
    "\n",
    "all_the_features_with_vaep.head()"
   ]
  },
  {
   "cell_type": "code",
   "execution_count": 35,
   "metadata": {},
   "outputs": [
    {
     "data": {
      "text/plain": [
       "2    763\n",
       "0    559\n",
       "1     11\n",
       "Name: label, dtype: int64"
      ]
     },
     "execution_count": 35,
     "metadata": {},
     "output_type": "execute_result"
    }
   ],
   "source": [
    "all_the_features_with_vaep['label'].value_counts()"
   ]
  },
  {
   "cell_type": "code",
   "execution_count": null,
   "metadata": {},
   "outputs": [],
   "source": [
    "# 2: neither yellow nor red card nor second yellow card\n",
    "# 1: red card\n",
    "# 0: yellow card or second yellow card"
   ]
  },
  {
   "cell_type": "code",
   "execution_count": 36,
   "metadata": {},
   "outputs": [],
   "source": [
    "# Save all_the_features_with_vaep as a pickle file in file path: features_with_label_df.pkl\n",
    "import pickle\n",
    "\n",
    "with open('features_with_label_df.pkl', 'wb') as f:\n",
    "    pickle.dump(all_the_features_with_vaep, f)"
   ]
  },
  {
   "cell_type": "code",
   "execution_count": null,
   "metadata": {},
   "outputs": [],
   "source": []
  }
 ],
 "metadata": {
  "kernelspec": {
   "display_name": "dlassign",
   "language": "python",
   "name": "python3"
  },
  "language_info": {
   "codemirror_mode": {
    "name": "ipython",
    "version": 3
   },
   "file_extension": ".py",
   "mimetype": "text/x-python",
   "name": "python",
   "nbconvert_exporter": "python",
   "pygments_lexer": "ipython3",
   "version": "3.9.7"
  },
  "orig_nbformat": 4
 },
 "nbformat": 4,
 "nbformat_minor": 2
}
