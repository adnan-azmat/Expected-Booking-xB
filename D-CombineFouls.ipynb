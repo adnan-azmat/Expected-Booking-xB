{
 "cells": [
  {
   "cell_type": "code",
   "execution_count": 86,
   "metadata": {},
   "outputs": [],
   "source": [
    "import pandas as pd\n",
    "\n",
    "# load all_fouls_advanced.pkl (dataframe) and and all_the_features.pkl (list)\n",
    "all_fouls_advanced_with_vaep = pd.read_pickle('all_fouls_advanced_with_vaep.pkl')\n",
    "all_fouls_advanced_with_vaep.set_index('id', inplace=True)\n",
    "all_the_features = pd.read_pickle('all_the_features.pkl')"
   ]
  },
  {
   "cell_type": "code",
   "execution_count": 87,
   "metadata": {},
   "outputs": [
    {
     "name": "stdout",
     "output_type": "stream",
     "text": [
      "[3, 0, 54.17600945067844, 0.2843847765938589, 1, 1, 'f1dd3418-5813-4df3-b319-97e1f821a4bb', 0.00022205110872164369]\n"
     ]
    }
   ],
   "source": [
    "# the last column in all_the_features and the 'id' column in all_fouls_advanced are the same. based on this, add a new element to each all_the_features that takes the 'vaep_offensive' column from all_fouls_advanced when the 'id' column matches. Remember all_the_features is just a list of lists. Also 'id' is all_fouls_advanced's index.\n",
    "for i in range(len(all_the_features)):\n",
    "    all_the_features[i].append(all_fouls_advanced_with_vaep.loc[all_the_features[i][-1], 'vaep_value_offensive'])\n",
    "\n",
    "print (all_the_features[0])"
   ]
  },
  {
   "cell_type": "code",
   "execution_count": 88,
   "metadata": {},
   "outputs": [
    {
     "data": {
      "text/plain": [
       "19865"
      ]
     },
     "execution_count": 88,
     "metadata": {},
     "output_type": "execute_result"
    }
   ],
   "source": [
    "len(all_the_features)"
   ]
  },
  {
   "cell_type": "code",
   "execution_count": 89,
   "metadata": {},
   "outputs": [],
   "source": [
    "# Save all_the_features as a pickle file in file path: all_the_features_with_vaep.pkl\n",
    "import pickle\n",
    "with open('all_the_features_with_vaep.pkl', 'wb') as f:\n",
    "    pickle.dump(all_the_features, f)"
   ]
  },
  {
   "cell_type": "code",
   "execution_count": 90,
   "metadata": {},
   "outputs": [],
   "source": [
    "import pandas as pd\n",
    "\n",
    "# load all_fouls_advanced.pkl\n",
    "all_fouls_advanced_with_vaep = pd.read_pickle('all_fouls_advanced_with_vaep.pkl')\n",
    "\n",
    "# load model_lgbm_regressor.pkl\n",
    "# model_lgbm_regressor = pd.read_pickle('model_lgbm_regressor.pkl')\n",
    "\n",
    "# load model_lgbm_classifier.pkl\n",
    "# model_lgbm_classifier = pd.read_pickle('model_lgbm_classifier.pkl')\n",
    "\n",
    "# load all_the_features.pkl\n",
    "all_the_features_with_vaep = pd.read_pickle('all_the_features_with_vaep.pkl')\n",
    "\n",
    "# load all_the_labels.pkl\n",
    "all_the_labels = pd.read_pickle('all_the_labels.pkl')\n"
   ]
  },
  {
   "cell_type": "code",
   "execution_count": 91,
   "metadata": {},
   "outputs": [
    {
     "data": {
      "text/plain": [
       "[3,\n",
       " 0,\n",
       " 54.17600945067844,\n",
       " 0.2843847765938589,\n",
       " 1,\n",
       " 1,\n",
       " 'f1dd3418-5813-4df3-b319-97e1f821a4bb',\n",
       " 0.00022205110872164369]"
      ]
     },
     "execution_count": 91,
     "metadata": {},
     "output_type": "execute_result"
    }
   ],
   "source": [
    "all_the_features[0]"
   ]
  },
  {
   "cell_type": "code",
   "execution_count": 92,
   "metadata": {},
   "outputs": [],
   "source": [
    "# convert all_the_features which is a list to a dataframe. The name of columns are: ['minutes', 'score_difference', 'distance_to_goal', 'angle_to_goal', 'foul_count_player', 'foul_count_team', 'vaep_offensive', 'id']\n",
    "all_the_features_with_vaep = pd.DataFrame(all_the_features, columns=['minutes', 'score_difference', 'distance_to_goal', 'angle_to_goal', 'foul_count_player', 'foul_count_team', 'id', 'vaep_offensive'])\n",
    "\n",
    "# set id as index\n",
    "all_the_features_with_vaep.set_index('id', inplace=True)"
   ]
  },
  {
   "cell_type": "code",
   "execution_count": 93,
   "metadata": {},
   "outputs": [
    {
     "data": {
      "text/plain": [
       "19865"
      ]
     },
     "execution_count": 93,
     "metadata": {},
     "output_type": "execute_result"
    }
   ],
   "source": [
    "len(all_the_features_with_vaep)"
   ]
  },
  {
   "cell_type": "code",
   "execution_count": 94,
   "metadata": {},
   "outputs": [],
   "source": [
    "# Save all_the_features_with_vaep as a pickle file in file path: all_the_features_with_vaep_df.pkl\n",
    "import pickle\n",
    "with open('all_the_features_with_vaep_df.pkl', 'wb') as f:\n",
    "    pickle.dump(all_the_features_with_vaep, f)"
   ]
  },
  {
   "cell_type": "code",
   "execution_count": 95,
   "metadata": {},
   "outputs": [
    {
     "data": {
      "text/html": [
       "<div>\n",
       "<style scoped>\n",
       "    .dataframe tbody tr th:only-of-type {\n",
       "        vertical-align: middle;\n",
       "    }\n",
       "\n",
       "    .dataframe tbody tr th {\n",
       "        vertical-align: top;\n",
       "    }\n",
       "\n",
       "    .dataframe thead th {\n",
       "        text-align: right;\n",
       "    }\n",
       "</style>\n",
       "<table border=\"1\" class=\"dataframe\">\n",
       "  <thead>\n",
       "    <tr style=\"text-align: right;\">\n",
       "      <th></th>\n",
       "      <th>minutes</th>\n",
       "      <th>score_difference</th>\n",
       "      <th>distance_to_goal</th>\n",
       "      <th>angle_to_goal</th>\n",
       "      <th>foul_count_player</th>\n",
       "      <th>foul_count_team</th>\n",
       "      <th>vaep_offensive</th>\n",
       "      <th>label</th>\n",
       "    </tr>\n",
       "    <tr>\n",
       "      <th>id</th>\n",
       "      <th></th>\n",
       "      <th></th>\n",
       "      <th></th>\n",
       "      <th></th>\n",
       "      <th></th>\n",
       "      <th></th>\n",
       "      <th></th>\n",
       "      <th></th>\n",
       "    </tr>\n",
       "  </thead>\n",
       "  <tbody>\n",
       "    <tr>\n",
       "      <th>f1dd3418-5813-4df3-b319-97e1f821a4bb</th>\n",
       "      <td>3</td>\n",
       "      <td>0</td>\n",
       "      <td>54.176009</td>\n",
       "      <td>0.284385</td>\n",
       "      <td>1</td>\n",
       "      <td>1</td>\n",
       "      <td>0.000222</td>\n",
       "      <td>2</td>\n",
       "    </tr>\n",
       "    <tr>\n",
       "      <th>b9948ea0-9079-4d01-bdc7-8022567fe66a</th>\n",
       "      <td>34</td>\n",
       "      <td>-2</td>\n",
       "      <td>62.502000</td>\n",
       "      <td>-0.651501</td>\n",
       "      <td>1</td>\n",
       "      <td>2</td>\n",
       "      <td>0.001036</td>\n",
       "      <td>2</td>\n",
       "    </tr>\n",
       "    <tr>\n",
       "      <th>c1ee4d2c-2ef8-4128-b93a-ee8e666e663b</th>\n",
       "      <td>58</td>\n",
       "      <td>2</td>\n",
       "      <td>60.462881</td>\n",
       "      <td>0.319659</td>\n",
       "      <td>1</td>\n",
       "      <td>1</td>\n",
       "      <td>-0.000487</td>\n",
       "      <td>0</td>\n",
       "    </tr>\n",
       "    <tr>\n",
       "      <th>183de912-efda-4e99-9033-7c9ed5d4ed9c</th>\n",
       "      <td>63</td>\n",
       "      <td>-2</td>\n",
       "      <td>68.368706</td>\n",
       "      <td>-0.324526</td>\n",
       "      <td>1</td>\n",
       "      <td>3</td>\n",
       "      <td>0.000877</td>\n",
       "      <td>2</td>\n",
       "    </tr>\n",
       "    <tr>\n",
       "      <th>66e76aec-d130-4d3a-aea8-960f1bcb37b4</th>\n",
       "      <td>65</td>\n",
       "      <td>-2</td>\n",
       "      <td>66.455399</td>\n",
       "      <td>0.579656</td>\n",
       "      <td>2</td>\n",
       "      <td>4</td>\n",
       "      <td>0.000773</td>\n",
       "      <td>2</td>\n",
       "    </tr>\n",
       "  </tbody>\n",
       "</table>\n",
       "</div>"
      ],
      "text/plain": [
       "                                      minutes  score_difference  \\\n",
       "id                                                                \n",
       "f1dd3418-5813-4df3-b319-97e1f821a4bb        3                 0   \n",
       "b9948ea0-9079-4d01-bdc7-8022567fe66a       34                -2   \n",
       "c1ee4d2c-2ef8-4128-b93a-ee8e666e663b       58                 2   \n",
       "183de912-efda-4e99-9033-7c9ed5d4ed9c       63                -2   \n",
       "66e76aec-d130-4d3a-aea8-960f1bcb37b4       65                -2   \n",
       "\n",
       "                                      distance_to_goal  angle_to_goal  \\\n",
       "id                                                                      \n",
       "f1dd3418-5813-4df3-b319-97e1f821a4bb         54.176009       0.284385   \n",
       "b9948ea0-9079-4d01-bdc7-8022567fe66a         62.502000      -0.651501   \n",
       "c1ee4d2c-2ef8-4128-b93a-ee8e666e663b         60.462881       0.319659   \n",
       "183de912-efda-4e99-9033-7c9ed5d4ed9c         68.368706      -0.324526   \n",
       "66e76aec-d130-4d3a-aea8-960f1bcb37b4         66.455399       0.579656   \n",
       "\n",
       "                                      foul_count_player  foul_count_team  \\\n",
       "id                                                                         \n",
       "f1dd3418-5813-4df3-b319-97e1f821a4bb                  1                1   \n",
       "b9948ea0-9079-4d01-bdc7-8022567fe66a                  1                2   \n",
       "c1ee4d2c-2ef8-4128-b93a-ee8e666e663b                  1                1   \n",
       "183de912-efda-4e99-9033-7c9ed5d4ed9c                  1                3   \n",
       "66e76aec-d130-4d3a-aea8-960f1bcb37b4                  2                4   \n",
       "\n",
       "                                      vaep_offensive  label  \n",
       "id                                                           \n",
       "f1dd3418-5813-4df3-b319-97e1f821a4bb        0.000222      2  \n",
       "b9948ea0-9079-4d01-bdc7-8022567fe66a        0.001036      2  \n",
       "c1ee4d2c-2ef8-4128-b93a-ee8e666e663b       -0.000487      0  \n",
       "183de912-efda-4e99-9033-7c9ed5d4ed9c        0.000877      2  \n",
       "66e76aec-d130-4d3a-aea8-960f1bcb37b4        0.000773      2  "
      ]
     },
     "execution_count": 95,
     "metadata": {},
     "output_type": "execute_result"
    }
   ],
   "source": [
    "# Add column 'label' to all_the_features_with_vaep. The values of this column should be filled from all_the_labels which is a list of list, with each list element with one value only.\n",
    "all_the_features_with_vaep['label'] = all_the_labels\n",
    "\n",
    "# each label in all_the_features_with_vaep is a list with one element. convert it to a single value\n",
    "all_the_features_with_vaep['label'] = all_the_features_with_vaep['label'].apply(lambda x: x[0])\n",
    "\n",
    "all_the_features_with_vaep.head()"
   ]
  },
  {
   "cell_type": "code",
   "execution_count": 96,
   "metadata": {},
   "outputs": [
    {
     "data": {
      "text/plain": [
       "2    10630\n",
       "0     9034\n",
       "1      201\n",
       "Name: label, dtype: int64"
      ]
     },
     "execution_count": 96,
     "metadata": {},
     "output_type": "execute_result"
    }
   ],
   "source": [
    "all_the_features_with_vaep['label'].value_counts()"
   ]
  },
  {
   "cell_type": "code",
   "execution_count": 97,
   "metadata": {},
   "outputs": [],
   "source": [
    "# 2: neither yellow nor red card nor second yellow card\n",
    "# 1: red card\n",
    "# 0: yellow card or second yellow card"
   ]
  },
  {
   "cell_type": "code",
   "execution_count": null,
   "metadata": {},
   "outputs": [],
   "source": []
  },
  {
   "cell_type": "code",
   "execution_count": 98,
   "metadata": {},
   "outputs": [],
   "source": [
    "# remove all rows with label = 1\n",
    "all_the_features_with_vaep = all_the_features_with_vaep[all_the_features_with_vaep['label'] != 1]\n",
    "\n",
    "# convert all labels with value 0 to 1\n",
    "all_the_features_with_vaep['label'] = all_the_features_with_vaep['label'].apply(lambda x: 1 if x == 0 else x)\n",
    "\n",
    "# convert all labels with value 2 to 0\n",
    "all_the_features_with_vaep['label'] = all_the_features_with_vaep['label'].apply(lambda x: 0 if x == 2 else x)\n",
    "\n"
   ]
  },
  {
   "cell_type": "code",
   "execution_count": 99,
   "metadata": {},
   "outputs": [
    {
     "data": {
      "text/plain": [
       "0    10630\n",
       "1     9034\n",
       "Name: label, dtype: int64"
      ]
     },
     "execution_count": 99,
     "metadata": {},
     "output_type": "execute_result"
    }
   ],
   "source": [
    "all_the_features_with_vaep['label'].value_counts()"
   ]
  },
  {
   "cell_type": "code",
   "execution_count": 100,
   "metadata": {},
   "outputs": [],
   "source": [
    "\n",
    "with open('features_with_label_df.pkl', 'wb') as f:\n",
    "    pickle.dump(all_the_features_with_vaep, f)"
   ]
  },
  {
   "cell_type": "code",
   "execution_count": 101,
   "metadata": {},
   "outputs": [
    {
     "data": {
      "text/html": [
       "<div>\n",
       "<style scoped>\n",
       "    .dataframe tbody tr th:only-of-type {\n",
       "        vertical-align: middle;\n",
       "    }\n",
       "\n",
       "    .dataframe tbody tr th {\n",
       "        vertical-align: top;\n",
       "    }\n",
       "\n",
       "    .dataframe thead th {\n",
       "        text-align: right;\n",
       "    }\n",
       "</style>\n",
       "<table border=\"1\" class=\"dataframe\">\n",
       "  <thead>\n",
       "    <tr style=\"text-align: right;\">\n",
       "      <th></th>\n",
       "      <th>minutes</th>\n",
       "      <th>score_difference</th>\n",
       "      <th>distance_to_goal</th>\n",
       "      <th>angle_to_goal</th>\n",
       "      <th>foul_count_player</th>\n",
       "      <th>foul_count_team</th>\n",
       "      <th>vaep_offensive</th>\n",
       "      <th>label</th>\n",
       "    </tr>\n",
       "    <tr>\n",
       "      <th>id</th>\n",
       "      <th></th>\n",
       "      <th></th>\n",
       "      <th></th>\n",
       "      <th></th>\n",
       "      <th></th>\n",
       "      <th></th>\n",
       "      <th></th>\n",
       "      <th></th>\n",
       "    </tr>\n",
       "  </thead>\n",
       "  <tbody>\n",
       "    <tr>\n",
       "      <th>f1dd3418-5813-4df3-b319-97e1f821a4bb</th>\n",
       "      <td>3</td>\n",
       "      <td>0</td>\n",
       "      <td>54.176009</td>\n",
       "      <td>0.284385</td>\n",
       "      <td>1</td>\n",
       "      <td>1</td>\n",
       "      <td>0.000222</td>\n",
       "      <td>0</td>\n",
       "    </tr>\n",
       "    <tr>\n",
       "      <th>b9948ea0-9079-4d01-bdc7-8022567fe66a</th>\n",
       "      <td>34</td>\n",
       "      <td>-2</td>\n",
       "      <td>62.502000</td>\n",
       "      <td>-0.651501</td>\n",
       "      <td>1</td>\n",
       "      <td>2</td>\n",
       "      <td>0.001036</td>\n",
       "      <td>0</td>\n",
       "    </tr>\n",
       "    <tr>\n",
       "      <th>c1ee4d2c-2ef8-4128-b93a-ee8e666e663b</th>\n",
       "      <td>58</td>\n",
       "      <td>2</td>\n",
       "      <td>60.462881</td>\n",
       "      <td>0.319659</td>\n",
       "      <td>1</td>\n",
       "      <td>1</td>\n",
       "      <td>-0.000487</td>\n",
       "      <td>1</td>\n",
       "    </tr>\n",
       "    <tr>\n",
       "      <th>183de912-efda-4e99-9033-7c9ed5d4ed9c</th>\n",
       "      <td>63</td>\n",
       "      <td>-2</td>\n",
       "      <td>68.368706</td>\n",
       "      <td>-0.324526</td>\n",
       "      <td>1</td>\n",
       "      <td>3</td>\n",
       "      <td>0.000877</td>\n",
       "      <td>0</td>\n",
       "    </tr>\n",
       "    <tr>\n",
       "      <th>66e76aec-d130-4d3a-aea8-960f1bcb37b4</th>\n",
       "      <td>65</td>\n",
       "      <td>-2</td>\n",
       "      <td>66.455399</td>\n",
       "      <td>0.579656</td>\n",
       "      <td>2</td>\n",
       "      <td>4</td>\n",
       "      <td>0.000773</td>\n",
       "      <td>0</td>\n",
       "    </tr>\n",
       "  </tbody>\n",
       "</table>\n",
       "</div>"
      ],
      "text/plain": [
       "                                      minutes  score_difference  \\\n",
       "id                                                                \n",
       "f1dd3418-5813-4df3-b319-97e1f821a4bb        3                 0   \n",
       "b9948ea0-9079-4d01-bdc7-8022567fe66a       34                -2   \n",
       "c1ee4d2c-2ef8-4128-b93a-ee8e666e663b       58                 2   \n",
       "183de912-efda-4e99-9033-7c9ed5d4ed9c       63                -2   \n",
       "66e76aec-d130-4d3a-aea8-960f1bcb37b4       65                -2   \n",
       "\n",
       "                                      distance_to_goal  angle_to_goal  \\\n",
       "id                                                                      \n",
       "f1dd3418-5813-4df3-b319-97e1f821a4bb         54.176009       0.284385   \n",
       "b9948ea0-9079-4d01-bdc7-8022567fe66a         62.502000      -0.651501   \n",
       "c1ee4d2c-2ef8-4128-b93a-ee8e666e663b         60.462881       0.319659   \n",
       "183de912-efda-4e99-9033-7c9ed5d4ed9c         68.368706      -0.324526   \n",
       "66e76aec-d130-4d3a-aea8-960f1bcb37b4         66.455399       0.579656   \n",
       "\n",
       "                                      foul_count_player  foul_count_team  \\\n",
       "id                                                                         \n",
       "f1dd3418-5813-4df3-b319-97e1f821a4bb                  1                1   \n",
       "b9948ea0-9079-4d01-bdc7-8022567fe66a                  1                2   \n",
       "c1ee4d2c-2ef8-4128-b93a-ee8e666e663b                  1                1   \n",
       "183de912-efda-4e99-9033-7c9ed5d4ed9c                  1                3   \n",
       "66e76aec-d130-4d3a-aea8-960f1bcb37b4                  2                4   \n",
       "\n",
       "                                      vaep_offensive  label  \n",
       "id                                                           \n",
       "f1dd3418-5813-4df3-b319-97e1f821a4bb        0.000222      0  \n",
       "b9948ea0-9079-4d01-bdc7-8022567fe66a        0.001036      0  \n",
       "c1ee4d2c-2ef8-4128-b93a-ee8e666e663b       -0.000487      1  \n",
       "183de912-efda-4e99-9033-7c9ed5d4ed9c        0.000877      0  \n",
       "66e76aec-d130-4d3a-aea8-960f1bcb37b4        0.000773      0  "
      ]
     },
     "execution_count": 101,
     "metadata": {},
     "output_type": "execute_result"
    }
   ],
   "source": [
    "import pickle\n",
    "import pandas as pd\n",
    "\n",
    "# load features_with_label_df.pkl\n",
    "features_with_label_df = pd.read_pickle('features_with_label_df.pkl')\n",
    "\n",
    "features_with_label_df.head()"
   ]
  },
  {
   "cell_type": "code",
   "execution_count": 102,
   "metadata": {},
   "outputs": [
    {
     "data": {
      "text/plain": [
       "0    10630\n",
       "1     9034\n",
       "Name: label, dtype: int64"
      ]
     },
     "execution_count": 102,
     "metadata": {},
     "output_type": "execute_result"
    }
   ],
   "source": [
    "# print value_counts but map it to 1 is yellow card, 0 is no card in label column\n",
    "features_with_label_df['label'].value_counts()"
   ]
  },
  {
   "cell_type": "code",
   "execution_count": null,
   "metadata": {},
   "outputs": [],
   "source": []
  },
  {
   "cell_type": "code",
   "execution_count": 104,
   "metadata": {},
   "outputs": [],
   "source": [
    "import pandas as pd\n",
    "from sklearn.model_selection import train_test_split\n",
    "from xgboost import XGBClassifier\n",
    "from sklearn.metrics import accuracy_score, roc_auc_score, classification_report\n"
   ]
  },
  {
   "cell_type": "code",
   "execution_count": 105,
   "metadata": {},
   "outputs": [
    {
     "data": {
      "text/html": [
       "<div>\n",
       "<style scoped>\n",
       "    .dataframe tbody tr th:only-of-type {\n",
       "        vertical-align: middle;\n",
       "    }\n",
       "\n",
       "    .dataframe tbody tr th {\n",
       "        vertical-align: top;\n",
       "    }\n",
       "\n",
       "    .dataframe thead th {\n",
       "        text-align: right;\n",
       "    }\n",
       "</style>\n",
       "<table border=\"1\" class=\"dataframe\">\n",
       "  <thead>\n",
       "    <tr style=\"text-align: right;\">\n",
       "      <th></th>\n",
       "      <th>minutes</th>\n",
       "      <th>score_difference</th>\n",
       "      <th>distance_to_goal</th>\n",
       "      <th>angle_to_goal</th>\n",
       "      <th>foul_count_player</th>\n",
       "      <th>foul_count_team</th>\n",
       "      <th>vaep_offensive</th>\n",
       "      <th>label</th>\n",
       "    </tr>\n",
       "    <tr>\n",
       "      <th>id</th>\n",
       "      <th></th>\n",
       "      <th></th>\n",
       "      <th></th>\n",
       "      <th></th>\n",
       "      <th></th>\n",
       "      <th></th>\n",
       "      <th></th>\n",
       "      <th></th>\n",
       "    </tr>\n",
       "  </thead>\n",
       "  <tbody>\n",
       "    <tr>\n",
       "      <th>f1dd3418-5813-4df3-b319-97e1f821a4bb</th>\n",
       "      <td>3</td>\n",
       "      <td>0</td>\n",
       "      <td>54.176009</td>\n",
       "      <td>0.284385</td>\n",
       "      <td>1</td>\n",
       "      <td>1</td>\n",
       "      <td>0.000222</td>\n",
       "      <td>0</td>\n",
       "    </tr>\n",
       "    <tr>\n",
       "      <th>b9948ea0-9079-4d01-bdc7-8022567fe66a</th>\n",
       "      <td>34</td>\n",
       "      <td>-2</td>\n",
       "      <td>62.502000</td>\n",
       "      <td>-0.651501</td>\n",
       "      <td>1</td>\n",
       "      <td>2</td>\n",
       "      <td>0.001036</td>\n",
       "      <td>0</td>\n",
       "    </tr>\n",
       "    <tr>\n",
       "      <th>c1ee4d2c-2ef8-4128-b93a-ee8e666e663b</th>\n",
       "      <td>58</td>\n",
       "      <td>2</td>\n",
       "      <td>60.462881</td>\n",
       "      <td>0.319659</td>\n",
       "      <td>1</td>\n",
       "      <td>1</td>\n",
       "      <td>-0.000487</td>\n",
       "      <td>1</td>\n",
       "    </tr>\n",
       "    <tr>\n",
       "      <th>183de912-efda-4e99-9033-7c9ed5d4ed9c</th>\n",
       "      <td>63</td>\n",
       "      <td>-2</td>\n",
       "      <td>68.368706</td>\n",
       "      <td>-0.324526</td>\n",
       "      <td>1</td>\n",
       "      <td>3</td>\n",
       "      <td>0.000877</td>\n",
       "      <td>0</td>\n",
       "    </tr>\n",
       "    <tr>\n",
       "      <th>66e76aec-d130-4d3a-aea8-960f1bcb37b4</th>\n",
       "      <td>65</td>\n",
       "      <td>-2</td>\n",
       "      <td>66.455399</td>\n",
       "      <td>0.579656</td>\n",
       "      <td>2</td>\n",
       "      <td>4</td>\n",
       "      <td>0.000773</td>\n",
       "      <td>0</td>\n",
       "    </tr>\n",
       "  </tbody>\n",
       "</table>\n",
       "</div>"
      ],
      "text/plain": [
       "                                      minutes  score_difference  \\\n",
       "id                                                                \n",
       "f1dd3418-5813-4df3-b319-97e1f821a4bb        3                 0   \n",
       "b9948ea0-9079-4d01-bdc7-8022567fe66a       34                -2   \n",
       "c1ee4d2c-2ef8-4128-b93a-ee8e666e663b       58                 2   \n",
       "183de912-efda-4e99-9033-7c9ed5d4ed9c       63                -2   \n",
       "66e76aec-d130-4d3a-aea8-960f1bcb37b4       65                -2   \n",
       "\n",
       "                                      distance_to_goal  angle_to_goal  \\\n",
       "id                                                                      \n",
       "f1dd3418-5813-4df3-b319-97e1f821a4bb         54.176009       0.284385   \n",
       "b9948ea0-9079-4d01-bdc7-8022567fe66a         62.502000      -0.651501   \n",
       "c1ee4d2c-2ef8-4128-b93a-ee8e666e663b         60.462881       0.319659   \n",
       "183de912-efda-4e99-9033-7c9ed5d4ed9c         68.368706      -0.324526   \n",
       "66e76aec-d130-4d3a-aea8-960f1bcb37b4         66.455399       0.579656   \n",
       "\n",
       "                                      foul_count_player  foul_count_team  \\\n",
       "id                                                                         \n",
       "f1dd3418-5813-4df3-b319-97e1f821a4bb                  1                1   \n",
       "b9948ea0-9079-4d01-bdc7-8022567fe66a                  1                2   \n",
       "c1ee4d2c-2ef8-4128-b93a-ee8e666e663b                  1                1   \n",
       "183de912-efda-4e99-9033-7c9ed5d4ed9c                  1                3   \n",
       "66e76aec-d130-4d3a-aea8-960f1bcb37b4                  2                4   \n",
       "\n",
       "                                      vaep_offensive  label  \n",
       "id                                                           \n",
       "f1dd3418-5813-4df3-b319-97e1f821a4bb        0.000222      0  \n",
       "b9948ea0-9079-4d01-bdc7-8022567fe66a        0.001036      0  \n",
       "c1ee4d2c-2ef8-4128-b93a-ee8e666e663b       -0.000487      1  \n",
       "183de912-efda-4e99-9033-7c9ed5d4ed9c        0.000877      0  \n",
       "66e76aec-d130-4d3a-aea8-960f1bcb37b4        0.000773      0  "
      ]
     },
     "execution_count": 105,
     "metadata": {},
     "output_type": "execute_result"
    }
   ],
   "source": [
    "features_with_label_df.head()"
   ]
  },
  {
   "cell_type": "code",
   "execution_count": 106,
   "metadata": {},
   "outputs": [],
   "source": [
    "# Assuming your dataframe is named features_with_label_df\n",
    "X = features_with_label_df[['minutes', 'score_difference', 'distance_to_goal', 'angle_to_goal', 'foul_count_player', 'foul_count_team', 'vaep_offensive']]\n",
    "y = features_with_label_df['label']\n",
    "\n",
    "# Split the data into train and test sets with 20% of the data in the test set.\n",
    "X_train, X_test, y_train, y_test = train_test_split(X, y, test_size=0.2, random_state=123)\n"
   ]
  },
  {
   "cell_type": "code",
   "execution_count": 107,
   "metadata": {},
   "outputs": [
    {
     "data": {
      "text/html": [
       "<style>#sk-container-id-5 {color: black;}#sk-container-id-5 pre{padding: 0;}#sk-container-id-5 div.sk-toggleable {background-color: white;}#sk-container-id-5 label.sk-toggleable__label {cursor: pointer;display: block;width: 100%;margin-bottom: 0;padding: 0.3em;box-sizing: border-box;text-align: center;}#sk-container-id-5 label.sk-toggleable__label-arrow:before {content: \"▸\";float: left;margin-right: 0.25em;color: #696969;}#sk-container-id-5 label.sk-toggleable__label-arrow:hover:before {color: black;}#sk-container-id-5 div.sk-estimator:hover label.sk-toggleable__label-arrow:before {color: black;}#sk-container-id-5 div.sk-toggleable__content {max-height: 0;max-width: 0;overflow: hidden;text-align: left;background-color: #f0f8ff;}#sk-container-id-5 div.sk-toggleable__content pre {margin: 0.2em;color: black;border-radius: 0.25em;background-color: #f0f8ff;}#sk-container-id-5 input.sk-toggleable__control:checked~div.sk-toggleable__content {max-height: 200px;max-width: 100%;overflow: auto;}#sk-container-id-5 input.sk-toggleable__control:checked~label.sk-toggleable__label-arrow:before {content: \"▾\";}#sk-container-id-5 div.sk-estimator input.sk-toggleable__control:checked~label.sk-toggleable__label {background-color: #d4ebff;}#sk-container-id-5 div.sk-label input.sk-toggleable__control:checked~label.sk-toggleable__label {background-color: #d4ebff;}#sk-container-id-5 input.sk-hidden--visually {border: 0;clip: rect(1px 1px 1px 1px);clip: rect(1px, 1px, 1px, 1px);height: 1px;margin: -1px;overflow: hidden;padding: 0;position: absolute;width: 1px;}#sk-container-id-5 div.sk-estimator {font-family: monospace;background-color: #f0f8ff;border: 1px dotted black;border-radius: 0.25em;box-sizing: border-box;margin-bottom: 0.5em;}#sk-container-id-5 div.sk-estimator:hover {background-color: #d4ebff;}#sk-container-id-5 div.sk-parallel-item::after {content: \"\";width: 100%;border-bottom: 1px solid gray;flex-grow: 1;}#sk-container-id-5 div.sk-label:hover label.sk-toggleable__label {background-color: #d4ebff;}#sk-container-id-5 div.sk-serial::before {content: \"\";position: absolute;border-left: 1px solid gray;box-sizing: border-box;top: 0;bottom: 0;left: 50%;z-index: 0;}#sk-container-id-5 div.sk-serial {display: flex;flex-direction: column;align-items: center;background-color: white;padding-right: 0.2em;padding-left: 0.2em;position: relative;}#sk-container-id-5 div.sk-item {position: relative;z-index: 1;}#sk-container-id-5 div.sk-parallel {display: flex;align-items: stretch;justify-content: center;background-color: white;position: relative;}#sk-container-id-5 div.sk-item::before, #sk-container-id-5 div.sk-parallel-item::before {content: \"\";position: absolute;border-left: 1px solid gray;box-sizing: border-box;top: 0;bottom: 0;left: 50%;z-index: -1;}#sk-container-id-5 div.sk-parallel-item {display: flex;flex-direction: column;z-index: 1;position: relative;background-color: white;}#sk-container-id-5 div.sk-parallel-item:first-child::after {align-self: flex-end;width: 50%;}#sk-container-id-5 div.sk-parallel-item:last-child::after {align-self: flex-start;width: 50%;}#sk-container-id-5 div.sk-parallel-item:only-child::after {width: 0;}#sk-container-id-5 div.sk-dashed-wrapped {border: 1px dashed gray;margin: 0 0.4em 0.5em 0.4em;box-sizing: border-box;padding-bottom: 0.4em;background-color: white;}#sk-container-id-5 div.sk-label label {font-family: monospace;font-weight: bold;display: inline-block;line-height: 1.2em;}#sk-container-id-5 div.sk-label-container {text-align: center;}#sk-container-id-5 div.sk-container {/* jupyter's `normalize.less` sets `[hidden] { display: none; }` but bootstrap.min.css set `[hidden] { display: none !important; }` so we also need the `!important` here to be able to override the default hidden behavior on the sphinx rendered scikit-learn.org. See: https://github.com/scikit-learn/scikit-learn/issues/21755 */display: inline-block !important;position: relative;}#sk-container-id-5 div.sk-text-repr-fallback {display: none;}</style><div id=\"sk-container-id-5\" class=\"sk-top-container\"><div class=\"sk-text-repr-fallback\"><pre>XGBClassifier(base_score=None, booster=None, callbacks=None,\n",
       "              colsample_bylevel=None, colsample_bynode=None,\n",
       "              colsample_bytree=None, device=None, early_stopping_rounds=None,\n",
       "              enable_categorical=False, eval_metric=None, feature_types=None,\n",
       "              gamma=None, grow_policy=None, importance_type=None,\n",
       "              interaction_constraints=None, learning_rate=None, max_bin=None,\n",
       "              max_cat_threshold=None, max_cat_to_onehot=None,\n",
       "              max_delta_step=None, max_depth=None, max_leaves=None,\n",
       "              min_child_weight=None, missing=nan, monotone_constraints=None,\n",
       "              multi_strategy=None, n_estimators=None, n_jobs=None,\n",
       "              num_parallel_tree=None, random_state=None, ...)</pre><b>In a Jupyter environment, please rerun this cell to show the HTML representation or trust the notebook. <br />On GitHub, the HTML representation is unable to render, please try loading this page with nbviewer.org.</b></div><div class=\"sk-container\" hidden><div class=\"sk-item\"><div class=\"sk-estimator sk-toggleable\"><input class=\"sk-toggleable__control sk-hidden--visually\" id=\"sk-estimator-id-5\" type=\"checkbox\" checked><label for=\"sk-estimator-id-5\" class=\"sk-toggleable__label sk-toggleable__label-arrow\">XGBClassifier</label><div class=\"sk-toggleable__content\"><pre>XGBClassifier(base_score=None, booster=None, callbacks=None,\n",
       "              colsample_bylevel=None, colsample_bynode=None,\n",
       "              colsample_bytree=None, device=None, early_stopping_rounds=None,\n",
       "              enable_categorical=False, eval_metric=None, feature_types=None,\n",
       "              gamma=None, grow_policy=None, importance_type=None,\n",
       "              interaction_constraints=None, learning_rate=None, max_bin=None,\n",
       "              max_cat_threshold=None, max_cat_to_onehot=None,\n",
       "              max_delta_step=None, max_depth=None, max_leaves=None,\n",
       "              min_child_weight=None, missing=nan, monotone_constraints=None,\n",
       "              multi_strategy=None, n_estimators=None, n_jobs=None,\n",
       "              num_parallel_tree=None, random_state=None, ...)</pre></div></div></div></div></div>"
      ],
      "text/plain": [
       "XGBClassifier(base_score=None, booster=None, callbacks=None,\n",
       "              colsample_bylevel=None, colsample_bynode=None,\n",
       "              colsample_bytree=None, device=None, early_stopping_rounds=None,\n",
       "              enable_categorical=False, eval_metric=None, feature_types=None,\n",
       "              gamma=None, grow_policy=None, importance_type=None,\n",
       "              interaction_constraints=None, learning_rate=None, max_bin=None,\n",
       "              max_cat_threshold=None, max_cat_to_onehot=None,\n",
       "              max_delta_step=None, max_depth=None, max_leaves=None,\n",
       "              min_child_weight=None, missing=nan, monotone_constraints=None,\n",
       "              multi_strategy=None, n_estimators=None, n_jobs=None,\n",
       "              num_parallel_tree=None, random_state=None, ...)"
      ]
     },
     "execution_count": 107,
     "metadata": {},
     "output_type": "execute_result"
    }
   ],
   "source": [
    "# Create an XGBoost classifier\n",
    "model = XGBClassifier()\n",
    "\n",
    "# Train the model on the training data\n",
    "model.fit(X_train, y_train)\n"
   ]
  },
  {
   "cell_type": "code",
   "execution_count": 123,
   "metadata": {},
   "outputs": [
    {
     "name": "stdout",
     "output_type": "stream",
     "text": [
      "Test ROC AUC: 0.9101845263309452\n",
      "Test Accuracy: 0.8283752860411899\n",
      "Test F1 score: 0.8055315471045807\n",
      "Test Precision score: 0.8286899822169532\n",
      "Test Recall score: 0.7836322869955157\n"
     ]
    }
   ],
   "source": [
    "# Make predictions on the test set\n",
    "y_test_pred_prob = model.predict_proba(X_test)[:, 1]\n",
    "\n",
    "# Evaluate the model on the test set using ROC AUC score and accuracy\n",
    "roc_auc_test = roc_auc_score(y_test, y_test_pred_prob)\n",
    "accuracy_test = accuracy_score(y_test, (y_test_pred_prob > 0.6).astype(int))\n",
    "\n",
    "print(f'Test ROC AUC: {roc_auc_test}')\n",
    "print(f'Test Accuracy: {accuracy_test}')\n",
    "\n",
    "f1score = f1_score(y_test, y_test_pred_prob > 0.6)\n",
    "print(f'Test F1 score: {f1score}')\n",
    "\n",
    "precision = precision_score(y_test, y_test_pred_prob > 0.6)\n",
    "print(f'Test Precision score: {precision}')\n",
    "\n",
    "recall = recall_score(y_test, y_test_pred_prob > 0.6)\n",
    "print(f'Test Recall score: {recall}')\n"
   ]
  },
  {
   "cell_type": "code",
   "execution_count": 124,
   "metadata": {},
   "outputs": [
    {
     "data": {
      "image/png": "[encoded data removed]",
      "text/plain": [
       "<Figure size 640x480 with 1 Axes>"
      ]
     },
     "metadata": {},
     "output_type": "display_data"
    }
   ],
   "source": [
    "# draw ROC curve\n",
    "from sklearn.metrics import roc_curve\n",
    "import matplotlib.pyplot as plt\n",
    "%matplotlib inline\n",
    "\n",
    "# Plot roc auc curve\n",
    "fpr, tpr, thresholds = roc_curve(y_test, y_test_pred_prob)\n",
    "plt.plot(fpr, tpr, color='orange', label='ROC')\n",
    "plt.plot([0, 1], [0, 1], color='darkblue', linestyle='--', label='Guessing')\n",
    "plt.xlabel('False Positive Rate')\n",
    "plt.ylabel('True Positive Rate')\n",
    "plt.title('ROC Curve')\n",
    "plt.legend()\n",
    "plt.show()  \n"
   ]
  },
  {
   "cell_type": "code",
   "execution_count": 125,
   "metadata": {},
   "outputs": [
    {
     "data": {
      "image/png": "[encoded data removed]",
      "text/plain": [
       "<Figure size 640x480 with 2 Axes>"
      ]
     },
     "metadata": {},
     "output_type": "display_data"
    }
   ],
   "source": [
    "# add confusion matrix use y_test_pred_prob > 0.6\n",
    "from sklearn.metrics import confusion_matrix\n",
    "import seaborn as sns\n",
    "import matplotlib.pyplot as plt\n",
    "%matplotlib inline\n",
    "\n",
    "# Create confusion matrix\n",
    "cm = confusion_matrix(y_test, y_test_pred_prob > 0.6)\n",
    "cm = cm.astype('float') / cm.sum(axis=1)[:, np.newaxis]\n",
    "\n",
    "# Create heatmap\n",
    "sns.heatmap(cm, annot=True, cmap='Blues')\n",
    "plt.title('Confusion Matrix')\n",
    "plt.ylabel('True label')\n",
    "plt.xlabel('Predicted label')\n",
    "plt.show()"
   ]
  },
  {
   "cell_type": "code",
   "execution_count": 46,
   "metadata": {},
   "outputs": [
    {
     "name": "stdout",
     "output_type": "stream",
     "text": [
      "             Feature  Importance\n",
      "6     vaep_offensive    0.431755\n",
      "2   distance_to_goal    0.145503\n",
      "3      angle_to_goal    0.140101\n",
      "1   score_difference    0.084030\n",
      "0            minutes    0.077353\n",
      "4  foul_count_player    0.061908\n",
      "5    foul_count_team    0.059351\n"
     ]
    }
   ],
   "source": [
    "# Get feature importances from the trained XGBoost model\n",
    "feature_importances = model.feature_importances_\n",
    "\n",
    "# Create a DataFrame to display feature names and their importances\n",
    "feature_importance_df = pd.DataFrame({'Feature': X.columns, 'Importance': feature_importances})\n",
    "\n",
    "# Sort the features by importance in descending order\n",
    "feature_importance_df = feature_importance_df.sort_values(by='Importance', ascending=False)\n",
    "\n",
    "# Print or display the feature importance results\n",
    "print(feature_importance_df)\n"
   ]
  },
  {
   "cell_type": "code",
   "execution_count": 47,
   "metadata": {},
   "outputs": [
    {
     "data": {
      "text/plain": [
       " 0     11307\n",
       "-1      5547\n",
       "-2      1997\n",
       "-3       559\n",
       "-4       150\n",
       "-5        46\n",
       "-6        27\n",
       " 1        19\n",
       " 2         4\n",
       "-7         4\n",
       "-8         3\n",
       "-10        1\n",
       "Name: score_difference, dtype: int64"
      ]
     },
     "execution_count": 47,
     "metadata": {},
     "output_type": "execute_result"
    }
   ],
   "source": [
    "features_with_label_df['score_difference'].value_counts()"
   ]
  },
  {
   "cell_type": "code",
   "execution_count": null,
   "metadata": {},
   "outputs": [],
   "source": []
  }
 ],
 "metadata": {
  "kernelspec": {
   "display_name": "dlassign",
   "language": "python",
   "name": "python3"
  },
  "language_info": {
   "codemirror_mode": {
    "name": "ipython",
    "version": 3
   },
   "file_extension": ".py",
   "mimetype": "text/x-python",
   "name": "python",
   "nbconvert_exporter": "python",
   "pygments_lexer": "ipython3",
   "version": "3.9.7"
  },
  "orig_nbformat": 4
 },
 "nbformat": 4,
 "nbformat_minor": 2
}
