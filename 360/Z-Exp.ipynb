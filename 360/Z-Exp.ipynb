{
 "cells": [
  {
   "cell_type": "code",
   "execution_count": 2,
   "metadata": {},
   "outputs": [],
   "source": [
    "# load all_fouls_advanced pickle file\n",
    "\n",
    "import pickle\n",
    "import pandas as pd\n",
    "\n",
    "with open('all_fouls_advanced.pkl', 'rb') as handle:\n",
    "    all_fouls_advanced = pickle.load(handle)"
   ]
  },
  {
   "cell_type": "code",
   "execution_count": 3,
   "metadata": {},
   "outputs": [
    {
     "data": {
      "text/plain": [
       "1684"
      ]
     },
     "execution_count": 3,
     "metadata": {},
     "output_type": "execute_result"
    }
   ],
   "source": [
    "len(all_fouls_advanced)"
   ]
  },
  {
   "cell_type": "code",
   "execution_count": 4,
   "metadata": {},
   "outputs": [
    {
     "data": {
      "text/plain": [
       "Yellow Card      574\n",
       "Red Card          13\n",
       "Second Yellow     10\n",
       "Name: foul_committed_card, dtype: int64"
      ]
     },
     "execution_count": 4,
     "metadata": {},
     "output_type": "execute_result"
    }
   ],
   "source": [
    "# value counts of foul_committed_card column in all_fouls_advanced\n",
    "all_fouls_advanced['foul_committed_card'].value_counts()"
   ]
  },
  {
   "cell_type": "code",
   "execution_count": 5,
   "metadata": {},
   "outputs": [],
   "source": [
    "# load all_the_features pickle file\n",
    "with open('all_the_features.pkl', 'rb') as handle:\n",
    "    all_the_features = pickle.load(handle)"
   ]
  },
  {
   "cell_type": "code",
   "execution_count": 6,
   "metadata": {},
   "outputs": [
    {
     "data": {
      "text/plain": [
       "[14,\n",
       " 0,\n",
       " 37.96840792026972,\n",
       " 1.2823667682765016,\n",
       " 1,\n",
       " 1,\n",
       " '9221da02-9c87-4f98-a8ea-de9994ad562b']"
      ]
     },
     "execution_count": 6,
     "metadata": {},
     "output_type": "execute_result"
    }
   ],
   "source": [
    "all_the_features[0]"
   ]
  },
  {
   "cell_type": "code",
   "execution_count": 8,
   "metadata": {},
   "outputs": [
    {
     "data": {
      "text/html": [
       "<div>\n",
       "<style scoped>\n",
       "    .dataframe tbody tr th:only-of-type {\n",
       "        vertical-align: middle;\n",
       "    }\n",
       "\n",
       "    .dataframe tbody tr th {\n",
       "        vertical-align: top;\n",
       "    }\n",
       "\n",
       "    .dataframe thead th {\n",
       "        text-align: right;\n",
       "    }\n",
       "</style>\n",
       "<table border=\"1\" class=\"dataframe\">\n",
       "  <thead>\n",
       "    <tr style=\"text-align: right;\">\n",
       "      <th></th>\n",
       "      <th>foul_committed_advantage</th>\n",
       "      <th>foul_committed_offensive</th>\n",
       "      <th>foul_committed_penalty</th>\n",
       "      <th>foul_committed_card</th>\n",
       "      <th>foul_committed_counterpress</th>\n",
       "      <th>foul_committed_type</th>\n",
       "      <th>foul_won_advantage</th>\n",
       "      <th>foul_won_defensive</th>\n",
       "      <th>foul_won_penalty</th>\n",
       "      <th>id</th>\n",
       "      <th>...</th>\n",
       "      <th>team</th>\n",
       "      <th>team_id</th>\n",
       "      <th>timestamp</th>\n",
       "      <th>type</th>\n",
       "      <th>seconds_till_now</th>\n",
       "      <th>scoreline_till_now</th>\n",
       "      <th>distance_to_goal</th>\n",
       "      <th>angle_to_goal</th>\n",
       "      <th>foul_count_player_till_now</th>\n",
       "      <th>foul_count_team_till_now</th>\n",
       "    </tr>\n",
       "  </thead>\n",
       "  <tbody>\n",
       "    <tr>\n",
       "      <th>0</th>\n",
       "      <td>NaN</td>\n",
       "      <td>NaN</td>\n",
       "      <td>NaN</td>\n",
       "      <td>Yellow Card</td>\n",
       "      <td>NaN</td>\n",
       "      <td>NaN</td>\n",
       "      <td>NaN</td>\n",
       "      <td>NaN</td>\n",
       "      <td>NaN</td>\n",
       "      <td>9221da02-9c87-4f98-a8ea-de9994ad562b</td>\n",
       "      <td>...</td>\n",
       "      <td>Switzerland</td>\n",
       "      <td>773</td>\n",
       "      <td>00:14:27.221</td>\n",
       "      <td>Foul Committed</td>\n",
       "      <td>867</td>\n",
       "      <td>{'Serbia': 0, 'Switzerland': 0, 'Argentina': 0...</td>\n",
       "      <td>37.968408</td>\n",
       "      <td>1.282367</td>\n",
       "      <td>1</td>\n",
       "      <td>1</td>\n",
       "    </tr>\n",
       "  </tbody>\n",
       "</table>\n",
       "<p>1 rows × 32 columns</p>\n",
       "</div>"
      ],
      "text/plain": [
       "  foul_committed_advantage foul_committed_offensive foul_committed_penalty  \\\n",
       "0                      NaN                      NaN                    NaN   \n",
       "\n",
       "  foul_committed_card  foul_committed_counterpress foul_committed_type  \\\n",
       "0         Yellow Card                          NaN                 NaN   \n",
       "\n",
       "  foul_won_advantage foul_won_defensive foul_won_penalty  \\\n",
       "0                NaN                NaN              NaN   \n",
       "\n",
       "                                     id  ...         team team_id  \\\n",
       "0  9221da02-9c87-4f98-a8ea-de9994ad562b  ...  Switzerland     773   \n",
       "\n",
       "      timestamp            type  seconds_till_now  \\\n",
       "0  00:14:27.221  Foul Committed               867   \n",
       "\n",
       "                                  scoreline_till_now distance_to_goal  \\\n",
       "0  {'Serbia': 0, 'Switzerland': 0, 'Argentina': 0...        37.968408   \n",
       "\n",
       "   angle_to_goal foul_count_player_till_now  foul_count_team_till_now  \n",
       "0       1.282367                          1                         1  \n",
       "\n",
       "[1 rows x 32 columns]"
      ]
     },
     "execution_count": 8,
     "metadata": {},
     "output_type": "execute_result"
    }
   ],
   "source": [
    "all_fouls_advanced.head(1)"
   ]
  },
  {
   "cell_type": "code",
   "execution_count": null,
   "metadata": {},
   "outputs": [],
   "source": []
  },
  {
   "cell_type": "code",
   "execution_count": 12,
   "metadata": {},
   "outputs": [
    {
     "data": {
      "text/html": [
       "<div>\n",
       "<style scoped>\n",
       "    .dataframe tbody tr th:only-of-type {\n",
       "        vertical-align: middle;\n",
       "    }\n",
       "\n",
       "    .dataframe tbody tr th {\n",
       "        vertical-align: top;\n",
       "    }\n",
       "\n",
       "    .dataframe thead th {\n",
       "        text-align: right;\n",
       "    }\n",
       "</style>\n",
       "<table border=\"1\" class=\"dataframe\">\n",
       "  <thead>\n",
       "    <tr style=\"text-align: right;\">\n",
       "      <th></th>\n",
       "      <th>minutes</th>\n",
       "      <th>score_difference</th>\n",
       "      <th>distance_to_goal</th>\n",
       "      <th>angle_to_goal</th>\n",
       "      <th>foul_count_player</th>\n",
       "      <th>foul_count_team</th>\n",
       "      <th>vaep_offensive</th>\n",
       "      <th>label</th>\n",
       "    </tr>\n",
       "    <tr>\n",
       "      <th>id</th>\n",
       "      <th></th>\n",
       "      <th></th>\n",
       "      <th></th>\n",
       "      <th></th>\n",
       "      <th></th>\n",
       "      <th></th>\n",
       "      <th></th>\n",
       "      <th></th>\n",
       "    </tr>\n",
       "  </thead>\n",
       "  <tbody>\n",
       "    <tr>\n",
       "      <th>9221da02-9c87-4f98-a8ea-de9994ad562b</th>\n",
       "      <td>14</td>\n",
       "      <td>0</td>\n",
       "      <td>37.968408</td>\n",
       "      <td>1.282367</td>\n",
       "      <td>1</td>\n",
       "      <td>1</td>\n",
       "      <td>-0.000196</td>\n",
       "      <td>1</td>\n",
       "    </tr>\n",
       "    <tr>\n",
       "      <th>f2bd21f6-87c3-44c0-bb37-04e996db413e</th>\n",
       "      <td>23</td>\n",
       "      <td>1</td>\n",
       "      <td>65.011153</td>\n",
       "      <td>0.058485</td>\n",
       "      <td>1</td>\n",
       "      <td>1</td>\n",
       "      <td>-0.001102</td>\n",
       "      <td>0</td>\n",
       "    </tr>\n",
       "    <tr>\n",
       "      <th>8e51baec-6948-4285-86a1-73197126e265</th>\n",
       "      <td>33</td>\n",
       "      <td>0</td>\n",
       "      <td>69.641654</td>\n",
       "      <td>-0.306311</td>\n",
       "      <td>1</td>\n",
       "      <td>2</td>\n",
       "      <td>-0.001255</td>\n",
       "      <td>1</td>\n",
       "    </tr>\n",
       "    <tr>\n",
       "      <th>b711f529-182e-4ae3-8c9a-189b7697b2ea</th>\n",
       "      <td>46</td>\n",
       "      <td>0</td>\n",
       "      <td>52.106142</td>\n",
       "      <td>-0.264064</td>\n",
       "      <td>1</td>\n",
       "      <td>2</td>\n",
       "      <td>-0.000879</td>\n",
       "      <td>1</td>\n",
       "    </tr>\n",
       "    <tr>\n",
       "      <th>ec46c71c-af4c-4d99-a854-e4ffc30460d6</th>\n",
       "      <td>55</td>\n",
       "      <td>1</td>\n",
       "      <td>42.569942</td>\n",
       "      <td>0.554117</td>\n",
       "      <td>1</td>\n",
       "      <td>3</td>\n",
       "      <td>-0.016189</td>\n",
       "      <td>1</td>\n",
       "    </tr>\n",
       "  </tbody>\n",
       "</table>\n",
       "</div>"
      ],
      "text/plain": [
       "                                      minutes  score_difference  \\\n",
       "id                                                                \n",
       "9221da02-9c87-4f98-a8ea-de9994ad562b       14                 0   \n",
       "f2bd21f6-87c3-44c0-bb37-04e996db413e       23                 1   \n",
       "8e51baec-6948-4285-86a1-73197126e265       33                 0   \n",
       "b711f529-182e-4ae3-8c9a-189b7697b2ea       46                 0   \n",
       "ec46c71c-af4c-4d99-a854-e4ffc30460d6       55                 1   \n",
       "\n",
       "                                      distance_to_goal  angle_to_goal  \\\n",
       "id                                                                      \n",
       "9221da02-9c87-4f98-a8ea-de9994ad562b         37.968408       1.282367   \n",
       "f2bd21f6-87c3-44c0-bb37-04e996db413e         65.011153       0.058485   \n",
       "8e51baec-6948-4285-86a1-73197126e265         69.641654      -0.306311   \n",
       "b711f529-182e-4ae3-8c9a-189b7697b2ea         52.106142      -0.264064   \n",
       "ec46c71c-af4c-4d99-a854-e4ffc30460d6         42.569942       0.554117   \n",
       "\n",
       "                                      foul_count_player  foul_count_team  \\\n",
       "id                                                                         \n",
       "9221da02-9c87-4f98-a8ea-de9994ad562b                  1                1   \n",
       "f2bd21f6-87c3-44c0-bb37-04e996db413e                  1                1   \n",
       "8e51baec-6948-4285-86a1-73197126e265                  1                2   \n",
       "b711f529-182e-4ae3-8c9a-189b7697b2ea                  1                2   \n",
       "ec46c71c-af4c-4d99-a854-e4ffc30460d6                  1                3   \n",
       "\n",
       "                                      vaep_offensive  label  \n",
       "id                                                           \n",
       "9221da02-9c87-4f98-a8ea-de9994ad562b       -0.000196      1  \n",
       "f2bd21f6-87c3-44c0-bb37-04e996db413e       -0.001102      0  \n",
       "8e51baec-6948-4285-86a1-73197126e265       -0.001255      1  \n",
       "b711f529-182e-4ae3-8c9a-189b7697b2ea       -0.000879      1  \n",
       "ec46c71c-af4c-4d99-a854-e4ffc30460d6       -0.016189      1  "
      ]
     },
     "execution_count": 12,
     "metadata": {},
     "output_type": "execute_result"
    }
   ],
   "source": [
    "import pickle\n",
    "import pandas as pd\n",
    "\n",
    "with open('features_with_label_df.pkl', 'rb') as handle:\n",
    "    features_with_labels = pickle.load(handle)\n",
    "\n",
    "features_with_labels.head()"
   ]
  },
  {
   "cell_type": "code",
   "execution_count": 14,
   "metadata": {},
   "outputs": [
    {
     "data": {
      "image/png": "[encoded data removed]",
      "text/plain": [
       "<Figure size 640x480 with 1 Axes>"
      ]
     },
     "metadata": {},
     "output_type": "display_data"
    }
   ],
   "source": [
    "# plot minutes and label 1 in bar chart with interval of 10 minutes\n",
    "import matplotlib.pyplot as plt\n",
    "import numpy as np\n",
    "\n",
    "minutes = features_with_labels['minutes']\n",
    "labels = features_with_labels['label']\n",
    "\n",
    "plt.hist(minutes[labels == 1], bins = np.arange(0, 100, 10))\n",
    "plt.show()\n",
    "\n"
   ]
  },
  {
   "cell_type": "code",
   "execution_count": 15,
   "metadata": {},
   "outputs": [
    {
     "data": {
      "image/png": "[encoded data removed]",
      "text/plain": [
       "<Figure size 640x480 with 1 Axes>"
      ]
     },
     "metadata": {},
     "output_type": "display_data"
    }
   ],
   "source": [
    "# plot distance_to_goal and label 1 in bar chart\n",
    "import matplotlib.pyplot as plt\n",
    "import numpy as np\n",
    "\n",
    "distance_to_goal = features_with_labels['distance_to_goal']\n",
    "labels = features_with_labels['label']\n",
    "\n",
    "plt.hist(distance_to_goal[labels == 1], bins = np.arange(0, 100, 10))\n",
    "plt.show()\n",
    "\n"
   ]
  },
  {
   "cell_type": "code",
   "execution_count": 17,
   "metadata": {},
   "outputs": [
    {
     "data": {
      "image/png": "[encoded data removed]",
      "text/plain": [
       "<Figure size 640x480 with 1 Axes>"
      ]
     },
     "metadata": {},
     "output_type": "display_data"
    }
   ],
   "source": [
    "# show distance to goal and label 1 value_counts in bins\n",
    "import matplotlib.pyplot as plt\n",
    "import numpy as np\n",
    "\n",
    "distance_to_goal = features_with_labels['distance_to_goal']\n",
    "labels = features_with_labels['label']\n",
    "\n",
    "plt.hist(distance_to_goal[labels == 0], bins = np.arange(0, 100, 10))\n",
    "plt.show()"
   ]
  },
  {
   "cell_type": "code",
   "execution_count": 18,
   "metadata": {},
   "outputs": [
    {
     "data": {
      "image/png": "[encoded data removed]",
      "text/plain": [
       "<Figure size 640x480 with 1 Axes>"
      ]
     },
     "metadata": {},
     "output_type": "display_data"
    }
   ],
   "source": [
    "# show distance to goal and label 1 value_counts in bins\n",
    "import matplotlib.pyplot as plt\n",
    "import numpy as np\n",
    "\n",
    "distance_to_goal = features_with_labels['distance_to_goal']\n",
    "labels = features_with_labels['label']\n",
    "\n",
    "plt.hist(distance_to_goal[labels == 1], bins = np.arange(0, 100, 10))\n",
    "plt.show()"
   ]
  },
  {
   "cell_type": "code",
   "execution_count": 21,
   "metadata": {},
   "outputs": [
    {
     "data": {
      "text/plain": [
       "count    1322.000000\n",
       "mean       63.619892\n",
       "std        23.386890\n",
       "min         7.683749\n",
       "25%        46.493518\n",
       "50%        63.844926\n",
       "75%        79.734873\n",
       "max       121.233700\n",
       "Name: distance_to_goal, dtype: float64"
      ]
     },
     "execution_count": 21,
     "metadata": {},
     "output_type": "execute_result"
    }
   ],
   "source": [
    "# describe column distance_to_goal where label is 1\n",
    "features_with_labels['distance_to_goal'].describe()"
   ]
  },
  {
   "cell_type": "code",
   "execution_count": 22,
   "metadata": {},
   "outputs": [
    {
     "data": {
      "text/plain": [
       "count    559.000000\n",
       "mean      64.407139\n",
       "std       24.175936\n",
       "min        8.814193\n",
       "25%       44.504326\n",
       "50%       65.645487\n",
       "75%       81.792672\n",
       "max      121.233700\n",
       "Name: distance_to_goal, dtype: float64"
      ]
     },
     "execution_count": 22,
     "metadata": {},
     "output_type": "execute_result"
    }
   ],
   "source": [
    "# describe column distance_to_goal where label is 1\n",
    "features_with_labels[features_with_labels['label'] == 1]['distance_to_goal'].describe()"
   ]
  },
  {
   "cell_type": "code",
   "execution_count": 23,
   "metadata": {},
   "outputs": [
    {
     "data": {
      "text/plain": [
       "count    763.000000\n",
       "mean      63.043127\n",
       "std       22.790231\n",
       "min        7.683749\n",
       "25%       48.358450\n",
       "50%       62.832476\n",
       "75%       78.262829\n",
       "max      118.481940\n",
       "Name: distance_to_goal, dtype: float64"
      ]
     },
     "execution_count": 23,
     "metadata": {},
     "output_type": "execute_result"
    }
   ],
   "source": [
    "# describe column distance_to_goal where label is 1\n",
    "features_with_labels[features_with_labels['label'] == 0]['distance_to_goal'].describe()"
   ]
  },
  {
   "cell_type": "code",
   "execution_count": null,
   "metadata": {},
   "outputs": [],
   "source": []
  }
 ],
 "metadata": {
  "kernelspec": {
   "display_name": "dlassign",
   "language": "python",
   "name": "python3"
  },
  "language_info": {
   "codemirror_mode": {
    "name": "ipython",
    "version": 3
   },
   "file_extension": ".py",
   "mimetype": "text/x-python",
   "name": "python",
   "nbconvert_exporter": "python",
   "pygments_lexer": "ipython3",
   "version": "3.9.7"
  },
  "orig_nbformat": 4
 },
 "nbformat": 4,
 "nbformat_minor": 2
}
