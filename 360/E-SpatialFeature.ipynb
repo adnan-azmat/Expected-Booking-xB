{
 "cells": [
  {
   "cell_type": "code",
   "execution_count": 4,
   "metadata": {},
   "outputs": [],
   "source": [
    "import pandas as pd\n",
    "import pickle\n",
    "\n",
    "with open('cmps.pkl', 'rb') as f:\n",
    "    cmps = pickle.load(f)"
   ]
  },
  {
   "cell_type": "code",
   "execution_count": 20,
   "metadata": {},
   "outputs": [],
   "source": [
    "# three_sixty_path = \"/home/msai/adnan002/data/open-data/data/three-sixty/\"\n",
    "\n",
    "# def get_360_data(match_id):\n",
    "#     match_360_df = pd.read_json(three_sixty_path + '{}.json'.format(match_id))\n",
    "#     match_360_df['match_id'] = match_id\n",
    "#     return match_360_df"
   ]
  },
  {
   "cell_type": "code",
   "execution_count": 3,
   "metadata": {},
   "outputs": [],
   "source": [
    "# all_360 = pd.DataFrame()\n",
    "\n",
    "# for i, cmp in cmps.iterrows():\n",
    "#     for match_id in cmp[\"match_ids\"]:\n",
    "#         # use pandas.concat to add df rows to all_360\n",
    "#         try:\n",
    "#             all_360 = pd.concat([all_360, get_360_data(match_id)])\n",
    "#         except:\n",
    "#             print(\"Error with match_id: {}\".format(match_id))\n",
    "#             continue"
   ]
  },
  {
   "cell_type": "code",
   "execution_count": 4,
   "metadata": {},
   "outputs": [],
   "source": [
    "# # set event_uuid as index\n",
    "# all_360.set_index('event_uuid', inplace=True)"
   ]
  },
  {
   "cell_type": "code",
   "execution_count": 5,
   "metadata": {},
   "outputs": [],
   "source": [
    "# # save all_360 to pickle\n",
    "# all_360.to_pickle('all_360.pkl')"
   ]
  },
  {
   "cell_type": "code",
   "execution_count": 5,
   "metadata": {},
   "outputs": [
    {
     "data": {
      "text/plain": [
       "663646"
      ]
     },
     "execution_count": 5,
     "metadata": {},
     "output_type": "execute_result"
    }
   ],
   "source": [
    "# load all_360 from pickle\n",
    "all_360 = pd.read_pickle('all_360.pkl')\n",
    "len(all_360)"
   ]
  },
  {
   "cell_type": "code",
   "execution_count": null,
   "metadata": {},
   "outputs": [],
   "source": []
  },
  {
   "cell_type": "code",
   "execution_count": null,
   "metadata": {},
   "outputs": [],
   "source": []
  },
  {
   "cell_type": "code",
   "execution_count": 6,
   "metadata": {},
   "outputs": [],
   "source": [
    "# load features_with_label_df.pkl as df\n",
    "with open('features_with_label_df.pkl', 'rb') as f:\n",
    "    features_with_label_df = pickle.load(f)\n",
    "\n",
    "ids = []\n",
    "# print all match_id features_with_label_df\n",
    "for i in features_with_label_df.index:\n",
    "    if i not in all_360.index:\n",
    "        ids.append(i)\n",
    "\n",
    "# remove features_with_label_df rows with ids\n",
    "features_with_label_df.drop(ids, inplace=True)"
   ]
  },
  {
   "cell_type": "code",
   "execution_count": 7,
   "metadata": {},
   "outputs": [
    {
     "data": {
      "text/plain": [
       "957"
      ]
     },
     "execution_count": 7,
     "metadata": {},
     "output_type": "execute_result"
    }
   ],
   "source": [
    "len(features_with_label_df)"
   ]
  },
  {
   "cell_type": "code",
   "execution_count": 8,
   "metadata": {},
   "outputs": [],
   "source": [
    "# Add the 'freeze_frame' column from all_360 to features_with_label_df\n",
    "features_with_label_df['freeze_frame'] = all_360['freeze_frame']\n",
    "features_with_label_df['match_id'] = all_360['match_id']"
   ]
  },
  {
   "cell_type": "code",
   "execution_count": 9,
   "metadata": {},
   "outputs": [
    {
     "data": {
      "text/plain": [
       "957"
      ]
     },
     "execution_count": 9,
     "metadata": {},
     "output_type": "execute_result"
    }
   ],
   "source": [
    "len(features_with_label_df)"
   ]
  },
  {
   "cell_type": "code",
   "execution_count": 10,
   "metadata": {},
   "outputs": [],
   "source": [
    "import numpy as np\n",
    "\n",
    "def get_vertical_range(fouler_pos, dist_to_goal):\n",
    "    x = fouler_pos[0]\n",
    "    y = fouler_pos[1]\n",
    "\n",
    "    range1 = [x, 120]\n",
    "    range2 = [0, x]\n",
    "\n",
    "    # calculate distance between foulder_pos and [120, 40]\n",
    "    dist1 = np.linalg.norm(np.array([120, 40]) - np.array(fouler_pos))\n",
    "    dist2 = np.linalg.norm(np.array([0, 40]) - np.array(fouler_pos))\n",
    "\n",
    "    diff1 = abs(dist1 - dist_to_goal)\n",
    "    diff2 = abs(dist2 - dist_to_goal)\n",
    "\n",
    "    # find whether dist1 or dist2 matches dist_to_goal. a error of 0.25 is allowed.\n",
    "    if diff1 < 0.0025:\n",
    "        return range1\n",
    "    elif diff2 < 0.0025:\n",
    "        return range2\n",
    "    else:\n",
    "        if diff1 < diff2:\n",
    "            return range1\n",
    "        else:\n",
    "            return range2"
   ]
  },
  {
   "cell_type": "code",
   "execution_count": 11,
   "metadata": {},
   "outputs": [],
   "source": [
    "# add column 'vertical_range' to features_with_label_df\n",
    "features_with_label_df['vertical_range'] = None\n",
    "\n",
    "for i, row in features_with_label_df.iterrows():\n",
    "    for player in row['freeze_frame']:\n",
    "        if player['actor'] == True:\n",
    "            fouler_pos = player['location']\n",
    "            \n",
    "    dist_to_goal = row['distance_to_goal']\n",
    "    rangeee = get_vertical_range(fouler_pos, dist_to_goal)\n",
    "\n",
    "    # add rangeee to features_with_label_df\n",
    "    features_with_label_df.at[i, 'vertical_range'] = rangeee"
   ]
  },
  {
   "cell_type": "code",
   "execution_count": 12,
   "metadata": {},
   "outputs": [],
   "source": [
    "def get_teammate_opponent_count(row, rangee):\n",
    "    try:\n",
    "        range_start = rangee[0]\n",
    "        range_end = rangee[1]\n",
    "    except:\n",
    "        print (\"error!!\")\n",
    "        print (row)\n",
    "        print (rangee)\n",
    "    \n",
    "    teammate_count = 0\n",
    "    opponent_count = 0\n",
    "\n",
    "    keeper_visible = 0\n",
    "\n",
    "    for player in row['freeze_frame']:\n",
    "        if player['teammate']:\n",
    "            if not player['keeper']:\n",
    "                if not player['actor']:\n",
    "                    if range_start <= player['location'][0] <= range_end:\n",
    "                        teammate_count += 1\n",
    "            else:\n",
    "                keeper_visible = 1\n",
    "        else:\n",
    "            if not player['keeper']:\n",
    "                if not player['actor']:\n",
    "                    if range_start <= player['location'][0] <= range_end:\n",
    "                        opponent_count += 1\n",
    "\n",
    "    return teammate_count, opponent_count, keeper_visible\n"
   ]
  },
  {
   "cell_type": "code",
   "execution_count": 13,
   "metadata": {},
   "outputs": [],
   "source": [
    "# add column 'teammate_count' and 'opponent_count' to features_with_label_df using get_teammate_opponent_count()\n",
    "features_with_label_df['teammate_count'] = None\n",
    "features_with_label_df['opponent_count'] = None\n",
    "features_with_label_df['keeper_visible'] = None\n",
    "\n",
    "for i, row in features_with_label_df.iterrows():\n",
    "    rangee = row['vertical_range']\n",
    "    teammate_count, opponent_count, keeper_visible = get_teammate_opponent_count(row, rangee)\n",
    "\n",
    "    # add teammate_count and opponent_count to features_with_label_df\n",
    "    features_with_label_df.at[i, 'teammate_count'] = teammate_count\n",
    "    features_with_label_df.at[i, 'opponent_count'] = opponent_count\n",
    "    features_with_label_df.at[i, 'keeper_visible'] = keeper_visible"
   ]
  },
  {
   "cell_type": "code",
   "execution_count": 164,
   "metadata": {},
   "outputs": [],
   "source": []
  },
  {
   "cell_type": "code",
   "execution_count": 14,
   "metadata": {},
   "outputs": [],
   "source": [
    "# make columns teammate_count and opponent_count numeric\n",
    "features_with_label_df['teammate_count'] = pd.to_numeric(features_with_label_df['teammate_count'])\n",
    "features_with_label_df['opponent_count'] = pd.to_numeric(features_with_label_df['opponent_count'])\n",
    "features_with_label_df['keeper_visible'] = pd.to_numeric(features_with_label_df['keeper_visible'])"
   ]
  },
  {
   "cell_type": "code",
   "execution_count": 15,
   "metadata": {},
   "outputs": [],
   "source": [
    "# save features_with_label_df to pickle\n",
    "features_with_label_df.to_pickle('features_with_label_df_with_counter.pkl')"
   ]
  },
  {
   "cell_type": "code",
   "execution_count": null,
   "metadata": {},
   "outputs": [],
   "source": []
  }
 ],
 "metadata": {
  "kernelspec": {
   "display_name": "dlassign",
   "language": "python",
   "name": "python3"
  },
  "language_info": {
   "codemirror_mode": {
    "name": "ipython",
    "version": 3
   },
   "file_extension": ".py",
   "mimetype": "text/x-python",
   "name": "python",
   "nbconvert_exporter": "python",
   "pygments_lexer": "ipython3",
   "version": "3.9.7"
  },
  "orig_nbformat": 4
 },
 "nbformat": 4,
 "nbformat_minor": 2
}
