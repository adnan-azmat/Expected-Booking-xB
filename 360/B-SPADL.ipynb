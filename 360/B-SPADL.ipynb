{
 "cells": [
  {
   "cell_type": "code",
   "execution_count": 1,
   "metadata": {},
   "outputs": [],
   "source": [
    "import os\n",
    "import warnings\n",
    "import pandas as pd\n",
    "pd.set_option('display.max_columns', None)\n",
    "warnings.simplefilter(action='ignore', category=pd.errors.PerformanceWarning)\n",
    "warnings.filterwarnings(action=\"ignore\", message=\"credentials were not supplied. open data access only\")\n",
    "import tqdm"
   ]
  },
  {
   "cell_type": "code",
   "execution_count": 2,
   "metadata": {},
   "outputs": [],
   "source": [
    "%load_ext autoreload\n",
    "%autoreload 2\n",
    "from socceraction.data.statsbomb import StatsBombLoader\n",
    "import socceraction.spadl as spadl"
   ]
  },
  {
   "cell_type": "code",
   "execution_count": 3,
   "metadata": {},
   "outputs": [],
   "source": [
    "SBL = StatsBombLoader(getter=\"remote\", creds={\"user\": None, \"passwd\": None})"
   ]
  },
  {
   "cell_type": "code",
   "execution_count": 4,
   "metadata": {},
   "outputs": [
    {
     "data": {
      "text/html": [
       "<div>\n",
       "<style scoped>\n",
       "    .dataframe tbody tr th:only-of-type {\n",
       "        vertical-align: middle;\n",
       "    }\n",
       "\n",
       "    .dataframe tbody tr th {\n",
       "        vertical-align: top;\n",
       "    }\n",
       "\n",
       "    .dataframe thead th {\n",
       "        text-align: right;\n",
       "    }\n",
       "</style>\n",
       "<table border=\"1\" class=\"dataframe\">\n",
       "  <thead>\n",
       "    <tr style=\"text-align: right;\">\n",
       "      <th></th>\n",
       "      <th>season_id</th>\n",
       "      <th>competition_id</th>\n",
       "      <th>competition_name</th>\n",
       "      <th>country_name</th>\n",
       "      <th>competition_gender</th>\n",
       "      <th>season_name</th>\n",
       "    </tr>\n",
       "  </thead>\n",
       "  <tbody>\n",
       "    <tr>\n",
       "      <th>26</th>\n",
       "      <td>106</td>\n",
       "      <td>43</td>\n",
       "      <td>FIFA World Cup</td>\n",
       "      <td>International</td>\n",
       "      <td>male</td>\n",
       "      <td>2022</td>\n",
       "    </tr>\n",
       "    <tr>\n",
       "      <th>62</th>\n",
       "      <td>43</td>\n",
       "      <td>55</td>\n",
       "      <td>UEFA Euro</td>\n",
       "      <td>Europe</td>\n",
       "      <td>male</td>\n",
       "      <td>2020</td>\n",
       "    </tr>\n",
       "    <tr>\n",
       "      <th>64</th>\n",
       "      <td>106</td>\n",
       "      <td>53</td>\n",
       "      <td>UEFA Women's Euro</td>\n",
       "      <td>Europe</td>\n",
       "      <td>female</td>\n",
       "      <td>2022</td>\n",
       "    </tr>\n",
       "    <tr>\n",
       "      <th>65</th>\n",
       "      <td>107</td>\n",
       "      <td>72</td>\n",
       "      <td>Women's World Cup</td>\n",
       "      <td>International</td>\n",
       "      <td>female</td>\n",
       "      <td>2023</td>\n",
       "    </tr>\n",
       "  </tbody>\n",
       "</table>\n",
       "</div>"
      ],
      "text/plain": [
       "    season_id  competition_id   competition_name   country_name  \\\n",
       "26        106              43     FIFA World Cup  International   \n",
       "62         43              55          UEFA Euro         Europe   \n",
       "64        106              53  UEFA Women's Euro         Europe   \n",
       "65        107              72  Women's World Cup  International   \n",
       "\n",
       "   competition_gender season_name  \n",
       "26               male        2022  \n",
       "62               male        2020  \n",
       "64             female        2022  \n",
       "65             female        2023  "
      ]
     },
     "execution_count": 4,
     "metadata": {},
     "output_type": "execute_result"
    }
   ],
   "source": [
    "competitions2 = SBL.competitions()\n",
    "selected_competitions = competitions2[(competitions2.competition_id == 43) & (competitions2.season_id == 106) |\n",
    "                                        (competitions2.competition_id == 55) & (competitions2.season_id == 43) |\n",
    "                                        (competitions2.competition_id == 53) & (competitions2.season_id == 106) |\n",
    "                                        (competitions2.competition_id == 72) & (competitions2.season_id == 107)]\n",
    "\n",
    "\n",
    "selected_competitions.head(10)"
   ]
  },
  {
   "cell_type": "code",
   "execution_count": 5,
   "metadata": {},
   "outputs": [],
   "source": [
    "# Get games from all selected competitions\n",
    "games = pd.concat([\n",
    "    SBL.games(row.competition_id, row.season_id)\n",
    "    for row in selected_competitions.itertuples()\n",
    "])"
   ]
  },
  {
   "cell_type": "code",
   "execution_count": 6,
   "metadata": {},
   "outputs": [
    {
     "data": {
      "text/html": [
       "<div>\n",
       "<style scoped>\n",
       "    .dataframe tbody tr th:only-of-type {\n",
       "        vertical-align: middle;\n",
       "    }\n",
       "\n",
       "    .dataframe tbody tr th {\n",
       "        vertical-align: top;\n",
       "    }\n",
       "\n",
       "    .dataframe thead th {\n",
       "        text-align: right;\n",
       "    }\n",
       "</style>\n",
       "<table border=\"1\" class=\"dataframe\">\n",
       "  <thead>\n",
       "    <tr style=\"text-align: right;\">\n",
       "      <th></th>\n",
       "      <th>game_id</th>\n",
       "      <th>season_id</th>\n",
       "      <th>competition_id</th>\n",
       "      <th>competition_stage</th>\n",
       "      <th>game_day</th>\n",
       "      <th>game_date</th>\n",
       "      <th>home_team_id</th>\n",
       "      <th>away_team_id</th>\n",
       "      <th>home_score</th>\n",
       "      <th>away_score</th>\n",
       "      <th>venue</th>\n",
       "      <th>referee</th>\n",
       "    </tr>\n",
       "  </thead>\n",
       "  <tbody>\n",
       "    <tr>\n",
       "      <th>0</th>\n",
       "      <td>3857256</td>\n",
       "      <td>106</td>\n",
       "      <td>43</td>\n",
       "      <td>Group Stage</td>\n",
       "      <td>3</td>\n",
       "      <td>2022-12-02 21:00:00</td>\n",
       "      <td>786</td>\n",
       "      <td>773</td>\n",
       "      <td>2</td>\n",
       "      <td>3</td>\n",
       "      <td>Stadium 974</td>\n",
       "      <td>Fernando Andrés Rapallini</td>\n",
       "    </tr>\n",
       "    <tr>\n",
       "      <th>1</th>\n",
       "      <td>3869151</td>\n",
       "      <td>106</td>\n",
       "      <td>43</td>\n",
       "      <td>Round of 16</td>\n",
       "      <td>4</td>\n",
       "      <td>2022-12-03 21:00:00</td>\n",
       "      <td>779</td>\n",
       "      <td>792</td>\n",
       "      <td>2</td>\n",
       "      <td>1</td>\n",
       "      <td>Ahmad bin Ali Stadium</td>\n",
       "      <td>Szymon Marciniak</td>\n",
       "    </tr>\n",
       "  </tbody>\n",
       "</table>\n",
       "</div>"
      ],
      "text/plain": [
       "   game_id  season_id  competition_id competition_stage  game_day  \\\n",
       "0  3857256        106              43       Group Stage         3   \n",
       "1  3869151        106              43       Round of 16         4   \n",
       "\n",
       "            game_date  home_team_id  away_team_id  home_score  away_score  \\\n",
       "0 2022-12-02 21:00:00           786           773           2           3   \n",
       "1 2022-12-03 21:00:00           779           792           2           1   \n",
       "\n",
       "                   venue                    referee  \n",
       "0            Stadium 974  Fernando Andrés Rapallini  \n",
       "1  Ahmad bin Ali Stadium           Szymon Marciniak  "
      ]
     },
     "execution_count": 6,
     "metadata": {},
     "output_type": "execute_result"
    }
   ],
   "source": [
    "games.head(2)"
   ]
  },
  {
   "cell_type": "code",
   "execution_count": 7,
   "metadata": {},
   "outputs": [
    {
     "name": "stderr",
     "output_type": "stream",
     "text": [
      "Loading game data: 100%|██████████| 210/210 [04:14<00:00,  1.21s/it]\n"
     ]
    }
   ],
   "source": [
    "games_verbose = tqdm.tqdm(list(games.itertuples()), desc=\"Loading game data\")\n",
    "teams, players = [], []\n",
    "actions = {}\n",
    "for game in games_verbose:\n",
    "    # load data\n",
    "    teams.append(SBL.teams(game.game_id))\n",
    "    players.append(SBL.players(game.game_id))\n",
    "    events = SBL.events(game.game_id)\n",
    "    # convert data\n",
    "    actions[game.game_id] = spadl.statsbomb.convert_to_actions(events, game.home_team_id)\n",
    "\n",
    "teams = pd.concat(teams).drop_duplicates(subset=\"team_id\")\n",
    "players = pd.concat(players)"
   ]
  },
  {
   "cell_type": "code",
   "execution_count": 8,
   "metadata": {},
   "outputs": [
    {
     "name": "stdout",
     "output_type": "stream",
     "text": [
      "Directory /home/msai/adnan002/repos/xB-360/data created.\n"
     ]
    }
   ],
   "source": [
    "datafolder = \"/home/msai/adnan002/repos/xB-360/data\"\n",
    "\n",
    "# Create data folder if it doesn't exist\n",
    "if not os.path.exists(datafolder):\n",
    "    os.mkdir(datafolder)\n",
    "    print(f\"Directory {datafolder} created.\")\n",
    "\n",
    "spadl_h5 = os.path.join(datafolder, \"spadl-statsbomb.h5\")\n",
    "\n",
    "# Store all spadl data in h5-file\n",
    "with pd.HDFStore(spadl_h5) as spadlstore:\n",
    "    spadlstore[\"competitions\"] = selected_competitions\n",
    "    spadlstore[\"games\"] = games\n",
    "    spadlstore[\"teams\"] = teams\n",
    "    spadlstore[\"players\"] = players[['player_id', 'player_name', 'nickname']].drop_duplicates(subset='player_id')\n",
    "    spadlstore[\"player_games\"] = players[['player_id', 'game_id', 'team_id', 'is_starter', 'starting_position_id', 'starting_position_name', 'minutes_played']]\n",
    "    for game_id in actions.keys():\n",
    "        spadlstore[f\"actions/game_{game_id}\"] = actions[game_id]"
   ]
  },
  {
   "cell_type": "code",
   "execution_count": 9,
   "metadata": {},
   "outputs": [],
   "source": [
    "features_h5 = os.path.join(datafolder, \"features.h5\")\n",
    "labels_h5 = os.path.join(datafolder, \"labels.h5\")"
   ]
  },
  {
   "cell_type": "code",
   "execution_count": 10,
   "metadata": {},
   "outputs": [
    {
     "name": "stdout",
     "output_type": "stream",
     "text": [
      "nb of games: 210\n"
     ]
    }
   ],
   "source": [
    "games = pd.read_hdf(spadl_h5, \"games\")\n",
    "print(\"nb of games:\", len(games))"
   ]
  },
  {
   "cell_type": "code",
   "execution_count": 11,
   "metadata": {},
   "outputs": [
    {
     "name": "stderr",
     "output_type": "stream",
     "text": [
      "Generating and storing features in /home/msai/adnan002/repos/xB-360/data/features.h5: 100%|██████████| 210/210 [00:34<00:00,  6.12it/s]\n"
     ]
    }
   ],
   "source": [
    "import socceraction.spadl as spadl\n",
    "import socceraction.vaep.features as fs\n",
    "import socceraction.vaep.labels as lab\n",
    "\n",
    "xfns = [\n",
    "    fs.actiontype,\n",
    "    fs.actiontype_onehot,\n",
    "    fs.bodypart,\n",
    "    fs.bodypart_onehot,\n",
    "    fs.result,\n",
    "    fs.result_onehot,\n",
    "    fs.goalscore,\n",
    "    fs.startlocation,\n",
    "    fs.endlocation,\n",
    "    fs.movement,\n",
    "    fs.space_delta,\n",
    "    fs.startpolar,\n",
    "    fs.endpolar,\n",
    "    fs.team,\n",
    "    fs.time,\n",
    "    fs.time_delta\n",
    "]\n",
    "\n",
    "for game in tqdm.tqdm(list(games.itertuples()), desc=f\"Generating and storing features in {features_h5}\"):\n",
    "    actions = pd.read_hdf(spadl_h5, f\"actions/game_{game.game_id}\")\n",
    "    gamestates = fs.gamestates(spadl.add_names(actions), 3)\n",
    "    gamestates = fs.play_left_to_right(gamestates, game.home_team_id)\n",
    "    \n",
    "    X = pd.concat([fn(gamestates) for fn in xfns], axis=1)\n",
    "    X.to_hdf(features_h5, f\"game_{game.game_id}\")"
   ]
  },
  {
   "cell_type": "code",
   "execution_count": 12,
   "metadata": {},
   "outputs": [
    {
     "name": "stderr",
     "output_type": "stream",
     "text": [
      "Computing and storing labels in /home/msai/adnan002/repos/xB-360/data/labels.h5: 100%|██████████| 210/210 [00:27<00:00,  7.63it/s]\n"
     ]
    }
   ],
   "source": [
    "yfns = [lab.scores, lab.concedes, lab.goal_from_shot]\n",
    "\n",
    "for game in tqdm.tqdm(list(games.itertuples()), desc=f\"Computing and storing labels in {labels_h5}\"):\n",
    "    actions = pd.read_hdf(spadl_h5, f\"actions/game_{game.game_id}\")   \n",
    "    Y = pd.concat([fn(spadl.add_names(actions)) for fn in yfns], axis=1)\n",
    "    Y.to_hdf(labels_h5, f\"game_{game.game_id}\")"
   ]
  },
  {
   "cell_type": "code",
   "execution_count": 13,
   "metadata": {},
   "outputs": [],
   "source": [
    "predictions_h5 = os.path.join(datafolder, \"predictions.h5\")"
   ]
  },
  {
   "cell_type": "code",
   "execution_count": 14,
   "metadata": {},
   "outputs": [
    {
     "name": "stderr",
     "output_type": "stream",
     "text": [
      "Selecting features: 100%|██████████| 210/210 [00:02<00:00, 72.82it/s]\n",
      "Selecting label: 100%|██████████| 210/210 [00:01<00:00, 153.50it/s]"
     ]
    },
    {
     "name": "stdout",
     "output_type": "stream",
     "text": [
      "X: ['type_id_a0', 'type_pass_a0', 'type_cross_a0', 'type_throw_in_a0', 'type_freekick_crossed_a0', 'type_freekick_short_a0', 'type_corner_crossed_a0', 'type_corner_short_a0', 'type_take_on_a0', 'type_foul_a0', 'type_tackle_a0', 'type_interception_a0', 'type_shot_a0', 'type_shot_penalty_a0', 'type_shot_freekick_a0', 'type_keeper_save_a0', 'type_keeper_claim_a0', 'type_keeper_punch_a0', 'type_keeper_pick_up_a0', 'type_clearance_a0', 'type_bad_touch_a0', 'type_non_action_a0', 'type_dribble_a0', 'type_goalkick_a0', 'bodypart_foot_a0', 'bodypart_head_a0', 'bodypart_other_a0', 'bodypart_head/other_a0', 'result_id_a0', 'result_fail_a0', 'result_success_a0', 'result_offside_a0', 'result_owngoal_a0', 'result_yellow_card_a0', 'result_red_card_a0', 'goalscore_team', 'goalscore_opponent', 'goalscore_diff', 'start_x_a0', 'start_y_a0', 'end_x_a0', 'end_y_a0', 'dx_a0', 'dy_a0', 'movement_a0', 'start_dist_to_goal_a0', 'start_angle_to_goal_a0', 'end_dist_to_goal_a0', 'end_angle_to_goal_a0']\n",
      "Y: ['scores', 'concedes']\n"
     ]
    },
    {
     "name": "stderr",
     "output_type": "stream",
     "text": [
      "\n"
     ]
    }
   ],
   "source": [
    "traingames = games\n",
    "testgames = games\n",
    "\n",
    "# 1. Select feature set X\n",
    "xfns = [\n",
    "    fs.actiontype,\n",
    "    fs.actiontype_onehot,\n",
    "    #fs.bodypart,\n",
    "    fs.bodypart_onehot,\n",
    "    fs.result,\n",
    "    fs.result_onehot,\n",
    "    fs.goalscore,\n",
    "    fs.startlocation,\n",
    "    fs.endlocation,\n",
    "    fs.movement,\n",
    "    fs.space_delta,\n",
    "    fs.startpolar,\n",
    "    fs.endpolar,\n",
    "    fs.team,\n",
    "    #fs.time,\n",
    "    fs.time_delta,\n",
    "    #fs.actiontype_result_onehot\n",
    "]\n",
    "nb_prev_actions = 1\n",
    "\n",
    "Xcols = fs.feature_column_names(xfns, nb_prev_actions)\n",
    "\n",
    "def getXY(games,Xcols):\n",
    "    # generate the columns of the selected feature\n",
    "    X = []\n",
    "    for game_id in tqdm.tqdm(games.game_id, desc=\"Selecting features\"):\n",
    "        Xi = pd.read_hdf(features_h5, f\"game_{game_id}\")\n",
    "        X.append(Xi[Xcols])\n",
    "    X = pd.concat(X).reset_index(drop=True)\n",
    "\n",
    "    # 2. Select label Y\n",
    "    Ycols = [\"scores\",\"concedes\"]\n",
    "    Y = []\n",
    "    for game_id in tqdm.tqdm(games.game_id, desc=\"Selecting label\"):\n",
    "        Yi = pd.read_hdf(labels_h5, f\"game_{game_id}\")\n",
    "        Y.append(Yi[Ycols])\n",
    "    Y = pd.concat(Y).reset_index(drop=True)\n",
    "    return X, Y\n",
    "\n",
    "X, Y = getXY(traingames,Xcols)\n",
    "print(\"X:\", list(X.columns))\n",
    "print(\"Y:\", list(Y.columns))"
   ]
  },
  {
   "cell_type": "code",
   "execution_count": 15,
   "metadata": {},
   "outputs": [],
   "source": [
    "# 3. train classifiers F(X) = Y\n",
    "import xgboost\n",
    "\n",
    "Y_hat = pd.DataFrame()\n",
    "models = {}\n",
    "for col in list(Y.columns):\n",
    "    model = xgboost.XGBClassifier(n_estimators=50, max_depth=3, n_jobs=-3, verbosity=1)\n",
    "    model.fit(X, Y[col])\n",
    "    models[col] = model"
   ]
  },
  {
   "cell_type": "code",
   "execution_count": 16,
   "metadata": {},
   "outputs": [
    {
     "name": "stdout",
     "output_type": "stream",
     "text": [
      "### Y: scores ###\n",
      "  Brier score: 0.00892 (0.82964)\n",
      "  log loss score: 0.04513 (0.75268)\n",
      "  ROC AUC: 0.84257\n",
      "### Y: concedes ###\n",
      "  Brier score: 0.00218 (0.88796)\n",
      "  log loss score: 0.01300 (0.75246)\n",
      "  ROC AUC: 0.87791\n"
     ]
    }
   ],
   "source": [
    "from sklearn.metrics import brier_score_loss, roc_auc_score, log_loss\n",
    "\n",
    "testX, testY = X, Y\n",
    "\n",
    "def evaluate(y, y_hat):\n",
    "    p = sum(y) / len(y)\n",
    "    base = [p] * len(y)\n",
    "    brier = brier_score_loss(y, y_hat)\n",
    "    print(f\"  Brier score: %.5f (%.5f)\" % (brier, brier / brier_score_loss(y, base)))\n",
    "    ll = log_loss(y, y_hat)\n",
    "    print(f\"  log loss score: %.5f (%.5f)\" % (ll, ll / log_loss(y, base)))\n",
    "    print(f\"  ROC AUC: %.5f\" % roc_auc_score(y, y_hat))\n",
    "\n",
    "for col in testY.columns:\n",
    "    Y_hat[col] = [p[1] for p in models[col].predict_proba(testX)]\n",
    "    print(f\"### Y: {col} ###\")\n",
    "    evaluate(testY[col], Y_hat[col])\n"
   ]
  },
  {
   "cell_type": "code",
   "execution_count": 17,
   "metadata": {},
   "outputs": [
    {
     "name": "stderr",
     "output_type": "stream",
     "text": [
      "Loading game ids:   0%|          | 0/210 [00:00<?, ?it/s]"
     ]
    },
    {
     "name": "stderr",
     "output_type": "stream",
     "text": [
      "Loading game ids: 100%|██████████| 210/210 [00:03<00:00, 64.52it/s]\n",
      "Saving predictions per game: 100%|██████████| 210/210 [00:09<00:00, 22.43it/s]\n"
     ]
    }
   ],
   "source": [
    "# get rows with game id per action\n",
    "A = []\n",
    "for game_id in tqdm.tqdm(games.game_id, \"Loading game ids\"):\n",
    "    Ai = pd.read_hdf(spadl_h5, f\"actions/game_{game_id}\")\n",
    "    A.append(Ai[[\"game_id\"]])\n",
    "A = pd.concat(A)\n",
    "A = A.reset_index(drop=True)\n",
    "\n",
    "# concatenate action game id rows with predictions and save per game\n",
    "grouped_predictions = pd.concat([A, Y_hat], axis=1).groupby(\"game_id\")\n",
    "for k, df in tqdm.tqdm(grouped_predictions, desc=\"Saving predictions per game\"):\n",
    "    df = df.reset_index(drop=True)\n",
    "    df[Y_hat.columns].to_hdf(predictions_h5, f\"game_{int(k)}\")"
   ]
  },
  {
   "cell_type": "code",
   "execution_count": null,
   "metadata": {},
   "outputs": [],
   "source": []
  },
  {
   "cell_type": "code",
   "execution_count": 18,
   "metadata": {},
   "outputs": [
    {
     "name": "stdout",
     "output_type": "stream",
     "text": [
      "['/competitions', '/games', '/player_games', '/players', '/teams', '/actions/game_3788741', '/actions/game_3788742', '/actions/game_3788743', '/actions/game_3788744', '/actions/game_3788745', '/actions/game_3788746', '/actions/game_3788747', '/actions/game_3788748', '/actions/game_3788749', '/actions/game_3788750', '/actions/game_3788751', '/actions/game_3788752', '/actions/game_3788753', '/actions/game_3788754', '/actions/game_3788755', '/actions/game_3788756', '/actions/game_3788757', '/actions/game_3788758', '/actions/game_3788759', '/actions/game_3788760', '/actions/game_3788761', '/actions/game_3788762', '/actions/game_3788763', '/actions/game_3788764', '/actions/game_3788765', '/actions/game_3788766', '/actions/game_3788767', '/actions/game_3788768', '/actions/game_3788769', '/actions/game_3788770', '/actions/game_3788771', '/actions/game_3788772', '/actions/game_3788773', '/actions/game_3788774', '/actions/game_3788775', '/actions/game_3788776', '/actions/game_3794685', '/actions/game_3794686', '/actions/game_3794687', '/actions/game_3794688', '/actions/game_3794689', '/actions/game_3794690', '/actions/game_3794691', '/actions/game_3794692', '/actions/game_3795107', '/actions/game_3795108', '/actions/game_3795109', '/actions/game_3795187', '/actions/game_3795220', '/actions/game_3795221', '/actions/game_3795506', '/actions/game_3835319', '/actions/game_3835320', '/actions/game_3835321', '/actions/game_3835322', '/actions/game_3835323', '/actions/game_3835324', '/actions/game_3835325', '/actions/game_3835326', '/actions/game_3835327', '/actions/game_3835328', '/actions/game_3835329', '/actions/game_3835330', '/actions/game_3835331', '/actions/game_3835332', '/actions/game_3835333', '/actions/game_3835334', '/actions/game_3835335', '/actions/game_3835336', '/actions/game_3835337', '/actions/game_3835338', '/actions/game_3835339', '/actions/game_3835340', '/actions/game_3835341', '/actions/game_3835342', '/actions/game_3844384', '/actions/game_3844385', '/actions/game_3844386', '/actions/game_3844387', '/actions/game_3845506', '/actions/game_3845507', '/actions/game_3847567', '/actions/game_3857254', '/actions/game_3857255', '/actions/game_3857256', '/actions/game_3857257', '/actions/game_3857258', '/actions/game_3857259', '/actions/game_3857260', '/actions/game_3857261', '/actions/game_3857262', '/actions/game_3857263', '/actions/game_3857264', '/actions/game_3857265', '/actions/game_3857266', '/actions/game_3857267', '/actions/game_3857268', '/actions/game_3857269', '/actions/game_3857270', '/actions/game_3857271', '/actions/game_3857272', '/actions/game_3857273', '/actions/game_3857274', '/actions/game_3857275', '/actions/game_3857276', '/actions/game_3857277', '/actions/game_3857278', '/actions/game_3857279', '/actions/game_3857280', '/actions/game_3857281', '/actions/game_3857282', '/actions/game_3857283', '/actions/game_3857284', '/actions/game_3857285', '/actions/game_3857286', '/actions/game_3857287', '/actions/game_3857288', '/actions/game_3857289', '/actions/game_3857290', '/actions/game_3857291', '/actions/game_3857292', '/actions/game_3857293', '/actions/game_3857294', '/actions/game_3857295', '/actions/game_3857296', '/actions/game_3857297', '/actions/game_3857298', '/actions/game_3857299', '/actions/game_3857300', '/actions/game_3857301', '/actions/game_3869117', '/actions/game_3869118', '/actions/game_3869151', '/actions/game_3869152', '/actions/game_3869219', '/actions/game_3869220', '/actions/game_3869253', '/actions/game_3869254', '/actions/game_3869321', '/actions/game_3869354', '/actions/game_3869420', '/actions/game_3869486', '/actions/game_3869519', '/actions/game_3869552', '/actions/game_3869684', '/actions/game_3869685', '/actions/game_3893787', '/actions/game_3893788', '/actions/game_3893789', '/actions/game_3893790', '/actions/game_3893791', '/actions/game_3893792', '/actions/game_3893793', '/actions/game_3893794', '/actions/game_3893795', '/actions/game_3893796', '/actions/game_3893797', '/actions/game_3893798', '/actions/game_3893799', '/actions/game_3893800', '/actions/game_3893801', '/actions/game_3893802', '/actions/game_3893803', '/actions/game_3893804', '/actions/game_3893805', '/actions/game_3893806', '/actions/game_3893807', '/actions/game_3893808', '/actions/game_3893809', '/actions/game_3893810', '/actions/game_3893811', '/actions/game_3893812', '/actions/game_3893813', '/actions/game_3893814', '/actions/game_3893815', '/actions/game_3893816', '/actions/game_3893817', '/actions/game_3893818', '/actions/game_3893819', '/actions/game_3893820', '/actions/game_3893821', '/actions/game_3893822', '/actions/game_3893823', '/actions/game_3893824', '/actions/game_3893825', '/actions/game_3893826', '/actions/game_3893827', '/actions/game_3893828', '/actions/game_3893829', '/actions/game_3893830', '/actions/game_3893831', '/actions/game_3893832', '/actions/game_3893833', '/actions/game_3893834', '/actions/game_3901733', '/actions/game_3901734', '/actions/game_3901735', '/actions/game_3901736', '/actions/game_3901796', '/actions/game_3901797', '/actions/game_3901832', '/actions/game_3901833', '/actions/game_3902239', '/actions/game_3902240', '/actions/game_3902967', '/actions/game_3902968', '/actions/game_3904628', '/actions/game_3904629', '/actions/game_3906389', '/actions/game_3906390']\n",
      "['/game_3788741', '/game_3788742', '/game_3788743', '/game_3788744', '/game_3788745', '/game_3788746', '/game_3788747', '/game_3788748', '/game_3788749', '/game_3788750', '/game_3788751', '/game_3788752', '/game_3788753', '/game_3788754', '/game_3788755', '/game_3788756', '/game_3788757', '/game_3788758', '/game_3788759', '/game_3788760', '/game_3788761', '/game_3788762', '/game_3788763', '/game_3788764', '/game_3788765', '/game_3788766', '/game_3788767', '/game_3788768', '/game_3788769', '/game_3788770', '/game_3788771', '/game_3788772', '/game_3788773', '/game_3788774', '/game_3788775', '/game_3788776', '/game_3794685', '/game_3794686', '/game_3794687', '/game_3794688', '/game_3794689', '/game_3794690', '/game_3794691', '/game_3794692', '/game_3795107', '/game_3795108', '/game_3795109', '/game_3795187', '/game_3795220', '/game_3795221', '/game_3795506', '/game_3835319', '/game_3835320', '/game_3835321', '/game_3835322', '/game_3835323', '/game_3835324', '/game_3835325', '/game_3835326', '/game_3835327', '/game_3835328', '/game_3835329', '/game_3835330', '/game_3835331', '/game_3835332', '/game_3835333', '/game_3835334', '/game_3835335', '/game_3835336', '/game_3835337', '/game_3835338', '/game_3835339', '/game_3835340', '/game_3835341', '/game_3835342', '/game_3844384', '/game_3844385', '/game_3844386', '/game_3844387', '/game_3845506', '/game_3845507', '/game_3847567', '/game_3857254', '/game_3857255', '/game_3857256', '/game_3857257', '/game_3857258', '/game_3857259', '/game_3857260', '/game_3857261', '/game_3857262', '/game_3857263', '/game_3857264', '/game_3857265', '/game_3857266', '/game_3857267', '/game_3857268', '/game_3857269', '/game_3857270', '/game_3857271', '/game_3857272', '/game_3857273', '/game_3857274', '/game_3857275', '/game_3857276', '/game_3857277', '/game_3857278', '/game_3857279', '/game_3857280', '/game_3857281', '/game_3857282', '/game_3857283', '/game_3857284', '/game_3857285', '/game_3857286', '/game_3857287', '/game_3857288', '/game_3857289', '/game_3857290', '/game_3857291', '/game_3857292', '/game_3857293', '/game_3857294', '/game_3857295', '/game_3857296', '/game_3857297', '/game_3857298', '/game_3857299', '/game_3857300', '/game_3857301', '/game_3869117', '/game_3869118', '/game_3869151', '/game_3869152', '/game_3869219', '/game_3869220', '/game_3869253', '/game_3869254', '/game_3869321', '/game_3869354', '/game_3869420', '/game_3869486', '/game_3869519', '/game_3869552', '/game_3869684', '/game_3869685', '/game_3893787', '/game_3893788', '/game_3893789', '/game_3893790', '/game_3893791', '/game_3893792', '/game_3893793', '/game_3893794', '/game_3893795', '/game_3893796', '/game_3893797', '/game_3893798', '/game_3893799', '/game_3893800', '/game_3893801', '/game_3893802', '/game_3893803', '/game_3893804', '/game_3893805', '/game_3893806', '/game_3893807', '/game_3893808', '/game_3893809', '/game_3893810', '/game_3893811', '/game_3893812', '/game_3893813', '/game_3893814', '/game_3893815', '/game_3893816', '/game_3893817', '/game_3893818', '/game_3893819', '/game_3893820', '/game_3893821', '/game_3893822', '/game_3893823', '/game_3893824', '/game_3893825', '/game_3893826', '/game_3893827', '/game_3893828', '/game_3893829', '/game_3893830', '/game_3893831', '/game_3893832', '/game_3893833', '/game_3893834', '/game_3901733', '/game_3901734', '/game_3901735', '/game_3901736', '/game_3901796', '/game_3901797', '/game_3901832', '/game_3901833', '/game_3902239', '/game_3902240', '/game_3902967', '/game_3902968', '/game_3904628', '/game_3904629', '/game_3906389', '/game_3906390']\n"
     ]
    }
   ],
   "source": [
    "# show spadl_h5\n",
    "with pd.HDFStore(spadl_h5) as spadlstore:\n",
    "    print(spadlstore.keys())\n",
    "\n",
    "# show features_h5\n",
    "with pd.HDFStore(features_h5) as featuresstore:\n",
    "    print(featuresstore.keys())"
   ]
  },
  {
   "cell_type": "code",
   "execution_count": null,
   "metadata": {},
   "outputs": [],
   "source": []
  }
 ],
 "metadata": {
  "kernelspec": {
   "display_name": "dlassign",
   "language": "python",
   "name": "python3"
  },
  "language_info": {
   "codemirror_mode": {
    "name": "ipython",
    "version": 3
   },
   "file_extension": ".py",
   "mimetype": "text/x-python",
   "name": "python",
   "nbconvert_exporter": "python",
   "pygments_lexer": "ipython3",
   "version": "3.9.7"
  },
  "orig_nbformat": 4
 },
 "nbformat": 4,
 "nbformat_minor": 2
}
